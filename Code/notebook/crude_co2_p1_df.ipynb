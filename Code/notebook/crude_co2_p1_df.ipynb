{
 "cells": [
  {
   "cell_type": "code",
   "execution_count": 1,
   "metadata": {},
   "outputs": [],
   "source": [
    "# import libraries\n",
    "import numpy as np\n",
    "import pandas as pd\n",
    "import matplotlib.pyplot as plt\n",
    "import matplotlib\n",
    "import datetime\n",
    "\n",
    "from sklearn.decomposition import PCA\n",
    "from sklearn.preprocessing import StandardScaler\n",
    "\n",
    "import sklearn\n",
    "from sklearn.model_selection import train_test_split\n",
    "from sklearn.linear_model import LinearRegression\n",
    "from sklearn.ensemble import RandomForestClassifier, RandomForestRegressor\n",
    "from sklearn.linear_model import LogisticRegression\n",
    "from sklearn.svm import SVC\n",
    "from sklearn.naive_bayes import GaussianNB\n",
    "from sklearn.preprocessing import PolynomialFeatures\n",
    "from sklearn.pipeline import Pipeline\n",
    "from sklearn.ensemble import GradientBoostingClassifier,GradientBoostingRegressor\n",
    "from xgboost import XGBClassifier\n",
    "from xgboost import XGBRegressor\n",
    "from sklearn.ensemble import AdaBoostClassifier\n",
    "from sklearn.ensemble import AdaBoostRegressor\n",
    "from sklearn.metrics import accuracy_score\n",
    "\n",
    "\n",
    "import tensorflow as tf\n",
    "from tensorflow import keras\n",
    "import seaborn as sbn"
   ]
  },
  {
   "cell_type": "code",
   "execution_count": 2,
   "metadata": {
    "scrolled": false
   },
   "outputs": [
    {
     "data": {
      "text/html": [
       "<div>\n",
       "<style scoped>\n",
       "    .dataframe tbody tr th:only-of-type {\n",
       "        vertical-align: middle;\n",
       "    }\n",
       "\n",
       "    .dataframe tbody tr th {\n",
       "        vertical-align: top;\n",
       "    }\n",
       "\n",
       "    .dataframe thead th {\n",
       "        text-align: right;\n",
       "    }\n",
       "</style>\n",
       "<table border=\"1\" class=\"dataframe\">\n",
       "  <thead>\n",
       "    <tr style=\"text-align: right;\">\n",
       "      <th></th>\n",
       "      <th>week</th>\n",
       "      <th>crude_oil</th>\n",
       "      <th>cpi</th>\n",
       "      <th>coal_consumption</th>\n",
       "      <th>ngas_consumption</th>\n",
       "      <th>us_pop</th>\n",
       "      <th>oil_production</th>\n",
       "      <th>tree_cover_loss</th>\n",
       "      <th>us_real_gdp</th>\n",
       "      <th>co2</th>\n",
       "    </tr>\n",
       "  </thead>\n",
       "  <tbody>\n",
       "    <tr>\n",
       "      <th>0</th>\n",
       "      <td>2001/1/7</td>\n",
       "      <td>27.80</td>\n",
       "      <td>78.645985</td>\n",
       "      <td>96641.56859</td>\n",
       "      <td>9.634759e+05</td>\n",
       "      <td>283960.0</td>\n",
       "      <td>5944</td>\n",
       "      <td>1932323.219</td>\n",
       "      <td>12999.5699</td>\n",
       "      <td>370.30</td>\n",
       "    </tr>\n",
       "    <tr>\n",
       "      <th>1</th>\n",
       "      <td>2001/1/14</td>\n",
       "      <td>28.81</td>\n",
       "      <td>68.158536</td>\n",
       "      <td>89172.96037</td>\n",
       "      <td>9.010023e+05</td>\n",
       "      <td>284011.5</td>\n",
       "      <td>5949</td>\n",
       "      <td>2174659.188</td>\n",
       "      <td>12293.3405</td>\n",
       "      <td>370.67</td>\n",
       "    </tr>\n",
       "    <tr>\n",
       "      <th>2</th>\n",
       "      <td>2001/1/21</td>\n",
       "      <td>30.63</td>\n",
       "      <td>76.149426</td>\n",
       "      <td>100533.68770</td>\n",
       "      <td>1.032450e+06</td>\n",
       "      <td>284063.0</td>\n",
       "      <td>5912</td>\n",
       "      <td>2335532.223</td>\n",
       "      <td>12708.8104</td>\n",
       "      <td>370.52</td>\n",
       "    </tr>\n",
       "    <tr>\n",
       "      <th>3</th>\n",
       "      <td>2001/1/28</td>\n",
       "      <td>31.35</td>\n",
       "      <td>76.116224</td>\n",
       "      <td>101753.62190</td>\n",
       "      <td>8.260147e+05</td>\n",
       "      <td>284114.5</td>\n",
       "      <td>5935</td>\n",
       "      <td>2065545.899</td>\n",
       "      <td>12287.2265</td>\n",
       "      <td>371.36</td>\n",
       "    </tr>\n",
       "    <tr>\n",
       "      <th>4</th>\n",
       "      <td>2001/2/4</td>\n",
       "      <td>29.59</td>\n",
       "      <td>66.693151</td>\n",
       "      <td>61448.50321</td>\n",
       "      <td>7.766296e+05</td>\n",
       "      <td>284166.0</td>\n",
       "      <td>5929</td>\n",
       "      <td>1989475.501</td>\n",
       "      <td>13353.2628</td>\n",
       "      <td>371.58</td>\n",
       "    </tr>\n",
       "    <tr>\n",
       "      <th>...</th>\n",
       "      <td>...</td>\n",
       "      <td>...</td>\n",
       "      <td>...</td>\n",
       "      <td>...</td>\n",
       "      <td>...</td>\n",
       "      <td>...</td>\n",
       "      <td>...</td>\n",
       "      <td>...</td>\n",
       "      <td>...</td>\n",
       "      <td>...</td>\n",
       "    </tr>\n",
       "    <tr>\n",
       "      <th>412</th>\n",
       "      <td>2008/11/30</td>\n",
       "      <td>53.27</td>\n",
       "      <td>99.238162</td>\n",
       "      <td>93144.23857</td>\n",
       "      <td>4.333457e+05</td>\n",
       "      <td>305785.6</td>\n",
       "      <td>5118</td>\n",
       "      <td>2254337.427</td>\n",
       "      <td>15451.9032</td>\n",
       "      <td>385.05</td>\n",
       "    </tr>\n",
       "    <tr>\n",
       "      <th>413</th>\n",
       "      <td>2008/12/7</td>\n",
       "      <td>45.60</td>\n",
       "      <td>82.367875</td>\n",
       "      <td>93097.53674</td>\n",
       "      <td>9.989935e+05</td>\n",
       "      <td>305827.0</td>\n",
       "      <td>5152</td>\n",
       "      <td>2031384.867</td>\n",
       "      <td>15362.3704</td>\n",
       "      <td>385.29</td>\n",
       "    </tr>\n",
       "    <tr>\n",
       "      <th>414</th>\n",
       "      <td>2008/12/14</td>\n",
       "      <td>44.57</td>\n",
       "      <td>96.265108</td>\n",
       "      <td>96031.18996</td>\n",
       "      <td>5.635120e+05</td>\n",
       "      <td>305879.0</td>\n",
       "      <td>4967</td>\n",
       "      <td>2397440.218</td>\n",
       "      <td>14770.9146</td>\n",
       "      <td>385.54</td>\n",
       "    </tr>\n",
       "    <tr>\n",
       "      <th>415</th>\n",
       "      <td>2008/12/21</td>\n",
       "      <td>39.70</td>\n",
       "      <td>92.911057</td>\n",
       "      <td>94626.38776</td>\n",
       "      <td>7.542331e+05</td>\n",
       "      <td>305931.0</td>\n",
       "      <td>4972</td>\n",
       "      <td>2535053.244</td>\n",
       "      <td>15966.6992</td>\n",
       "      <td>385.93</td>\n",
       "    </tr>\n",
       "    <tr>\n",
       "      <th>416</th>\n",
       "      <td>2008/12/28</td>\n",
       "      <td>32.98</td>\n",
       "      <td>94.417737</td>\n",
       "      <td>81948.20379</td>\n",
       "      <td>7.034964e+05</td>\n",
       "      <td>305983.0</td>\n",
       "      <td>4979</td>\n",
       "      <td>2044910.611</td>\n",
       "      <td>15333.0495</td>\n",
       "      <td>386.23</td>\n",
       "    </tr>\n",
       "  </tbody>\n",
       "</table>\n",
       "<p>417 rows × 10 columns</p>\n",
       "</div>"
      ],
      "text/plain": [
       "           week  crude_oil        cpi  coal_consumption  ngas_consumption  \\\n",
       "0      2001/1/7      27.80  78.645985       96641.56859      9.634759e+05   \n",
       "1     2001/1/14      28.81  68.158536       89172.96037      9.010023e+05   \n",
       "2     2001/1/21      30.63  76.149426      100533.68770      1.032450e+06   \n",
       "3     2001/1/28      31.35  76.116224      101753.62190      8.260147e+05   \n",
       "4      2001/2/4      29.59  66.693151       61448.50321      7.766296e+05   \n",
       "..          ...        ...        ...               ...               ...   \n",
       "412  2008/11/30      53.27  99.238162       93144.23857      4.333457e+05   \n",
       "413   2008/12/7      45.60  82.367875       93097.53674      9.989935e+05   \n",
       "414  2008/12/14      44.57  96.265108       96031.18996      5.635120e+05   \n",
       "415  2008/12/21      39.70  92.911057       94626.38776      7.542331e+05   \n",
       "416  2008/12/28      32.98  94.417737       81948.20379      7.034964e+05   \n",
       "\n",
       "       us_pop  oil_production  tree_cover_loss  us_real_gdp     co2  \n",
       "0    283960.0            5944      1932323.219   12999.5699  370.30  \n",
       "1    284011.5            5949      2174659.188   12293.3405  370.67  \n",
       "2    284063.0            5912      2335532.223   12708.8104  370.52  \n",
       "3    284114.5            5935      2065545.899   12287.2265  371.36  \n",
       "4    284166.0            5929      1989475.501   13353.2628  371.58  \n",
       "..        ...             ...              ...          ...     ...  \n",
       "412  305785.6            5118      2254337.427   15451.9032  385.05  \n",
       "413  305827.0            5152      2031384.867   15362.3704  385.29  \n",
       "414  305879.0            4967      2397440.218   14770.9146  385.54  \n",
       "415  305931.0            4972      2535053.244   15966.6992  385.93  \n",
       "416  305983.0            4979      2044910.611   15333.0495  386.23  \n",
       "\n",
       "[417 rows x 10 columns]"
      ]
     },
     "execution_count": 2,
     "metadata": {},
     "output_type": "execute_result"
    }
   ],
   "source": [
    "# import data TODO: Change the file path to the dataset this question needed\n",
    "df = pd.read_csv('..\\\\source_data\\\\crude_co2_p1_df.csv')\n",
    "df"
   ]
  },
  {
   "cell_type": "markdown",
   "metadata": {},
   "source": [
    "# Creating independent and dependent variables "
   ]
  },
  {
   "cell_type": "code",
   "execution_count": 3,
   "metadata": {},
   "outputs": [
    {
     "data": {
      "text/html": [
       "<div>\n",
       "<style scoped>\n",
       "    .dataframe tbody tr th:only-of-type {\n",
       "        vertical-align: middle;\n",
       "    }\n",
       "\n",
       "    .dataframe tbody tr th {\n",
       "        vertical-align: top;\n",
       "    }\n",
       "\n",
       "    .dataframe thead th {\n",
       "        text-align: right;\n",
       "    }\n",
       "</style>\n",
       "<table border=\"1\" class=\"dataframe\">\n",
       "  <thead>\n",
       "    <tr style=\"text-align: right;\">\n",
       "      <th></th>\n",
       "      <th>week</th>\n",
       "      <th>crude_oil</th>\n",
       "      <th>cpi</th>\n",
       "      <th>coal_consumption</th>\n",
       "      <th>ngas_consumption</th>\n",
       "      <th>us_pop</th>\n",
       "      <th>oil_production</th>\n",
       "      <th>tree_cover_loss</th>\n",
       "      <th>us_real_gdp</th>\n",
       "      <th>co2</th>\n",
       "      <th>of_chg_1</th>\n",
       "      <th>of_chg_2</th>\n",
       "      <th>of_chg_3</th>\n",
       "      <th>of_chg_5</th>\n",
       "      <th>of_chg_10</th>\n",
       "      <th>co2_chg</th>\n",
       "    </tr>\n",
       "  </thead>\n",
       "  <tbody>\n",
       "    <tr>\n",
       "      <th>11</th>\n",
       "      <td>2001/3/25</td>\n",
       "      <td>26.42</td>\n",
       "      <td>71.870113</td>\n",
       "      <td>74962.95365</td>\n",
       "      <td>624013.0521</td>\n",
       "      <td>284546.5</td>\n",
       "      <td>5868</td>\n",
       "      <td>1728742.189</td>\n",
       "      <td>11982.2289</td>\n",
       "      <td>372.40</td>\n",
       "      <td>-0.022206</td>\n",
       "      <td>-0.071353</td>\n",
       "      <td>-0.053386</td>\n",
       "      <td>-0.109538</td>\n",
       "      <td>-0.082957</td>\n",
       "      <td>-0.000376</td>\n",
       "    </tr>\n",
       "    <tr>\n",
       "      <th>12</th>\n",
       "      <td>2001/4/1</td>\n",
       "      <td>26.86</td>\n",
       "      <td>74.862456</td>\n",
       "      <td>90444.57488</td>\n",
       "      <td>614474.9072</td>\n",
       "      <td>284602.0</td>\n",
       "      <td>5883</td>\n",
       "      <td>2248741.369</td>\n",
       "      <td>13936.6979</td>\n",
       "      <td>372.45</td>\n",
       "      <td>0.016654</td>\n",
       "      <td>-0.005922</td>\n",
       "      <td>-0.055888</td>\n",
       "      <td>-0.062478</td>\n",
       "      <td>-0.123082</td>\n",
       "      <td>0.000134</td>\n",
       "    </tr>\n",
       "    <tr>\n",
       "      <th>13</th>\n",
       "      <td>2001/4/8</td>\n",
       "      <td>26.76</td>\n",
       "      <td>67.840486</td>\n",
       "      <td>71861.08162</td>\n",
       "      <td>436068.6622</td>\n",
       "      <td>284648.4</td>\n",
       "      <td>5867</td>\n",
       "      <td>1724128.479</td>\n",
       "      <td>12809.3245</td>\n",
       "      <td>373.61</td>\n",
       "      <td>-0.003723</td>\n",
       "      <td>0.012869</td>\n",
       "      <td>-0.009623</td>\n",
       "      <td>-0.041204</td>\n",
       "      <td>-0.146411</td>\n",
       "      <td>0.003115</td>\n",
       "    </tr>\n",
       "    <tr>\n",
       "      <th>14</th>\n",
       "      <td>2001/4/15</td>\n",
       "      <td>28.27</td>\n",
       "      <td>82.229017</td>\n",
       "      <td>76914.86811</td>\n",
       "      <td>449159.7901</td>\n",
       "      <td>284694.8</td>\n",
       "      <td>5855</td>\n",
       "      <td>1956950.159</td>\n",
       "      <td>13474.2006</td>\n",
       "      <td>373.71</td>\n",
       "      <td>0.056428</td>\n",
       "      <td>0.052494</td>\n",
       "      <td>0.070023</td>\n",
       "      <td>-0.006327</td>\n",
       "      <td>-0.044610</td>\n",
       "      <td>0.000268</td>\n",
       "    </tr>\n",
       "    <tr>\n",
       "      <th>15</th>\n",
       "      <td>2001/4/22</td>\n",
       "      <td>27.89</td>\n",
       "      <td>76.824931</td>\n",
       "      <td>73912.39968</td>\n",
       "      <td>-37896.8606</td>\n",
       "      <td>284741.2</td>\n",
       "      <td>5861</td>\n",
       "      <td>1366131.633</td>\n",
       "      <td>13236.2220</td>\n",
       "      <td>373.60</td>\n",
       "      <td>-0.013442</td>\n",
       "      <td>0.042227</td>\n",
       "      <td>0.038347</td>\n",
       "      <td>0.032198</td>\n",
       "      <td>-0.097995</td>\n",
       "      <td>-0.000294</td>\n",
       "    </tr>\n",
       "    <tr>\n",
       "      <th>...</th>\n",
       "      <td>...</td>\n",
       "      <td>...</td>\n",
       "      <td>...</td>\n",
       "      <td>...</td>\n",
       "      <td>...</td>\n",
       "      <td>...</td>\n",
       "      <td>...</td>\n",
       "      <td>...</td>\n",
       "      <td>...</td>\n",
       "      <td>...</td>\n",
       "      <td>...</td>\n",
       "      <td>...</td>\n",
       "      <td>...</td>\n",
       "      <td>...</td>\n",
       "      <td>...</td>\n",
       "      <td>...</td>\n",
       "    </tr>\n",
       "    <tr>\n",
       "      <th>412</th>\n",
       "      <td>2008/11/30</td>\n",
       "      <td>53.27</td>\n",
       "      <td>99.238162</td>\n",
       "      <td>93144.23857</td>\n",
       "      <td>433345.7100</td>\n",
       "      <td>305785.6</td>\n",
       "      <td>5118</td>\n",
       "      <td>2254337.427</td>\n",
       "      <td>15451.9032</td>\n",
       "      <td>385.05</td>\n",
       "      <td>0.019326</td>\n",
       "      <td>-0.090956</td>\n",
       "      <td>-0.171668</td>\n",
       "      <td>-0.223016</td>\n",
       "      <td>-0.451898</td>\n",
       "      <td>0.001456</td>\n",
       "    </tr>\n",
       "    <tr>\n",
       "      <th>413</th>\n",
       "      <td>2008/12/7</td>\n",
       "      <td>45.60</td>\n",
       "      <td>82.367875</td>\n",
       "      <td>93097.53674</td>\n",
       "      <td>998993.4526</td>\n",
       "      <td>305827.0</td>\n",
       "      <td>5152</td>\n",
       "      <td>2031384.867</td>\n",
       "      <td>15362.3704</td>\n",
       "      <td>385.29</td>\n",
       "      <td>-0.143983</td>\n",
       "      <td>-0.127440</td>\n",
       "      <td>-0.221843</td>\n",
       "      <td>-0.300721</td>\n",
       "      <td>-0.589633</td>\n",
       "      <td>0.000623</td>\n",
       "    </tr>\n",
       "    <tr>\n",
       "      <th>414</th>\n",
       "      <td>2008/12/14</td>\n",
       "      <td>44.57</td>\n",
       "      <td>96.265108</td>\n",
       "      <td>96031.18996</td>\n",
       "      <td>563512.0399</td>\n",
       "      <td>305879.0</td>\n",
       "      <td>4967</td>\n",
       "      <td>2397440.218</td>\n",
       "      <td>14770.9146</td>\n",
       "      <td>385.54</td>\n",
       "      <td>-0.022588</td>\n",
       "      <td>-0.163319</td>\n",
       "      <td>-0.147149</td>\n",
       "      <td>-0.306951</td>\n",
       "      <td>-0.538565</td>\n",
       "      <td>0.000649</td>\n",
       "    </tr>\n",
       "    <tr>\n",
       "      <th>415</th>\n",
       "      <td>2008/12/21</td>\n",
       "      <td>39.70</td>\n",
       "      <td>92.911057</td>\n",
       "      <td>94626.38776</td>\n",
       "      <td>754233.0514</td>\n",
       "      <td>305931.0</td>\n",
       "      <td>4972</td>\n",
       "      <td>2535053.244</td>\n",
       "      <td>15966.6992</td>\n",
       "      <td>385.93</td>\n",
       "      <td>-0.109266</td>\n",
       "      <td>-0.129386</td>\n",
       "      <td>-0.254740</td>\n",
       "      <td>-0.322526</td>\n",
       "      <td>-0.539657</td>\n",
       "      <td>0.001012</td>\n",
       "    </tr>\n",
       "    <tr>\n",
       "      <th>416</th>\n",
       "      <td>2008/12/28</td>\n",
       "      <td>32.98</td>\n",
       "      <td>94.417737</td>\n",
       "      <td>81948.20379</td>\n",
       "      <td>703496.4321</td>\n",
       "      <td>305983.0</td>\n",
       "      <td>4979</td>\n",
       "      <td>2044910.611</td>\n",
       "      <td>15333.0495</td>\n",
       "      <td>386.23</td>\n",
       "      <td>-0.169270</td>\n",
       "      <td>-0.260040</td>\n",
       "      <td>-0.276754</td>\n",
       "      <td>-0.368925</td>\n",
       "      <td>-0.561378</td>\n",
       "      <td>0.000777</td>\n",
       "    </tr>\n",
       "  </tbody>\n",
       "</table>\n",
       "<p>406 rows × 16 columns</p>\n",
       "</div>"
      ],
      "text/plain": [
       "           week  crude_oil        cpi  coal_consumption  ngas_consumption  \\\n",
       "11    2001/3/25      26.42  71.870113       74962.95365       624013.0521   \n",
       "12     2001/4/1      26.86  74.862456       90444.57488       614474.9072   \n",
       "13     2001/4/8      26.76  67.840486       71861.08162       436068.6622   \n",
       "14    2001/4/15      28.27  82.229017       76914.86811       449159.7901   \n",
       "15    2001/4/22      27.89  76.824931       73912.39968       -37896.8606   \n",
       "..          ...        ...        ...               ...               ...   \n",
       "412  2008/11/30      53.27  99.238162       93144.23857       433345.7100   \n",
       "413   2008/12/7      45.60  82.367875       93097.53674       998993.4526   \n",
       "414  2008/12/14      44.57  96.265108       96031.18996       563512.0399   \n",
       "415  2008/12/21      39.70  92.911057       94626.38776       754233.0514   \n",
       "416  2008/12/28      32.98  94.417737       81948.20379       703496.4321   \n",
       "\n",
       "       us_pop  oil_production  tree_cover_loss  us_real_gdp     co2  of_chg_1  \\\n",
       "11   284546.5            5868      1728742.189   11982.2289  372.40 -0.022206   \n",
       "12   284602.0            5883      2248741.369   13936.6979  372.45  0.016654   \n",
       "13   284648.4            5867      1724128.479   12809.3245  373.61 -0.003723   \n",
       "14   284694.8            5855      1956950.159   13474.2006  373.71  0.056428   \n",
       "15   284741.2            5861      1366131.633   13236.2220  373.60 -0.013442   \n",
       "..        ...             ...              ...          ...     ...       ...   \n",
       "412  305785.6            5118      2254337.427   15451.9032  385.05  0.019326   \n",
       "413  305827.0            5152      2031384.867   15362.3704  385.29 -0.143983   \n",
       "414  305879.0            4967      2397440.218   14770.9146  385.54 -0.022588   \n",
       "415  305931.0            4972      2535053.244   15966.6992  385.93 -0.109266   \n",
       "416  305983.0            4979      2044910.611   15333.0495  386.23 -0.169270   \n",
       "\n",
       "     of_chg_2  of_chg_3  of_chg_5  of_chg_10   co2_chg  \n",
       "11  -0.071353 -0.053386 -0.109538  -0.082957 -0.000376  \n",
       "12  -0.005922 -0.055888 -0.062478  -0.123082  0.000134  \n",
       "13   0.012869 -0.009623 -0.041204  -0.146411  0.003115  \n",
       "14   0.052494  0.070023 -0.006327  -0.044610  0.000268  \n",
       "15   0.042227  0.038347  0.032198  -0.097995 -0.000294  \n",
       "..        ...       ...       ...        ...       ...  \n",
       "412 -0.090956 -0.171668 -0.223016  -0.451898  0.001456  \n",
       "413 -0.127440 -0.221843 -0.300721  -0.589633  0.000623  \n",
       "414 -0.163319 -0.147149 -0.306951  -0.538565  0.000649  \n",
       "415 -0.129386 -0.254740 -0.322526  -0.539657  0.001012  \n",
       "416 -0.260040 -0.276754 -0.368925  -0.561378  0.000777  \n",
       "\n",
       "[406 rows x 16 columns]"
      ]
     },
     "execution_count": 3,
     "metadata": {},
     "output_type": "execute_result"
    }
   ],
   "source": [
    "# calculate independent variables\n",
    "periods = (1,2,3,5,10)\n",
    "for i in periods:\n",
    "    df['of_chg_{}'.format(i)] = df['crude_oil'].pct_change(periods = i)\n",
    "    \n",
    "# calculate dependent variable\n",
    "df['co2_chg'] = df['co2'].pct_change(periods=1)\n",
    "\n",
    "# eliminate the empty rows\n",
    "df = df[11:]\n",
    "df"
   ]
  },
  {
   "cell_type": "markdown",
   "metadata": {},
   "source": [
    "# Seperating training, validation, and test datasets"
   ]
  },
  {
   "cell_type": "code",
   "execution_count": 4,
   "metadata": {},
   "outputs": [
    {
     "data": {
      "text/plain": [
       "array([[ 2.64200000e+01, -2.22057735e-02, -7.13532513e-02, ...,\n",
       "         5.86800000e+03,  1.72874219e+06,  1.19822289e+04],\n",
       "       [ 2.68600000e+01,  1.66540500e-02, -5.92153960e-03, ...,\n",
       "         5.88300000e+03,  2.24874137e+06,  1.39366979e+04],\n",
       "       [ 2.67600000e+01, -3.72300819e-03,  1.28690386e-02, ...,\n",
       "         5.86700000e+03,  1.72412848e+06,  1.28093245e+04],\n",
       "       ...,\n",
       "       [ 4.45700000e+01, -2.25877193e-02, -1.63318941e-01, ...,\n",
       "         4.96700000e+03,  2.39744022e+06,  1.47709146e+04],\n",
       "       [ 3.97000000e+01, -1.09266323e-01, -1.29385965e-01, ...,\n",
       "         4.97200000e+03,  2.53505324e+06,  1.59666992e+04],\n",
       "       [ 3.29800000e+01, -1.69269521e-01, -2.60040386e-01, ...,\n",
       "         4.97900000e+03,  2.04491061e+06,  1.53330495e+04]])"
      ]
     },
     "execution_count": 4,
     "metadata": {},
     "output_type": "execute_result"
    }
   ],
   "source": [
    "# create list of independent variable's name TODO: add the appropriate variable names to the list\n",
    "ind_var_name = ['of_chg_{}'.format(i) for i in periods]+['cpi','coal_consumption','ngas_consumption',\n",
    "                                                         'us_pop','oil_production','tree_cover_loss','us_real_gdp']\n",
    "num_var =len(ind_var_name) # put number of variables here\n",
    "\n",
    "# extract the values to X\n",
    "X = df[['crude_oil'] + ind_var_name].values\n",
    "X"
   ]
  },
  {
   "cell_type": "code",
   "execution_count": 5,
   "metadata": {},
   "outputs": [
    {
     "data": {
      "text/plain": [
       "((406, 13), (406,), (406,))"
      ]
     },
     "execution_count": 5,
     "metadata": {},
     "output_type": "execute_result"
    }
   ],
   "source": [
    "# create y for regressor, y_c for classifier\n",
    "y = df['co2_chg']\n",
    "y_c = (df['co2_chg'] > 0).values.astype('int')\n",
    "\n",
    "# set training, validation, and test criterias\n",
    "training_ratio = 0.7\n",
    "validation_ratio = 0.15\n",
    "test_ratio = 0.15\n",
    "\n",
    "# check correctness of X and y\n",
    "X.shape, y.shape, y_c.shape"
   ]
  },
  {
   "cell_type": "code",
   "execution_count": 6,
   "metadata": {},
   "outputs": [
    {
     "name": "stdout",
     "output_type": "stream",
     "text": [
      "X_train shape:\t (284, 13)\n",
      "X_test shape:\t (61, 13)\n",
      "X_val shape:\t (61, 13)\n",
      "y_train shape:\t (284,)\n",
      "y_val shape:\t (61,)\n",
      "y_test shape:\t (61,)\n"
     ]
    }
   ],
   "source": [
    "# create training, validation, and test sets for regressor\n",
    "X_train, X_test, y_train, y_test = train_test_split(X, y, test_size = test_ratio, random_state = 42)\n",
    "X_train, X_val, y_train, y_val = train_test_split(X_train, y_train, test_size = validation_ratio/(validation_ratio + training_ratio), random_state = 42)\n",
    "print(\"X_train shape:\\t\", X_train.shape)\n",
    "print(\"X_test shape:\\t\", X_test.shape)\n",
    "print(\"X_val shape:\\t\", X_val.shape)\n",
    "print(\"y_train shape:\\t\", y_train.shape)\n",
    "print(\"y_val shape:\\t\", y_val.shape)\n",
    "print(\"y_test shape:\\t\", y_test.shape)"
   ]
  },
  {
   "cell_type": "code",
   "execution_count": 7,
   "metadata": {},
   "outputs": [
    {
     "name": "stdout",
     "output_type": "stream",
     "text": [
      "X_train_c shape: (284, 13)\n",
      "X_test_c shape:\t (61, 13)\n",
      "X_val_c shape:\t (61, 13)\n",
      "y_train_c shape: (284,)\n",
      "y_val_c shape:\t (61,)\n",
      "y_test_c shape:\t (61,)\n"
     ]
    }
   ],
   "source": [
    "# create training, validation, and test sets for classifier\n",
    "X_train_c, X_test_c, y_train_c, y_test_c = train_test_split(X, y_c, test_size = test_ratio, random_state = 42)\n",
    "X_train_c, X_val_c, y_train_c, y_val_c = train_test_split(X_train_c, y_train_c, test_size = validation_ratio/(validation_ratio + training_ratio), random_state = 42)\n",
    "print(\"X_train_c shape:\", X_train_c.shape)\n",
    "print(\"X_test_c shape:\\t\", X_test_c.shape)\n",
    "print(\"X_val_c shape:\\t\", X_val_c.shape)\n",
    "print(\"y_train_c shape:\", y_train_c.shape)\n",
    "print(\"y_val_c shape:\\t\", y_val_c.shape)\n",
    "print(\"y_test_c shape:\\t\", y_test_c.shape)"
   ]
  },
  {
   "cell_type": "markdown",
   "metadata": {},
   "source": [
    "# Principal Component Analysis (PCA)"
   ]
  },
  {
   "cell_type": "code",
   "execution_count": 8,
   "metadata": {
    "scrolled": false
   },
   "outputs": [
    {
     "name": "stdout",
     "output_type": "stream",
     "text": [
      "X_train shape:\t (284, 13)\n",
      "X_val shape:\t (61, 13)\n"
     ]
    }
   ],
   "source": [
    "# normalization for regressor set\n",
    "for i in range(X_train.shape[1]):\n",
    "    X_train_mean = X_train[:, i]. mean()\n",
    "    X_train_std = X_train[:, i].std()\n",
    "    X_train[:, i] = (X_train[:,i] - X_train_mean) / X_train_std\n",
    "    X_test[:,i] = (X_test[:,i] - X_train_mean) / X_train_std\n",
    "    X_val[:, i] = (X_val[:,i] - X_train_mean) / X_train_std\n",
    "\n",
    "print(\"X_train shape:\\t\", X_train.shape)\n",
    "print(\"X_val shape:\\t\", X_val.shape)"
   ]
  },
  {
   "cell_type": "code",
   "execution_count": 9,
   "metadata": {
    "scrolled": false
   },
   "outputs": [
    {
     "name": "stdout",
     "output_type": "stream",
     "text": [
      "X_train_c shape: (284, 13)\n",
      "X_val_c shape:\t (61, 13)\n"
     ]
    }
   ],
   "source": [
    "# normalization for classifier set\n",
    "for i in range(X_train_c.shape[1]):\n",
    "    X_train_c_mean = X_train_c[:, i]. mean()\n",
    "    X_train_c_std = X_train_c[:, i].std()\n",
    "    X_train_c[:, i] = (X_train_c[:,i] - X_train_c_mean) / X_train_c_std\n",
    "    X_test_c[:,i] = (X_test_c[:,i] - X_train_c_mean) / X_train_c_std\n",
    "    X_val_c[:, i] = (X_val_c[:,i] - X_train_c_mean) / X_train_c_std\n",
    "\n",
    "print(\"X_train_c shape:\", X_train_c.shape)\n",
    "print(\"X_val_c shape:\\t\", X_val_c.shape)"
   ]
  },
  {
   "cell_type": "code",
   "execution_count": 10,
   "metadata": {},
   "outputs": [
    {
     "name": "stdout",
     "output_type": "stream",
     "text": [
      "X_train_pca shape:\t (284, 9)\n",
      "X_test_pca shape:\t (61, 9)\n",
      "X_val_pca shape:\t (61, 9)\n",
      "y_train shape:\t (284,)\n",
      "y_val shape:\t (61,)\n",
      "y_test shape:\t (61,)\n"
     ]
    }
   ],
   "source": [
    "# PCA for regressor\n",
    "# fit on training set\n",
    "scaler = StandardScaler()\n",
    "scaler.fit(X_train)\n",
    "\n",
    "# apply transform to training and test set\n",
    "X_train_pca = scaler.transform(X_train)\n",
    "X_test_pca = scaler.transform(X_test)\n",
    "X_val_pca = scaler.transform(X_val)\n",
    "\n",
    "# set PCA value\n",
    "pca = PCA(0.95)\n",
    "\n",
    "# fit PCA training set\n",
    "pca.fit(X_train_pca)\n",
    "\n",
    "# apply transform to training and test set\n",
    "X_train_pca = pca.transform(X_train_pca)\n",
    "X_test_pca = pca.transform(X_test_pca)\n",
    "X_val_pca = pca.transform(X_val_pca)\n",
    "print(\"X_train_pca shape:\\t\", X_train_pca.shape)\n",
    "print(\"X_test_pca shape:\\t\", X_test_pca.shape)\n",
    "print(\"X_val_pca shape:\\t\", X_val_pca.shape)\n",
    "print(\"y_train shape:\\t\", y_train.shape)\n",
    "print(\"y_val shape:\\t\", y_val.shape)\n",
    "print(\"y_test shape:\\t\", y_test.shape)"
   ]
  },
  {
   "cell_type": "code",
   "execution_count": 11,
   "metadata": {},
   "outputs": [
    {
     "name": "stdout",
     "output_type": "stream",
     "text": [
      "X_train_c_pca shape:\t (284, 9)\n",
      "X_test_c_pca shape:\t (61, 9)\n",
      "X_val_c_pca shape:\t (61, 9)\n",
      "y_train_c shape: (284,)\n",
      "y_val_c shape:\t (61,)\n",
      "y_test_c shape:\t (61,)\n"
     ]
    }
   ],
   "source": [
    "# PCA for classifier\n",
    "# fit on training set_c\n",
    "scaler = StandardScaler()\n",
    "scaler.fit(X_train_c)\n",
    "\n",
    "# apply transform to training and test set\n",
    "X_train_c_pca = scaler.transform(X_train_c)\n",
    "X_test_c_pca = scaler.transform(X_test_c)\n",
    "X_val_c_pca = scaler.transform(X_val_c)\n",
    "\n",
    "# set PCA value\n",
    "pca = PCA(0.95)\n",
    "\n",
    "# fit PCA training set\n",
    "pca.fit(X_train_c_pca)\n",
    "\n",
    "# apply transform to training and test set\n",
    "X_train_c_pca = pca.transform(X_train_c_pca)\n",
    "X_test_c_pca = pca.transform(X_test_c_pca)\n",
    "X_val_c_pca = pca.transform(X_val_c_pca)\n",
    "print(\"X_train_c_pca shape:\\t\", X_train_c_pca.shape)\n",
    "print(\"X_test_c_pca shape:\\t\", X_test_c_pca.shape)\n",
    "print(\"X_val_c_pca shape:\\t\", X_val_c_pca.shape)\n",
    "print(\"y_train_c shape:\", y_train_c.shape)\n",
    "print(\"y_val_c shape:\\t\", y_val_c.shape)\n",
    "print(\"y_test_c shape:\\t\", y_test_c.shape)"
   ]
  },
  {
   "cell_type": "code",
   "execution_count": 12,
   "metadata": {},
   "outputs": [
    {
     "data": {
      "text/plain": [
       "9"
      ]
     },
     "execution_count": 12,
     "metadata": {},
     "output_type": "execute_result"
    }
   ],
   "source": [
    "num_var = X_train_c_pca.shape[1]\n",
    "num_var"
   ]
  },
  {
   "cell_type": "markdown",
   "metadata": {},
   "source": [
    "# Multiple linear regression"
   ]
  },
  {
   "cell_type": "code",
   "execution_count": 13,
   "metadata": {},
   "outputs": [
    {
     "name": "stdout",
     "output_type": "stream",
     "text": [
      "score_multiple_reg: 0.0477\n"
     ]
    }
   ],
   "source": [
    "multiple_reg = LinearRegression().fit(X_train_pca, y_train)\n",
    "score_multiple_reg = multiple_reg.score(X_test_pca, y_test)\n",
    "print('score_multiple_reg:', \"%.4f\"%score_multiple_reg)"
   ]
  },
  {
   "cell_type": "markdown",
   "metadata": {},
   "source": [
    "# Multiple polynomial regression"
   ]
  },
  {
   "cell_type": "code",
   "execution_count": 14,
   "metadata": {},
   "outputs": [
    {
     "data": {
      "text/plain": [
       "0.04767658762467197"
      ]
     },
     "execution_count": 14,
     "metadata": {},
     "output_type": "execute_result"
    }
   ],
   "source": [
    "#to prove this is the correct polynomial regression, set degree to 1\n",
    "poly = PolynomialFeatures(1)\n",
    "# polynomial transform\n",
    "X_train_poly = poly.fit_transform(X_train_pca, y_train)\n",
    "X_val_poly = poly.fit_transform(X_val_pca,y_val)\n",
    "X_test_poly = poly.fit_transform(X_test_pca,y_test)\n",
    "\n",
    "# fit to linear regression\n",
    "polyreg = LinearRegression().fit(X_train_poly, y_train)\n",
    "\n",
    "# predict using liear regression\n",
    "score_poly_reg = polyreg.score(X_test_poly, y_test)\n",
    "score_poly_reg"
   ]
  },
  {
   "cell_type": "code",
   "execution_count": 15,
   "metadata": {
    "scrolled": false
   },
   "outputs": [
    {
     "name": "stdout",
     "output_type": "stream",
     "text": [
      "score_poly_reg, degree 2 : -0.0903\n",
      "score_poly_reg, degree 3 : -16.1756\n",
      "score_poly_reg, degree 4 : -37.6736\n",
      "score_poly_reg, degree 5 : -159.7892\n",
      "max degree: 2\n"
     ]
    }
   ],
   "source": [
    "# use val to find the appropriate degree\n",
    "mpr = dict()\n",
    "for i in range(2,6):\n",
    "    degree=i\n",
    "    poly = PolynomialFeatures(degree)\n",
    "    # polynomial transform\n",
    "    X_train_poly = poly.fit_transform(X_train_pca, y_train)\n",
    "    X_val_poly = poly.fit_transform(X_val_pca,y_val)\n",
    "    X_test_poly = poly.fit_transform(X_test_pca,y_test)\n",
    "\n",
    "    # fit to linear regression\n",
    "    polyreg = LinearRegression().fit(X_train_poly, y_train)\n",
    "\n",
    "    # predict using liear regression\n",
    "    score_poly_reg = polyreg.score(X_val_poly, y_val)\n",
    "    print('score_poly_reg, degree',i,':', \"%.4f\"%score_poly_reg)\n",
    "    mpr[f'{i}'] = score_poly_reg\n",
    "    \n",
    "max_degree = max(mpr, key = mpr.get)\n",
    "print('max degree:', max_degree)"
   ]
  },
  {
   "cell_type": "code",
   "execution_count": 16,
   "metadata": {},
   "outputs": [
    {
     "data": {
      "text/plain": [
       "-0.04689632794147669"
      ]
     },
     "execution_count": 16,
     "metadata": {},
     "output_type": "execute_result"
    }
   ],
   "source": [
    "poly = PolynomialFeatures(int(max_degree))\n",
    "# polynomial transform\n",
    "X_train_poly = poly.fit_transform(X_train_pca, y_train)\n",
    "X_val_poly = poly.fit_transform(X_val_pca,y_val)\n",
    "X_test_poly = poly.fit_transform(X_test_pca,y_test)\n",
    "\n",
    "# fit to linear regression\n",
    "polyreg = LinearRegression().fit(X_train_poly, y_train)\n",
    "\n",
    "# predict using liear regression\n",
    "score_poly_reg = polyreg.score(X_test_poly, y_test)\n",
    "score_poly_reg"
   ]
  },
  {
   "cell_type": "markdown",
   "metadata": {},
   "source": [
    "# Random forest classifier"
   ]
  },
  {
   "cell_type": "code",
   "execution_count": 17,
   "metadata": {},
   "outputs": [
    {
     "name": "stdout",
     "output_type": "stream",
     "text": [
      "max depth: 2\n"
     ]
    }
   ],
   "source": [
    "# testing for different max depth\n",
    "rfc = dict()\n",
    "for i in range (1, 15):\n",
    "    clf = RandomForestClassifier(max_depth=i, random_state=0).fit(X_train_c_pca, y_train_c)\n",
    "    y_pred = clf.predict(X_val_c_pca)\n",
    "    score_clf = accuracy_score(y_val_c, y_pred)\n",
    "    rfc[f'{i}'] = score_clf\n",
    "    #print('score_clf_',i,\":\", \"%.4f\"%score_clf)\n",
    "max_depth = max(rfc, key=rfc.get)\n",
    "print('max depth:', max_depth)"
   ]
  },
  {
   "cell_type": "code",
   "execution_count": 18,
   "metadata": {},
   "outputs": [
    {
     "name": "stdout",
     "output_type": "stream",
     "text": [
      "score_rf_clf: 0.6885\n"
     ]
    }
   ],
   "source": [
    "# choose max_depth = 4\n",
    "clf = RandomForestClassifier(max_depth=int(max_depth), random_state=0).fit(X_train_c_pca, y_train_c)\n",
    "score_rf_clf = clf.score(X_test_c_pca, y_test_c)\n",
    "print('score_rf_clf:', \"%.4f\"%score_rf_clf)"
   ]
  },
  {
   "cell_type": "markdown",
   "metadata": {},
   "source": [
    "# Random forest regressor"
   ]
  },
  {
   "cell_type": "code",
   "execution_count": 19,
   "metadata": {},
   "outputs": [
    {
     "name": "stdout",
     "output_type": "stream",
     "text": [
      "score_rf_reg: 0.1762\n"
     ]
    }
   ],
   "source": [
    "clf_reg = RandomForestRegressor().fit(X_train_pca, y_train)\n",
    "score_rf_reg = clf_reg.score(X_test_pca, y_test)\n",
    "print('score_rf_reg:', \"%.4f\"%score_rf_reg)"
   ]
  },
  {
   "cell_type": "markdown",
   "metadata": {},
   "source": [
    "# Logistic regression"
   ]
  },
  {
   "cell_type": "code",
   "execution_count": 20,
   "metadata": {},
   "outputs": [
    {
     "name": "stdout",
     "output_type": "stream",
     "text": [
      "score_logistic: 0.5246\n"
     ]
    }
   ],
   "source": [
    "logistic_model = LogisticRegression(penalty = 'l1', solver='liblinear', random_state=0).fit(X_train_c_pca, y_train_c)\n",
    "score_logistic = logistic_model.score(X_test_c_pca, y_test_c)\n",
    "print('score_logistic:', \"%.4f\"%score_logistic)"
   ]
  },
  {
   "cell_type": "markdown",
   "metadata": {},
   "source": [
    "# Gradient boosting classifier"
   ]
  },
  {
   "cell_type": "code",
   "execution_count": 21,
   "metadata": {},
   "outputs": [
    {
     "data": {
      "text/plain": [
       "0.6557377049180327"
      ]
     },
     "execution_count": 21,
     "metadata": {},
     "output_type": "execute_result"
    }
   ],
   "source": [
    "gra_clf = GradientBoostingClassifier(n_estimators = 200, learning_rate=0.50, max_depth=5, random_state=0).fit(X_train_c_pca, y_train_c)\n",
    "score_gb_clf = gra_clf.score(X_test_c_pca, y_test_c)\n",
    "score_gb_clf"
   ]
  },
  {
   "cell_type": "markdown",
   "metadata": {},
   "source": [
    "# Gradient boosting regressor "
   ]
  },
  {
   "cell_type": "code",
   "execution_count": 22,
   "metadata": {},
   "outputs": [
    {
     "data": {
      "text/plain": [
       "0.08328240517724594"
      ]
     },
     "execution_count": 22,
     "metadata": {},
     "output_type": "execute_result"
    }
   ],
   "source": [
    "gra_reg = GradientBoostingRegressor(random_state=0).fit(X_train_pca, y_train)\n",
    "score_gb_reg = gra_reg.score(X_test_pca, y_test)\n",
    "score_gb_reg"
   ]
  },
  {
   "cell_type": "markdown",
   "metadata": {},
   "source": [
    "# XGBoost classifier"
   ]
  },
  {
   "cell_type": "code",
   "execution_count": 23,
   "metadata": {},
   "outputs": [
    {
     "name": "stdout",
     "output_type": "stream",
     "text": [
      "[17:15:20] WARNING: C:/Users/Administrator/workspace/xgboost-win64_release_1.3.0/src/learner.cc:1061: Starting in XGBoost 1.3.0, the default evaluation metric used with the objective 'binary:logistic' was changed from 'error' to 'logloss'. Explicitly set eval_metric if you'd like to restore the old behavior.\n"
     ]
    },
    {
     "name": "stderr",
     "output_type": "stream",
     "text": [
      "C:\\Users\\lemon\\anaconda3\\lib\\site-packages\\xgboost\\sklearn.py:888: UserWarning: The use of label encoder in XGBClassifier is deprecated and will be removed in a future release. To remove this warning, do the following: 1) Pass option use_label_encoder=False when constructing XGBClassifier object; and 2) Encode your labels (y) as integers starting with 0, i.e. 0, 1, 2, ..., [num_class - 1].\n",
      "  warnings.warn(label_encoder_deprecation_msg, UserWarning)\n"
     ]
    },
    {
     "data": {
      "text/plain": [
       "0.6721311475409836"
      ]
     },
     "execution_count": 23,
     "metadata": {},
     "output_type": "execute_result"
    }
   ],
   "source": [
    "xgb_clf = XGBClassifier().fit(X_train_c_pca, y_train_c)\n",
    "score_xgb_clf = xgb_clf.score(X_test_c_pca, y_test_c)\n",
    "score_xgb_clf"
   ]
  },
  {
   "cell_type": "markdown",
   "metadata": {},
   "source": [
    "# XGBoost regressor"
   ]
  },
  {
   "cell_type": "code",
   "execution_count": 24,
   "metadata": {},
   "outputs": [
    {
     "data": {
      "text/plain": [
       "0.08074264527308361"
      ]
     },
     "execution_count": 24,
     "metadata": {},
     "output_type": "execute_result"
    }
   ],
   "source": [
    "xgb_reg = XGBRegressor(random_state = 0).fit(X_train_pca, y_train)\n",
    "score_xgb_reg = xgb_reg.score(X_test_pca, y_test)\n",
    "score_xgb_reg"
   ]
  },
  {
   "cell_type": "markdown",
   "metadata": {},
   "source": [
    "# AdaBoost classifier"
   ]
  },
  {
   "cell_type": "code",
   "execution_count": 25,
   "metadata": {},
   "outputs": [
    {
     "data": {
      "text/plain": [
       "0.6065573770491803"
      ]
     },
     "execution_count": 25,
     "metadata": {},
     "output_type": "execute_result"
    }
   ],
   "source": [
    "adb_clf = AdaBoostClassifier().fit(X_train_c_pca, y_train_c)\n",
    "score_adb_clf = adb_clf.score(X_test_c_pca, y_test_c)\n",
    "score_adb_clf"
   ]
  },
  {
   "cell_type": "markdown",
   "metadata": {},
   "source": [
    "# AdaBoost regressor"
   ]
  },
  {
   "cell_type": "code",
   "execution_count": 26,
   "metadata": {},
   "outputs": [
    {
     "data": {
      "text/plain": [
       "0.041222107446489575"
      ]
     },
     "execution_count": 26,
     "metadata": {},
     "output_type": "execute_result"
    }
   ],
   "source": [
    "adb_reg = AdaBoostRegressor().fit(X_train_pca, y_train)\n",
    "score_adb_reg = adb_reg.score(X_test_pca, y_test)\n",
    "score_adb_reg"
   ]
  },
  {
   "cell_type": "markdown",
   "metadata": {},
   "source": [
    "# Support vector classification"
   ]
  },
  {
   "cell_type": "code",
   "execution_count": 27,
   "metadata": {},
   "outputs": [
    {
     "name": "stdout",
     "output_type": "stream",
     "text": [
      "0.5737704918032787\n",
      "0.5081967213114754\n",
      "0.5901639344262295\n"
     ]
    }
   ],
   "source": [
    "# Try different kernels\n",
    "kernels = ('linear', 'poly', 'rbf')\n",
    "\n",
    "for k in kernels:\n",
    "    svm_clf = SVC(kernel=k).fit(X_train_c_pca, y_train_c)\n",
    "    y_pred = svm_clf.predict(X_test_c_pca)\n",
    "    vars()[f'score_svc_{k}']= accuracy_score(y_test_c, y_pred)\n",
    "    \n",
    "print(score_svc_linear)\n",
    "print(score_svc_poly)\n",
    "print(score_svc_rbf)"
   ]
  },
  {
   "cell_type": "markdown",
   "metadata": {},
   "source": [
    "# Gaussian Naive Bayes"
   ]
  },
  {
   "cell_type": "code",
   "execution_count": 28,
   "metadata": {},
   "outputs": [
    {
     "name": "stdout",
     "output_type": "stream",
     "text": [
      "0.6885245901639344\n"
     ]
    }
   ],
   "source": [
    "gnb_clf = GaussianNB().fit(X_train_c_pca, y_train_c)\n",
    "score_gnb = gnb_clf.score(X_test_c_pca, y_test_c)\n",
    "print(score_gnb)"
   ]
  },
  {
   "cell_type": "markdown",
   "metadata": {},
   "source": [
    "# Neuro networks"
   ]
  },
  {
   "cell_type": "code",
   "execution_count": 29,
   "metadata": {
    "scrolled": true
   },
   "outputs": [
    {
     "name": "stdout",
     "output_type": "stream",
     "text": [
      "Epoch 1/50\n",
      "9/9 [==============================] - 2s 137ms/step - loss: 0.6920 - accuracy: 0.4804 - val_loss: 0.7141 - val_accuracy: 0.4590\n",
      "Epoch 2/50\n",
      "9/9 [==============================] - 0s 6ms/step - loss: 0.6814 - accuracy: 0.5287 - val_loss: 0.7116 - val_accuracy: 0.4918\n",
      "Epoch 3/50\n",
      "9/9 [==============================] - 0s 5ms/step - loss: 0.6688 - accuracy: 0.5535 - val_loss: 0.7092 - val_accuracy: 0.4918\n",
      "Epoch 4/50\n",
      "9/9 [==============================] - 0s 5ms/step - loss: 0.6761 - accuracy: 0.5397 - val_loss: 0.7073 - val_accuracy: 0.5082\n",
      "Epoch 5/50\n",
      "9/9 [==============================] - 0s 6ms/step - loss: 0.6807 - accuracy: 0.5088 - val_loss: 0.7057 - val_accuracy: 0.5082\n",
      "Epoch 6/50\n",
      "9/9 [==============================] - 0s 5ms/step - loss: 0.6732 - accuracy: 0.5492 - val_loss: 0.7042 - val_accuracy: 0.5082\n",
      "Epoch 7/50\n",
      "9/9 [==============================] - 0s 6ms/step - loss: 0.6781 - accuracy: 0.5368 - val_loss: 0.7029 - val_accuracy: 0.5082\n",
      "Epoch 8/50\n",
      "9/9 [==============================] - 0s 6ms/step - loss: 0.6802 - accuracy: 0.5240 - val_loss: 0.7015 - val_accuracy: 0.5410\n",
      "Epoch 9/50\n",
      "9/9 [==============================] - 0s 5ms/step - loss: 0.6714 - accuracy: 0.5921 - val_loss: 0.7004 - val_accuracy: 0.5574\n",
      "Epoch 10/50\n",
      "9/9 [==============================] - 0s 7ms/step - loss: 0.6635 - accuracy: 0.5549 - val_loss: 0.6994 - val_accuracy: 0.5574\n",
      "Epoch 11/50\n",
      "9/9 [==============================] - 0s 6ms/step - loss: 0.6606 - accuracy: 0.5483 - val_loss: 0.6986 - val_accuracy: 0.5574\n",
      "Epoch 12/50\n",
      "9/9 [==============================] - 0s 5ms/step - loss: 0.6677 - accuracy: 0.5902 - val_loss: 0.6977 - val_accuracy: 0.5574\n",
      "Epoch 13/50\n",
      "9/9 [==============================] - 0s 5ms/step - loss: 0.6639 - accuracy: 0.6103 - val_loss: 0.6967 - val_accuracy: 0.5574\n",
      "Epoch 14/50\n",
      "9/9 [==============================] - 0s 5ms/step - loss: 0.6738 - accuracy: 0.5987 - val_loss: 0.6956 - val_accuracy: 0.5574\n",
      "Epoch 15/50\n",
      "9/9 [==============================] - 0s 5ms/step - loss: 0.6638 - accuracy: 0.5917 - val_loss: 0.6949 - val_accuracy: 0.5738\n",
      "Epoch 16/50\n",
      "9/9 [==============================] - 0s 5ms/step - loss: 0.6589 - accuracy: 0.5844 - val_loss: 0.6945 - val_accuracy: 0.5738\n",
      "Epoch 17/50\n",
      "9/9 [==============================] - 0s 4ms/step - loss: 0.6635 - accuracy: 0.6123 - val_loss: 0.6939 - val_accuracy: 0.5738\n",
      "Epoch 18/50\n",
      "9/9 [==============================] - 0s 5ms/step - loss: 0.6716 - accuracy: 0.5869 - val_loss: 0.6930 - val_accuracy: 0.5738\n",
      "Epoch 19/50\n",
      "9/9 [==============================] - 0s 5ms/step - loss: 0.6627 - accuracy: 0.6023 - val_loss: 0.6922 - val_accuracy: 0.5902\n",
      "Epoch 20/50\n",
      "9/9 [==============================] - 0s 5ms/step - loss: 0.6664 - accuracy: 0.5988 - val_loss: 0.6915 - val_accuracy: 0.6066\n",
      "Epoch 21/50\n",
      "9/9 [==============================] - 0s 5ms/step - loss: 0.6509 - accuracy: 0.6456 - val_loss: 0.6911 - val_accuracy: 0.5902\n",
      "Epoch 22/50\n",
      "9/9 [==============================] - 0s 5ms/step - loss: 0.6616 - accuracy: 0.6174 - val_loss: 0.6906 - val_accuracy: 0.5902\n",
      "Epoch 23/50\n",
      "9/9 [==============================] - 0s 5ms/step - loss: 0.6422 - accuracy: 0.6246 - val_loss: 0.6899 - val_accuracy: 0.5902\n",
      "Epoch 24/50\n",
      "9/9 [==============================] - 0s 5ms/step - loss: 0.6558 - accuracy: 0.6231 - val_loss: 0.6891 - val_accuracy: 0.5902\n",
      "Epoch 25/50\n",
      "9/9 [==============================] - 0s 5ms/step - loss: 0.6564 - accuracy: 0.5936 - val_loss: 0.6885 - val_accuracy: 0.5902\n",
      "Epoch 26/50\n",
      "9/9 [==============================] - 0s 5ms/step - loss: 0.6606 - accuracy: 0.6145 - val_loss: 0.6878 - val_accuracy: 0.6066\n",
      "Epoch 27/50\n",
      "9/9 [==============================] - 0s 5ms/step - loss: 0.6437 - accuracy: 0.6267 - val_loss: 0.6875 - val_accuracy: 0.6066\n",
      "Epoch 28/50\n",
      "9/9 [==============================] - 0s 5ms/step - loss: 0.6506 - accuracy: 0.6259 - val_loss: 0.6866 - val_accuracy: 0.5902\n",
      "Epoch 29/50\n",
      "9/9 [==============================] - 0s 5ms/step - loss: 0.6476 - accuracy: 0.6635 - val_loss: 0.6859 - val_accuracy: 0.5902\n",
      "Epoch 30/50\n",
      "9/9 [==============================] - 0s 5ms/step - loss: 0.6495 - accuracy: 0.6340 - val_loss: 0.6852 - val_accuracy: 0.6066\n",
      "Epoch 31/50\n",
      "9/9 [==============================] - 0s 5ms/step - loss: 0.6488 - accuracy: 0.6384 - val_loss: 0.6844 - val_accuracy: 0.6066\n",
      "Epoch 32/50\n",
      "9/9 [==============================] - 0s 4ms/step - loss: 0.6397 - accuracy: 0.6568 - val_loss: 0.6842 - val_accuracy: 0.6066\n",
      "Epoch 33/50\n",
      "9/9 [==============================] - 0s 4ms/step - loss: 0.6383 - accuracy: 0.6745 - val_loss: 0.6835 - val_accuracy: 0.6066\n",
      "Epoch 34/50\n",
      "9/9 [==============================] - 0s 4ms/step - loss: 0.6393 - accuracy: 0.6493 - val_loss: 0.6829 - val_accuracy: 0.6066\n",
      "Epoch 35/50\n",
      "9/9 [==============================] - 0s 4ms/step - loss: 0.6510 - accuracy: 0.6456 - val_loss: 0.6821 - val_accuracy: 0.6066\n",
      "Epoch 36/50\n",
      "9/9 [==============================] - 0s 5ms/step - loss: 0.6366 - accuracy: 0.6699 - val_loss: 0.6817 - val_accuracy: 0.6066\n",
      "Epoch 37/50\n",
      "9/9 [==============================] - 0s 5ms/step - loss: 0.6352 - accuracy: 0.6972 - val_loss: 0.6813 - val_accuracy: 0.6230\n",
      "Epoch 38/50\n",
      "9/9 [==============================] - 0s 5ms/step - loss: 0.6377 - accuracy: 0.6773 - val_loss: 0.6809 - val_accuracy: 0.6066\n",
      "Epoch 39/50\n",
      "9/9 [==============================] - 0s 4ms/step - loss: 0.6251 - accuracy: 0.6839 - val_loss: 0.6810 - val_accuracy: 0.6066\n",
      "Epoch 40/50\n",
      "9/9 [==============================] - 0s 5ms/step - loss: 0.6364 - accuracy: 0.6634 - val_loss: 0.6801 - val_accuracy: 0.6066\n",
      "Epoch 41/50\n",
      "9/9 [==============================] - 0s 5ms/step - loss: 0.6223 - accuracy: 0.6788 - val_loss: 0.6800 - val_accuracy: 0.6066\n",
      "Epoch 42/50\n",
      "9/9 [==============================] - 0s 4ms/step - loss: 0.6275 - accuracy: 0.6672 - val_loss: 0.6796 - val_accuracy: 0.6066\n",
      "Epoch 43/50\n",
      "9/9 [==============================] - 0s 5ms/step - loss: 0.6220 - accuracy: 0.6670 - val_loss: 0.6791 - val_accuracy: 0.6066\n",
      "Epoch 44/50\n",
      "9/9 [==============================] - 0s 5ms/step - loss: 0.6172 - accuracy: 0.6865 - val_loss: 0.6786 - val_accuracy: 0.6066\n",
      "Epoch 45/50\n",
      "9/9 [==============================] - 0s 5ms/step - loss: 0.6303 - accuracy: 0.6663 - val_loss: 0.6782 - val_accuracy: 0.6066\n",
      "Epoch 46/50\n",
      "9/9 [==============================] - 0s 5ms/step - loss: 0.6352 - accuracy: 0.6329 - val_loss: 0.6787 - val_accuracy: 0.6066\n",
      "Epoch 47/50\n",
      "9/9 [==============================] - 0s 4ms/step - loss: 0.6226 - accuracy: 0.6596 - val_loss: 0.6784 - val_accuracy: 0.6066\n",
      "Epoch 48/50\n",
      "9/9 [==============================] - 0s 5ms/step - loss: 0.6173 - accuracy: 0.6831 - val_loss: 0.6780 - val_accuracy: 0.6066\n",
      "Epoch 49/50\n",
      "9/9 [==============================] - 0s 5ms/step - loss: 0.5980 - accuracy: 0.6916 - val_loss: 0.6777 - val_accuracy: 0.6066\n",
      "Epoch 50/50\n",
      "9/9 [==============================] - 0s 5ms/step - loss: 0.6132 - accuracy: 0.6938 - val_loss: 0.6769 - val_accuracy: 0.6066\n"
     ]
    }
   ],
   "source": [
    "model = keras.models.Sequential()\n",
    "model.add(keras.layers.Dense(10, input_dim=num_var, activation='relu'))\n",
    "model.add(keras.layers.Dense(5, activation='relu'))\n",
    "model.add(keras.layers.Dense(1, activation='sigmoid'))\n",
    "\n",
    "model.compile(loss='binary_crossentropy', optimizer='adam', metrics=['accuracy'])\n",
    "\n",
    "history = model.fit(X_train_c_pca, y_train_c, epochs=50, validation_data=(X_val_c_pca, y_val_c))"
   ]
  },
  {
   "cell_type": "code",
   "execution_count": 30,
   "metadata": {},
   "outputs": [
    {
     "name": "stdout",
     "output_type": "stream",
     "text": [
      "2/2 [==============================] - 0s 998us/step - loss: 0.7077 - accuracy: 0.5082\n",
      "0.5081967115402222\n"
     ]
    }
   ],
   "source": [
    "loss, score_neuro = model.evaluate(X_test_c_pca, y_test_c)\n",
    "print(score_neuro)"
   ]
  },
  {
   "cell_type": "markdown",
   "metadata": {},
   "source": [
    "# Summary"
   ]
  },
  {
   "cell_type": "code",
   "execution_count": 31,
   "metadata": {},
   "outputs": [
    {
     "data": {
      "text/html": [
       "<div>\n",
       "<style scoped>\n",
       "    .dataframe tbody tr th:only-of-type {\n",
       "        vertical-align: middle;\n",
       "    }\n",
       "\n",
       "    .dataframe tbody tr th {\n",
       "        vertical-align: top;\n",
       "    }\n",
       "\n",
       "    .dataframe thead th {\n",
       "        text-align: right;\n",
       "    }\n",
       "</style>\n",
       "<table border=\"1\" class=\"dataframe\">\n",
       "  <thead>\n",
       "    <tr style=\"text-align: right;\">\n",
       "      <th></th>\n",
       "      <th>Score</th>\n",
       "    </tr>\n",
       "    <tr>\n",
       "      <th>Regression models</th>\n",
       "      <th></th>\n",
       "    </tr>\n",
       "  </thead>\n",
       "  <tbody>\n",
       "    <tr>\n",
       "      <th>Multiple linear regression</th>\n",
       "      <td>0.047677</td>\n",
       "    </tr>\n",
       "    <tr>\n",
       "      <th>Multiple polynomial regression</th>\n",
       "      <td>-0.046896</td>\n",
       "    </tr>\n",
       "    <tr>\n",
       "      <th>Random forest regressor</th>\n",
       "      <td>0.176172</td>\n",
       "    </tr>\n",
       "    <tr>\n",
       "      <th>Gradient boosting regressor</th>\n",
       "      <td>0.083282</td>\n",
       "    </tr>\n",
       "    <tr>\n",
       "      <th>XGBoost regressor</th>\n",
       "      <td>0.080743</td>\n",
       "    </tr>\n",
       "    <tr>\n",
       "      <th>AdaBoost regressor</th>\n",
       "      <td>0.041222</td>\n",
       "    </tr>\n",
       "  </tbody>\n",
       "</table>\n",
       "</div>"
      ],
      "text/plain": [
       "                                   Score\n",
       "Regression models                       \n",
       "Multiple linear regression      0.047677\n",
       "Multiple polynomial regression -0.046896\n",
       "Random forest regressor         0.176172\n",
       "Gradient boosting regressor     0.083282\n",
       "XGBoost regressor               0.080743\n",
       "AdaBoost regressor              0.041222"
      ]
     },
     "execution_count": 31,
     "metadata": {},
     "output_type": "execute_result"
    }
   ],
   "source": [
    "reg = {\n",
    "    'Multiple linear regression': score_multiple_reg,\n",
    "    'Multiple polynomial regression': score_poly_reg,\n",
    "    'Random forest regressor': score_rf_reg,\n",
    "    'Gradient boosting regressor': score_gb_reg,\n",
    "    'XGBoost regressor': score_xgb_reg,\n",
    "    'AdaBoost regressor': score_adb_reg\n",
    "}\n",
    "reg_df = pd.DataFrame.from_dict(reg, orient='index', columns = ['Score'])\n",
    "reg_df.index.name = 'Regression models'\n",
    "#reg_df.sort_values(by=['Score'], ascending=False)\n",
    "reg_df"
   ]
  },
  {
   "cell_type": "code",
   "execution_count": 32,
   "metadata": {},
   "outputs": [
    {
     "data": {
      "text/html": [
       "<div>\n",
       "<style scoped>\n",
       "    .dataframe tbody tr th:only-of-type {\n",
       "        vertical-align: middle;\n",
       "    }\n",
       "\n",
       "    .dataframe tbody tr th {\n",
       "        vertical-align: top;\n",
       "    }\n",
       "\n",
       "    .dataframe thead th {\n",
       "        text-align: right;\n",
       "    }\n",
       "</style>\n",
       "<table border=\"1\" class=\"dataframe\">\n",
       "  <thead>\n",
       "    <tr style=\"text-align: right;\">\n",
       "      <th></th>\n",
       "      <th>Score</th>\n",
       "    </tr>\n",
       "    <tr>\n",
       "      <th>Classifier models</th>\n",
       "      <th></th>\n",
       "    </tr>\n",
       "  </thead>\n",
       "  <tbody>\n",
       "    <tr>\n",
       "      <th>Logistic regression</th>\n",
       "      <td>0.524590</td>\n",
       "    </tr>\n",
       "    <tr>\n",
       "      <th>Random forest classifier</th>\n",
       "      <td>0.688525</td>\n",
       "    </tr>\n",
       "    <tr>\n",
       "      <th>Gradient boosting classifier</th>\n",
       "      <td>0.655738</td>\n",
       "    </tr>\n",
       "    <tr>\n",
       "      <th>XGBoost classifier</th>\n",
       "      <td>0.672131</td>\n",
       "    </tr>\n",
       "    <tr>\n",
       "      <th>AdaBoost classifier</th>\n",
       "      <td>0.606557</td>\n",
       "    </tr>\n",
       "    <tr>\n",
       "      <th>Gaussian naive Bayes</th>\n",
       "      <td>0.688525</td>\n",
       "    </tr>\n",
       "    <tr>\n",
       "      <th>SVC linear</th>\n",
       "      <td>0.573770</td>\n",
       "    </tr>\n",
       "    <tr>\n",
       "      <th>SVC polynomial</th>\n",
       "      <td>0.508197</td>\n",
       "    </tr>\n",
       "    <tr>\n",
       "      <th>SVC RBF</th>\n",
       "      <td>0.590164</td>\n",
       "    </tr>\n",
       "    <tr>\n",
       "      <th>Neuro network</th>\n",
       "      <td>0.508197</td>\n",
       "    </tr>\n",
       "  </tbody>\n",
       "</table>\n",
       "</div>"
      ],
      "text/plain": [
       "                                 Score\n",
       "Classifier models                     \n",
       "Logistic regression           0.524590\n",
       "Random forest classifier      0.688525\n",
       "Gradient boosting classifier  0.655738\n",
       "XGBoost classifier            0.672131\n",
       "AdaBoost classifier           0.606557\n",
       "Gaussian naive Bayes          0.688525\n",
       "SVC linear                    0.573770\n",
       "SVC polynomial                0.508197\n",
       "SVC RBF                       0.590164\n",
       "Neuro network                 0.508197"
      ]
     },
     "execution_count": 32,
     "metadata": {},
     "output_type": "execute_result"
    }
   ],
   "source": [
    "clf = {\n",
    "    'Logistic regression': score_logistic,\n",
    "    'Random forest classifier': score_rf_clf,\n",
    "    'Gradient boosting classifier': score_gb_clf,\n",
    "    'XGBoost classifier': score_xgb_clf,\n",
    "    'AdaBoost classifier': score_adb_clf,\n",
    "    'Gaussian naive Bayes': score_gnb, \n",
    "    'SVC linear': score_svc_linear,\n",
    "    'SVC polynomial': score_svc_poly, \n",
    "    'SVC RBF': score_svc_rbf,\n",
    "    'Neuro network' : score_neuro\n",
    "}\n",
    "clf_df = pd.DataFrame.from_dict(clf, orient='index',columns = ['Score'])\n",
    "clf_df.index.name = 'Classifier models'\n",
    "#clf_df.sort_values(by=['Score'], ascending=False)\n",
    "clf_df"
   ]
  }
 ],
 "metadata": {
  "kernelspec": {
   "display_name": "Python 3",
   "language": "python",
   "name": "python3"
  },
  "language_info": {
   "codemirror_mode": {
    "name": "ipython",
    "version": 3
   },
   "file_extension": ".py",
   "mimetype": "text/x-python",
   "name": "python",
   "nbconvert_exporter": "python",
   "pygments_lexer": "ipython3",
   "version": "3.8.5"
  }
 },
 "nbformat": 4,
 "nbformat_minor": 4
}
