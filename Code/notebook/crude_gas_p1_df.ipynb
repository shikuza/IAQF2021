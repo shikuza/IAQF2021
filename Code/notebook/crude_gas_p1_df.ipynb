{
 "cells": [
  {
   "cell_type": "code",
   "execution_count": 1,
   "metadata": {},
   "outputs": [],
   "source": [
    "# import libraries\n",
    "import numpy as np\n",
    "import pandas as pd\n",
    "import matplotlib.pyplot as plt\n",
    "import matplotlib\n",
    "import datetime\n",
    "\n",
    "from sklearn.decomposition import PCA\n",
    "from sklearn.preprocessing import StandardScaler\n",
    "\n",
    "import sklearn\n",
    "from sklearn.model_selection import train_test_split\n",
    "from sklearn.linear_model import LinearRegression\n",
    "from sklearn.ensemble import RandomForestClassifier, RandomForestRegressor\n",
    "from sklearn.linear_model import LogisticRegression\n",
    "from sklearn.svm import SVC\n",
    "from sklearn.naive_bayes import GaussianNB\n",
    "from sklearn.preprocessing import PolynomialFeatures\n",
    "from sklearn.pipeline import Pipeline\n",
    "from sklearn.ensemble import GradientBoostingClassifier,GradientBoostingRegressor\n",
    "from xgboost import XGBClassifier\n",
    "from xgboost import XGBRegressor\n",
    "from sklearn.ensemble import AdaBoostClassifier\n",
    "from sklearn.ensemble import AdaBoostRegressor\n",
    "from sklearn.metrics import accuracy_score\n",
    "\n",
    "\n",
    "import tensorflow as tf\n",
    "from tensorflow import keras\n",
    "import seaborn as sbn"
   ]
  },
  {
   "cell_type": "code",
   "execution_count": 2,
   "metadata": {
    "scrolled": false
   },
   "outputs": [
    {
     "data": {
      "text/html": [
       "<div>\n",
       "<style scoped>\n",
       "    .dataframe tbody tr th:only-of-type {\n",
       "        vertical-align: middle;\n",
       "    }\n",
       "\n",
       "    .dataframe tbody tr th {\n",
       "        vertical-align: top;\n",
       "    }\n",
       "\n",
       "    .dataframe thead th {\n",
       "        text-align: right;\n",
       "    }\n",
       "</style>\n",
       "<table border=\"1\" class=\"dataframe\">\n",
       "  <thead>\n",
       "    <tr style=\"text-align: right;\">\n",
       "      <th></th>\n",
       "      <th>week</th>\n",
       "      <th>crude_oil</th>\n",
       "      <th>cpi</th>\n",
       "      <th>us_pop</th>\n",
       "      <th>public_roads</th>\n",
       "      <th>us_urban_pop</th>\n",
       "      <th>oil_production</th>\n",
       "      <th>auto_sales</th>\n",
       "      <th>us_real_gdp</th>\n",
       "      <th>gasoline</th>\n",
       "    </tr>\n",
       "  </thead>\n",
       "  <tbody>\n",
       "    <tr>\n",
       "      <th>0</th>\n",
       "      <td>2001-01-07</td>\n",
       "      <td>27.80</td>\n",
       "      <td>78.645985</td>\n",
       "      <td>283960.0</td>\n",
       "      <td>3951330.509</td>\n",
       "      <td>223120517.5</td>\n",
       "      <td>5944</td>\n",
       "      <td>17.629145</td>\n",
       "      <td>12999.5699</td>\n",
       "      <td>1.425</td>\n",
       "    </tr>\n",
       "    <tr>\n",
       "      <th>1</th>\n",
       "      <td>2001-01-14</td>\n",
       "      <td>28.81</td>\n",
       "      <td>68.158536</td>\n",
       "      <td>284011.5</td>\n",
       "      <td>3951560.019</td>\n",
       "      <td>223171897.9</td>\n",
       "      <td>5949</td>\n",
       "      <td>17.850691</td>\n",
       "      <td>12293.3405</td>\n",
       "      <td>1.474</td>\n",
       "    </tr>\n",
       "    <tr>\n",
       "      <th>2</th>\n",
       "      <td>2001-01-21</td>\n",
       "      <td>30.63</td>\n",
       "      <td>76.149426</td>\n",
       "      <td>284063.0</td>\n",
       "      <td>3951789.528</td>\n",
       "      <td>223223278.4</td>\n",
       "      <td>5912</td>\n",
       "      <td>16.499039</td>\n",
       "      <td>12708.8104</td>\n",
       "      <td>1.471</td>\n",
       "    </tr>\n",
       "    <tr>\n",
       "      <th>3</th>\n",
       "      <td>2001-01-28</td>\n",
       "      <td>31.35</td>\n",
       "      <td>76.116224</td>\n",
       "      <td>284114.5</td>\n",
       "      <td>3952019.038</td>\n",
       "      <td>223274658.9</td>\n",
       "      <td>5935</td>\n",
       "      <td>14.163210</td>\n",
       "      <td>12287.2265</td>\n",
       "      <td>1.460</td>\n",
       "    </tr>\n",
       "    <tr>\n",
       "      <th>4</th>\n",
       "      <td>2001-02-04</td>\n",
       "      <td>29.59</td>\n",
       "      <td>66.693151</td>\n",
       "      <td>284166.0</td>\n",
       "      <td>3952248.547</td>\n",
       "      <td>223326039.4</td>\n",
       "      <td>5929</td>\n",
       "      <td>16.917572</td>\n",
       "      <td>13353.2628</td>\n",
       "      <td>1.443</td>\n",
       "    </tr>\n",
       "    <tr>\n",
       "      <th>...</th>\n",
       "      <td>...</td>\n",
       "      <td>...</td>\n",
       "      <td>...</td>\n",
       "      <td>...</td>\n",
       "      <td>...</td>\n",
       "      <td>...</td>\n",
       "      <td>...</td>\n",
       "      <td>...</td>\n",
       "      <td>...</td>\n",
       "      <td>...</td>\n",
       "    </tr>\n",
       "    <tr>\n",
       "      <th>412</th>\n",
       "      <td>2008-11-30</td>\n",
       "      <td>53.27</td>\n",
       "      <td>99.238162</td>\n",
       "      <td>305785.6</td>\n",
       "      <td>4058310.269</td>\n",
       "      <td>244336736.1</td>\n",
       "      <td>5118</td>\n",
       "      <td>10.745410</td>\n",
       "      <td>15451.9032</td>\n",
       "      <td>1.811</td>\n",
       "    </tr>\n",
       "    <tr>\n",
       "      <th>413</th>\n",
       "      <td>2008-12-07</td>\n",
       "      <td>45.60</td>\n",
       "      <td>82.367875</td>\n",
       "      <td>305827.0</td>\n",
       "      <td>4058518.615</td>\n",
       "      <td>244390809.7</td>\n",
       "      <td>5152</td>\n",
       "      <td>12.533865</td>\n",
       "      <td>15362.3704</td>\n",
       "      <td>1.699</td>\n",
       "    </tr>\n",
       "    <tr>\n",
       "      <th>414</th>\n",
       "      <td>2008-12-14</td>\n",
       "      <td>44.57</td>\n",
       "      <td>96.265108</td>\n",
       "      <td>305879.0</td>\n",
       "      <td>4058726.962</td>\n",
       "      <td>244444883.3</td>\n",
       "      <td>4967</td>\n",
       "      <td>10.298568</td>\n",
       "      <td>14770.9146</td>\n",
       "      <td>1.659</td>\n",
       "    </tr>\n",
       "    <tr>\n",
       "      <th>415</th>\n",
       "      <td>2008-12-21</td>\n",
       "      <td>39.70</td>\n",
       "      <td>92.911057</td>\n",
       "      <td>305931.0</td>\n",
       "      <td>4058935.308</td>\n",
       "      <td>244498956.8</td>\n",
       "      <td>4972</td>\n",
       "      <td>9.594489</td>\n",
       "      <td>15966.6992</td>\n",
       "      <td>1.653</td>\n",
       "    </tr>\n",
       "    <tr>\n",
       "      <th>416</th>\n",
       "      <td>2008-12-28</td>\n",
       "      <td>32.98</td>\n",
       "      <td>94.417737</td>\n",
       "      <td>305983.0</td>\n",
       "      <td>4059143.654</td>\n",
       "      <td>244553030.4</td>\n",
       "      <td>4979</td>\n",
       "      <td>10.409944</td>\n",
       "      <td>15333.0495</td>\n",
       "      <td>1.613</td>\n",
       "    </tr>\n",
       "  </tbody>\n",
       "</table>\n",
       "<p>417 rows × 10 columns</p>\n",
       "</div>"
      ],
      "text/plain": [
       "           week  crude_oil        cpi    us_pop  public_roads  us_urban_pop  \\\n",
       "0    2001-01-07      27.80  78.645985  283960.0   3951330.509   223120517.5   \n",
       "1    2001-01-14      28.81  68.158536  284011.5   3951560.019   223171897.9   \n",
       "2    2001-01-21      30.63  76.149426  284063.0   3951789.528   223223278.4   \n",
       "3    2001-01-28      31.35  76.116224  284114.5   3952019.038   223274658.9   \n",
       "4    2001-02-04      29.59  66.693151  284166.0   3952248.547   223326039.4   \n",
       "..          ...        ...        ...       ...           ...           ...   \n",
       "412  2008-11-30      53.27  99.238162  305785.6   4058310.269   244336736.1   \n",
       "413  2008-12-07      45.60  82.367875  305827.0   4058518.615   244390809.7   \n",
       "414  2008-12-14      44.57  96.265108  305879.0   4058726.962   244444883.3   \n",
       "415  2008-12-21      39.70  92.911057  305931.0   4058935.308   244498956.8   \n",
       "416  2008-12-28      32.98  94.417737  305983.0   4059143.654   244553030.4   \n",
       "\n",
       "     oil_production  auto_sales  us_real_gdp  gasoline  \n",
       "0              5944   17.629145   12999.5699     1.425  \n",
       "1              5949   17.850691   12293.3405     1.474  \n",
       "2              5912   16.499039   12708.8104     1.471  \n",
       "3              5935   14.163210   12287.2265     1.460  \n",
       "4              5929   16.917572   13353.2628     1.443  \n",
       "..              ...         ...          ...       ...  \n",
       "412            5118   10.745410   15451.9032     1.811  \n",
       "413            5152   12.533865   15362.3704     1.699  \n",
       "414            4967   10.298568   14770.9146     1.659  \n",
       "415            4972    9.594489   15966.6992     1.653  \n",
       "416            4979   10.409944   15333.0495     1.613  \n",
       "\n",
       "[417 rows x 10 columns]"
      ]
     },
     "execution_count": 2,
     "metadata": {},
     "output_type": "execute_result"
    }
   ],
   "source": [
    "# import data TODO: Change the file path to the dataset this question needed\n",
    "df = pd.read_csv('..\\\\source_data\\\\crude_gas_p1_df.csv')\n",
    "df"
   ]
  },
  {
   "cell_type": "markdown",
   "metadata": {},
   "source": [
    "# Creating independent and dependent variables "
   ]
  },
  {
   "cell_type": "code",
   "execution_count": 3,
   "metadata": {},
   "outputs": [
    {
     "data": {
      "text/html": [
       "<div>\n",
       "<style scoped>\n",
       "    .dataframe tbody tr th:only-of-type {\n",
       "        vertical-align: middle;\n",
       "    }\n",
       "\n",
       "    .dataframe tbody tr th {\n",
       "        vertical-align: top;\n",
       "    }\n",
       "\n",
       "    .dataframe thead th {\n",
       "        text-align: right;\n",
       "    }\n",
       "</style>\n",
       "<table border=\"1\" class=\"dataframe\">\n",
       "  <thead>\n",
       "    <tr style=\"text-align: right;\">\n",
       "      <th></th>\n",
       "      <th>week</th>\n",
       "      <th>crude_oil</th>\n",
       "      <th>cpi</th>\n",
       "      <th>us_pop</th>\n",
       "      <th>public_roads</th>\n",
       "      <th>us_urban_pop</th>\n",
       "      <th>oil_production</th>\n",
       "      <th>auto_sales</th>\n",
       "      <th>us_real_gdp</th>\n",
       "      <th>gasoline</th>\n",
       "      <th>of_chg_1</th>\n",
       "      <th>of_chg_2</th>\n",
       "      <th>of_chg_3</th>\n",
       "      <th>of_chg_5</th>\n",
       "      <th>of_chg_10</th>\n",
       "      <th>gas_chg</th>\n",
       "    </tr>\n",
       "  </thead>\n",
       "  <tbody>\n",
       "    <tr>\n",
       "      <th>11</th>\n",
       "      <td>2001-03-25</td>\n",
       "      <td>26.42</td>\n",
       "      <td>71.870113</td>\n",
       "      <td>284546.5</td>\n",
       "      <td>3953855.113</td>\n",
       "      <td>223685702.7</td>\n",
       "      <td>5868</td>\n",
       "      <td>17.606315</td>\n",
       "      <td>11982.2289</td>\n",
       "      <td>1.404</td>\n",
       "      <td>-0.022206</td>\n",
       "      <td>-0.071353</td>\n",
       "      <td>-0.053386</td>\n",
       "      <td>-0.109538</td>\n",
       "      <td>-0.082957</td>\n",
       "      <td>0.000000</td>\n",
       "    </tr>\n",
       "    <tr>\n",
       "      <th>12</th>\n",
       "      <td>2001-04-01</td>\n",
       "      <td>26.86</td>\n",
       "      <td>74.862456</td>\n",
       "      <td>284602.0</td>\n",
       "      <td>3954084.623</td>\n",
       "      <td>223737083.1</td>\n",
       "      <td>5883</td>\n",
       "      <td>16.641042</td>\n",
       "      <td>13936.6979</td>\n",
       "      <td>1.442</td>\n",
       "      <td>0.016654</td>\n",
       "      <td>-0.005922</td>\n",
       "      <td>-0.055888</td>\n",
       "      <td>-0.062478</td>\n",
       "      <td>-0.123082</td>\n",
       "      <td>0.027066</td>\n",
       "    </tr>\n",
       "    <tr>\n",
       "      <th>13</th>\n",
       "      <td>2001-04-08</td>\n",
       "      <td>26.76</td>\n",
       "      <td>67.840486</td>\n",
       "      <td>284648.4</td>\n",
       "      <td>3954314.132</td>\n",
       "      <td>223788463.6</td>\n",
       "      <td>5867</td>\n",
       "      <td>16.423081</td>\n",
       "      <td>12809.3245</td>\n",
       "      <td>1.500</td>\n",
       "      <td>-0.003723</td>\n",
       "      <td>0.012869</td>\n",
       "      <td>-0.009623</td>\n",
       "      <td>-0.041204</td>\n",
       "      <td>-0.146411</td>\n",
       "      <td>0.040222</td>\n",
       "    </tr>\n",
       "    <tr>\n",
       "      <th>14</th>\n",
       "      <td>2001-04-15</td>\n",
       "      <td>28.27</td>\n",
       "      <td>82.229017</td>\n",
       "      <td>284694.8</td>\n",
       "      <td>3954543.642</td>\n",
       "      <td>223839844.1</td>\n",
       "      <td>5855</td>\n",
       "      <td>16.794574</td>\n",
       "      <td>13474.2006</td>\n",
       "      <td>1.571</td>\n",
       "      <td>0.056428</td>\n",
       "      <td>0.052494</td>\n",
       "      <td>0.070023</td>\n",
       "      <td>-0.006327</td>\n",
       "      <td>-0.044610</td>\n",
       "      <td>0.047333</td>\n",
       "    </tr>\n",
       "    <tr>\n",
       "      <th>15</th>\n",
       "      <td>2001-04-22</td>\n",
       "      <td>27.89</td>\n",
       "      <td>76.824931</td>\n",
       "      <td>284741.2</td>\n",
       "      <td>3954773.151</td>\n",
       "      <td>223891224.5</td>\n",
       "      <td>5861</td>\n",
       "      <td>17.016378</td>\n",
       "      <td>13236.2220</td>\n",
       "      <td>1.619</td>\n",
       "      <td>-0.013442</td>\n",
       "      <td>0.042227</td>\n",
       "      <td>0.038347</td>\n",
       "      <td>0.032198</td>\n",
       "      <td>-0.097995</td>\n",
       "      <td>0.030554</td>\n",
       "    </tr>\n",
       "    <tr>\n",
       "      <th>...</th>\n",
       "      <td>...</td>\n",
       "      <td>...</td>\n",
       "      <td>...</td>\n",
       "      <td>...</td>\n",
       "      <td>...</td>\n",
       "      <td>...</td>\n",
       "      <td>...</td>\n",
       "      <td>...</td>\n",
       "      <td>...</td>\n",
       "      <td>...</td>\n",
       "      <td>...</td>\n",
       "      <td>...</td>\n",
       "      <td>...</td>\n",
       "      <td>...</td>\n",
       "      <td>...</td>\n",
       "      <td>...</td>\n",
       "    </tr>\n",
       "    <tr>\n",
       "      <th>412</th>\n",
       "      <td>2008-11-30</td>\n",
       "      <td>53.27</td>\n",
       "      <td>99.238162</td>\n",
       "      <td>305785.6</td>\n",
       "      <td>4058310.269</td>\n",
       "      <td>244336736.1</td>\n",
       "      <td>5118</td>\n",
       "      <td>10.745410</td>\n",
       "      <td>15451.9032</td>\n",
       "      <td>1.811</td>\n",
       "      <td>0.019326</td>\n",
       "      <td>-0.090956</td>\n",
       "      <td>-0.171668</td>\n",
       "      <td>-0.223016</td>\n",
       "      <td>-0.451898</td>\n",
       "      <td>-0.042812</td>\n",
       "    </tr>\n",
       "    <tr>\n",
       "      <th>413</th>\n",
       "      <td>2008-12-07</td>\n",
       "      <td>45.60</td>\n",
       "      <td>82.367875</td>\n",
       "      <td>305827.0</td>\n",
       "      <td>4058518.615</td>\n",
       "      <td>244390809.7</td>\n",
       "      <td>5152</td>\n",
       "      <td>12.533865</td>\n",
       "      <td>15362.3704</td>\n",
       "      <td>1.699</td>\n",
       "      <td>-0.143983</td>\n",
       "      <td>-0.127440</td>\n",
       "      <td>-0.221843</td>\n",
       "      <td>-0.300721</td>\n",
       "      <td>-0.589633</td>\n",
       "      <td>-0.061844</td>\n",
       "    </tr>\n",
       "    <tr>\n",
       "      <th>414</th>\n",
       "      <td>2008-12-14</td>\n",
       "      <td>44.57</td>\n",
       "      <td>96.265108</td>\n",
       "      <td>305879.0</td>\n",
       "      <td>4058726.962</td>\n",
       "      <td>244444883.3</td>\n",
       "      <td>4967</td>\n",
       "      <td>10.298568</td>\n",
       "      <td>14770.9146</td>\n",
       "      <td>1.659</td>\n",
       "      <td>-0.022588</td>\n",
       "      <td>-0.163319</td>\n",
       "      <td>-0.147149</td>\n",
       "      <td>-0.306951</td>\n",
       "      <td>-0.538565</td>\n",
       "      <td>-0.023543</td>\n",
       "    </tr>\n",
       "    <tr>\n",
       "      <th>415</th>\n",
       "      <td>2008-12-21</td>\n",
       "      <td>39.70</td>\n",
       "      <td>92.911057</td>\n",
       "      <td>305931.0</td>\n",
       "      <td>4058935.308</td>\n",
       "      <td>244498956.8</td>\n",
       "      <td>4972</td>\n",
       "      <td>9.594489</td>\n",
       "      <td>15966.6992</td>\n",
       "      <td>1.653</td>\n",
       "      <td>-0.109266</td>\n",
       "      <td>-0.129386</td>\n",
       "      <td>-0.254740</td>\n",
       "      <td>-0.322526</td>\n",
       "      <td>-0.539657</td>\n",
       "      <td>-0.003617</td>\n",
       "    </tr>\n",
       "    <tr>\n",
       "      <th>416</th>\n",
       "      <td>2008-12-28</td>\n",
       "      <td>32.98</td>\n",
       "      <td>94.417737</td>\n",
       "      <td>305983.0</td>\n",
       "      <td>4059143.654</td>\n",
       "      <td>244553030.4</td>\n",
       "      <td>4979</td>\n",
       "      <td>10.409944</td>\n",
       "      <td>15333.0495</td>\n",
       "      <td>1.613</td>\n",
       "      <td>-0.169270</td>\n",
       "      <td>-0.260040</td>\n",
       "      <td>-0.276754</td>\n",
       "      <td>-0.368925</td>\n",
       "      <td>-0.561378</td>\n",
       "      <td>-0.024198</td>\n",
       "    </tr>\n",
       "  </tbody>\n",
       "</table>\n",
       "<p>406 rows × 16 columns</p>\n",
       "</div>"
      ],
      "text/plain": [
       "           week  crude_oil        cpi    us_pop  public_roads  us_urban_pop  \\\n",
       "11   2001-03-25      26.42  71.870113  284546.5   3953855.113   223685702.7   \n",
       "12   2001-04-01      26.86  74.862456  284602.0   3954084.623   223737083.1   \n",
       "13   2001-04-08      26.76  67.840486  284648.4   3954314.132   223788463.6   \n",
       "14   2001-04-15      28.27  82.229017  284694.8   3954543.642   223839844.1   \n",
       "15   2001-04-22      27.89  76.824931  284741.2   3954773.151   223891224.5   \n",
       "..          ...        ...        ...       ...           ...           ...   \n",
       "412  2008-11-30      53.27  99.238162  305785.6   4058310.269   244336736.1   \n",
       "413  2008-12-07      45.60  82.367875  305827.0   4058518.615   244390809.7   \n",
       "414  2008-12-14      44.57  96.265108  305879.0   4058726.962   244444883.3   \n",
       "415  2008-12-21      39.70  92.911057  305931.0   4058935.308   244498956.8   \n",
       "416  2008-12-28      32.98  94.417737  305983.0   4059143.654   244553030.4   \n",
       "\n",
       "     oil_production  auto_sales  us_real_gdp  gasoline  of_chg_1  of_chg_2  \\\n",
       "11             5868   17.606315   11982.2289     1.404 -0.022206 -0.071353   \n",
       "12             5883   16.641042   13936.6979     1.442  0.016654 -0.005922   \n",
       "13             5867   16.423081   12809.3245     1.500 -0.003723  0.012869   \n",
       "14             5855   16.794574   13474.2006     1.571  0.056428  0.052494   \n",
       "15             5861   17.016378   13236.2220     1.619 -0.013442  0.042227   \n",
       "..              ...         ...          ...       ...       ...       ...   \n",
       "412            5118   10.745410   15451.9032     1.811  0.019326 -0.090956   \n",
       "413            5152   12.533865   15362.3704     1.699 -0.143983 -0.127440   \n",
       "414            4967   10.298568   14770.9146     1.659 -0.022588 -0.163319   \n",
       "415            4972    9.594489   15966.6992     1.653 -0.109266 -0.129386   \n",
       "416            4979   10.409944   15333.0495     1.613 -0.169270 -0.260040   \n",
       "\n",
       "     of_chg_3  of_chg_5  of_chg_10   gas_chg  \n",
       "11  -0.053386 -0.109538  -0.082957  0.000000  \n",
       "12  -0.055888 -0.062478  -0.123082  0.027066  \n",
       "13  -0.009623 -0.041204  -0.146411  0.040222  \n",
       "14   0.070023 -0.006327  -0.044610  0.047333  \n",
       "15   0.038347  0.032198  -0.097995  0.030554  \n",
       "..        ...       ...        ...       ...  \n",
       "412 -0.171668 -0.223016  -0.451898 -0.042812  \n",
       "413 -0.221843 -0.300721  -0.589633 -0.061844  \n",
       "414 -0.147149 -0.306951  -0.538565 -0.023543  \n",
       "415 -0.254740 -0.322526  -0.539657 -0.003617  \n",
       "416 -0.276754 -0.368925  -0.561378 -0.024198  \n",
       "\n",
       "[406 rows x 16 columns]"
      ]
     },
     "execution_count": 3,
     "metadata": {},
     "output_type": "execute_result"
    }
   ],
   "source": [
    "# calculate independent variables\n",
    "periods = (1,2,3,5,10)\n",
    "for i in periods:\n",
    "    df['of_chg_{}'.format(i)] = df['crude_oil'].pct_change(periods = i)\n",
    "    \n",
    "# calculate dependent variable\n",
    "df['gas_chg'] = df['gasoline'].pct_change(periods=1)\n",
    "\n",
    "# eliminate the empty rows\n",
    "df = df[11:]\n",
    "df"
   ]
  },
  {
   "cell_type": "markdown",
   "metadata": {},
   "source": [
    "# Seperating training, validation, and test datasets"
   ]
  },
  {
   "cell_type": "code",
   "execution_count": 4,
   "metadata": {},
   "outputs": [
    {
     "data": {
      "text/plain": [
       "array([[ 2.64200000e+01, -2.22057735e-02, -7.13532513e-02, ...,\n",
       "         5.86800000e+03,  1.76063154e+01,  1.19822289e+04],\n",
       "       [ 2.68600000e+01,  1.66540500e-02, -5.92153960e-03, ...,\n",
       "         5.88300000e+03,  1.66410415e+01,  1.39366979e+04],\n",
       "       [ 2.67600000e+01, -3.72300819e-03,  1.28690386e-02, ...,\n",
       "         5.86700000e+03,  1.64230808e+01,  1.28093245e+04],\n",
       "       ...,\n",
       "       [ 4.45700000e+01, -2.25877193e-02, -1.63318941e-01, ...,\n",
       "         4.96700000e+03,  1.02985681e+01,  1.47709146e+04],\n",
       "       [ 3.97000000e+01, -1.09266323e-01, -1.29385965e-01, ...,\n",
       "         4.97200000e+03,  9.59448940e+00,  1.59666992e+04],\n",
       "       [ 3.29800000e+01, -1.69269521e-01, -2.60040386e-01, ...,\n",
       "         4.97900000e+03,  1.04099437e+01,  1.53330495e+04]])"
      ]
     },
     "execution_count": 4,
     "metadata": {},
     "output_type": "execute_result"
    }
   ],
   "source": [
    "# create list of independent variable's name TODO: add the appropriate variable names to the list\n",
    "ind_var_name = ['of_chg_{}'.format(i) for i in periods]+['cpi','us_pop','public_roads',\n",
    "                                                         'us_urban_pop','oil_production','auto_sales',\n",
    "                                                         'us_real_gdp']\n",
    "num_var =len(ind_var_name) # put number of variables here\n",
    "\n",
    "# extract the values to X\n",
    "X = df[['crude_oil'] + ind_var_name].values\n",
    "X"
   ]
  },
  {
   "cell_type": "code",
   "execution_count": 5,
   "metadata": {},
   "outputs": [
    {
     "data": {
      "text/plain": [
       "((406, 13), (406,), (406,))"
      ]
     },
     "execution_count": 5,
     "metadata": {},
     "output_type": "execute_result"
    }
   ],
   "source": [
    "# create y for regressor, y_c for classifier\n",
    "y = df['gas_chg']\n",
    "y_c = (df['gas_chg'] > 0).values.astype('int')\n",
    "\n",
    "# set training, validation, and test criterias\n",
    "training_ratio = 0.7\n",
    "validation_ratio = 0.15\n",
    "test_ratio = 0.15\n",
    "\n",
    "# check correctness of X and y\n",
    "X.shape, y.shape, y_c.shape"
   ]
  },
  {
   "cell_type": "code",
   "execution_count": 6,
   "metadata": {},
   "outputs": [
    {
     "name": "stdout",
     "output_type": "stream",
     "text": [
      "X_train shape:\t (284, 13)\n",
      "X_test shape:\t (61, 13)\n",
      "X_val shape:\t (61, 13)\n",
      "y_train shape:\t (284,)\n",
      "y_val shape:\t (61,)\n",
      "y_test shape:\t (61,)\n"
     ]
    }
   ],
   "source": [
    "# create training, validation, and test sets for regressor\n",
    "X_train, X_test, y_train, y_test = train_test_split(X, y, test_size = test_ratio, random_state = 42)\n",
    "X_train, X_val, y_train, y_val = train_test_split(X_train, y_train, test_size = validation_ratio/(validation_ratio + training_ratio), random_state = 42)\n",
    "print(\"X_train shape:\\t\", X_train.shape)\n",
    "print(\"X_test shape:\\t\", X_test.shape)\n",
    "print(\"X_val shape:\\t\", X_val.shape)\n",
    "print(\"y_train shape:\\t\", y_train.shape)\n",
    "print(\"y_val shape:\\t\", y_val.shape)\n",
    "print(\"y_test shape:\\t\", y_test.shape)"
   ]
  },
  {
   "cell_type": "code",
   "execution_count": 7,
   "metadata": {},
   "outputs": [
    {
     "name": "stdout",
     "output_type": "stream",
     "text": [
      "X_train_c shape: (284, 13)\n",
      "X_test_c shape:\t (61, 13)\n",
      "X_val_c shape:\t (61, 13)\n",
      "y_train_c shape: (284,)\n",
      "y_val_c shape:\t (61,)\n",
      "y_test_c shape:\t (61,)\n"
     ]
    }
   ],
   "source": [
    "# create training, validation, and test sets for classifier\n",
    "X_train_c, X_test_c, y_train_c, y_test_c = train_test_split(X, y_c, test_size = test_ratio, random_state = 42)\n",
    "X_train_c, X_val_c, y_train_c, y_val_c = train_test_split(X_train_c, y_train_c, test_size = validation_ratio/(validation_ratio + training_ratio), random_state = 42)\n",
    "print(\"X_train_c shape:\", X_train_c.shape)\n",
    "print(\"X_test_c shape:\\t\", X_test_c.shape)\n",
    "print(\"X_val_c shape:\\t\", X_val_c.shape)\n",
    "print(\"y_train_c shape:\", y_train_c.shape)\n",
    "print(\"y_val_c shape:\\t\", y_val_c.shape)\n",
    "print(\"y_test_c shape:\\t\", y_test_c.shape)"
   ]
  },
  {
   "cell_type": "markdown",
   "metadata": {},
   "source": [
    "# Principal Component Analysis (PCA)"
   ]
  },
  {
   "cell_type": "code",
   "execution_count": 8,
   "metadata": {
    "scrolled": false
   },
   "outputs": [
    {
     "name": "stdout",
     "output_type": "stream",
     "text": [
      "X_train shape:\t (284, 13)\n",
      "X_val shape:\t (61, 13)\n"
     ]
    }
   ],
   "source": [
    "# normalization for regressor set\n",
    "for i in range(X_train.shape[1]):\n",
    "    X_train_mean = X_train[:, i]. mean()\n",
    "    X_train_std = X_train[:, i].std()\n",
    "    X_train[:, i] = (X_train[:,i] - X_train_mean) / X_train_std\n",
    "    X_test[:,i] = (X_test[:,i] - X_train_mean) / X_train_std\n",
    "    X_val[:, i] = (X_val[:,i] - X_train_mean) / X_train_std\n",
    "\n",
    "print(\"X_train shape:\\t\", X_train.shape)\n",
    "print(\"X_val shape:\\t\", X_val.shape)"
   ]
  },
  {
   "cell_type": "code",
   "execution_count": 9,
   "metadata": {
    "scrolled": false
   },
   "outputs": [
    {
     "name": "stdout",
     "output_type": "stream",
     "text": [
      "X_train_c shape: (284, 13)\n",
      "X_val_c shape:\t (61, 13)\n"
     ]
    }
   ],
   "source": [
    "# normalization for classifier set\n",
    "for i in range(X_train_c.shape[1]):\n",
    "    X_train_c_mean = X_train_c[:, i]. mean()\n",
    "    X_train_c_std = X_train_c[:, i].std()\n",
    "    X_train_c[:, i] = (X_train_c[:,i] - X_train_c_mean) / X_train_c_std\n",
    "    X_test_c[:,i] = (X_test_c[:,i] - X_train_c_mean) / X_train_c_std\n",
    "    X_val_c[:, i] = (X_val_c[:,i] - X_train_c_mean) / X_train_c_std\n",
    "\n",
    "print(\"X_train_c shape:\", X_train_c.shape)\n",
    "print(\"X_val_c shape:\\t\", X_val_c.shape)"
   ]
  },
  {
   "cell_type": "code",
   "execution_count": 10,
   "metadata": {},
   "outputs": [
    {
     "name": "stdout",
     "output_type": "stream",
     "text": [
      "X_train_pca shape:\t (284, 7)\n",
      "X_test_pca shape:\t (61, 7)\n",
      "X_val_pca shape:\t (61, 7)\n",
      "y_train shape:\t (284,)\n",
      "y_val shape:\t (61,)\n",
      "y_test shape:\t (61,)\n"
     ]
    }
   ],
   "source": [
    "# PCA for regressor\n",
    "# fit on training set\n",
    "scaler = StandardScaler()\n",
    "scaler.fit(X_train)\n",
    "\n",
    "# apply transform to training and test set\n",
    "X_train_pca = scaler.transform(X_train)\n",
    "X_test_pca = scaler.transform(X_test)\n",
    "X_val_pca = scaler.transform(X_val)\n",
    "\n",
    "# set PCA value\n",
    "pca = PCA(0.95)\n",
    "\n",
    "# fit PCA training set\n",
    "pca.fit(X_train_pca)\n",
    "\n",
    "# apply transform to training and test set\n",
    "X_train_pca = pca.transform(X_train_pca)\n",
    "X_test_pca = pca.transform(X_test_pca)\n",
    "X_val_pca = pca.transform(X_val_pca)\n",
    "print(\"X_train_pca shape:\\t\", X_train_pca.shape)\n",
    "print(\"X_test_pca shape:\\t\", X_test_pca.shape)\n",
    "print(\"X_val_pca shape:\\t\", X_val_pca.shape)\n",
    "print(\"y_train shape:\\t\", y_train.shape)\n",
    "print(\"y_val shape:\\t\", y_val.shape)\n",
    "print(\"y_test shape:\\t\", y_test.shape)"
   ]
  },
  {
   "cell_type": "code",
   "execution_count": 11,
   "metadata": {},
   "outputs": [
    {
     "name": "stdout",
     "output_type": "stream",
     "text": [
      "X_train_c_pca shape:\t (284, 7)\n",
      "X_test_c_pca shape:\t (61, 7)\n",
      "X_val_c_pca shape:\t (61, 7)\n",
      "y_train_c shape: (284,)\n",
      "y_val_c shape:\t (61,)\n",
      "y_test_c shape:\t (61,)\n"
     ]
    }
   ],
   "source": [
    "# PCA for classifier\n",
    "# fit on training set_c\n",
    "scaler = StandardScaler()\n",
    "scaler.fit(X_train_c)\n",
    "\n",
    "# apply transform to training and test set\n",
    "X_train_c_pca = scaler.transform(X_train_c)\n",
    "X_test_c_pca = scaler.transform(X_test_c)\n",
    "X_val_c_pca = scaler.transform(X_val_c)\n",
    "\n",
    "# set PCA value\n",
    "pca = PCA(0.95)\n",
    "\n",
    "# fit PCA training set\n",
    "pca.fit(X_train_c_pca)\n",
    "\n",
    "# apply transform to training and test set\n",
    "X_train_c_pca = pca.transform(X_train_c_pca)\n",
    "X_test_c_pca = pca.transform(X_test_c_pca)\n",
    "X_val_c_pca = pca.transform(X_val_c_pca)\n",
    "print(\"X_train_c_pca shape:\\t\", X_train_c_pca.shape)\n",
    "print(\"X_test_c_pca shape:\\t\", X_test_c_pca.shape)\n",
    "print(\"X_val_c_pca shape:\\t\", X_val_c_pca.shape)\n",
    "print(\"y_train_c shape:\", y_train_c.shape)\n",
    "print(\"y_val_c shape:\\t\", y_val_c.shape)\n",
    "print(\"y_test_c shape:\\t\", y_test_c.shape)"
   ]
  },
  {
   "cell_type": "code",
   "execution_count": 12,
   "metadata": {},
   "outputs": [
    {
     "data": {
      "text/plain": [
       "7"
      ]
     },
     "execution_count": 12,
     "metadata": {},
     "output_type": "execute_result"
    }
   ],
   "source": [
    "num_var = X_train_c_pca.shape[1]\n",
    "num_var"
   ]
  },
  {
   "cell_type": "markdown",
   "metadata": {},
   "source": [
    "# Multiple linear regression"
   ]
  },
  {
   "cell_type": "code",
   "execution_count": 13,
   "metadata": {},
   "outputs": [
    {
     "name": "stdout",
     "output_type": "stream",
     "text": [
      "score_multiple_reg: 0.3610\n"
     ]
    }
   ],
   "source": [
    "multiple_reg = LinearRegression().fit(X_train_pca, y_train)\n",
    "score_multiple_reg = multiple_reg.score(X_test_pca, y_test)\n",
    "print('score_multiple_reg:', \"%.4f\"%score_multiple_reg)"
   ]
  },
  {
   "cell_type": "markdown",
   "metadata": {},
   "source": [
    "# Multiple polynomial regression"
   ]
  },
  {
   "cell_type": "code",
   "execution_count": 14,
   "metadata": {},
   "outputs": [
    {
     "data": {
      "text/plain": [
       "0.36101131318651736"
      ]
     },
     "execution_count": 14,
     "metadata": {},
     "output_type": "execute_result"
    }
   ],
   "source": [
    "#to prove this is the correct polynomial regression, set degree to 1\n",
    "poly = PolynomialFeatures(1)\n",
    "# polynomial transform\n",
    "X_train_poly = poly.fit_transform(X_train_pca, y_train)\n",
    "X_val_poly = poly.fit_transform(X_val_pca,y_val)\n",
    "X_test_poly = poly.fit_transform(X_test_pca,y_test)\n",
    "\n",
    "# fit to linear regression\n",
    "polyreg = LinearRegression().fit(X_train_poly, y_train)\n",
    "\n",
    "# predict using liear regression\n",
    "score_poly_reg = polyreg.score(X_test_poly, y_test)\n",
    "score_poly_reg"
   ]
  },
  {
   "cell_type": "code",
   "execution_count": 15,
   "metadata": {
    "scrolled": false
   },
   "outputs": [
    {
     "name": "stdout",
     "output_type": "stream",
     "text": [
      "score_poly_reg, degree 2 : 0.3411\n",
      "score_poly_reg, degree 3 : -2.2242\n",
      "score_poly_reg, degree 4 : -4603.4662\n",
      "score_poly_reg, degree 5 : -1809.6802\n",
      "max degree: 2\n"
     ]
    }
   ],
   "source": [
    "# use val to find the appropriate degree\n",
    "mpr = dict()\n",
    "for i in range(2,6):\n",
    "    degree=i\n",
    "    poly = PolynomialFeatures(degree)\n",
    "    # polynomial transform\n",
    "    X_train_poly = poly.fit_transform(X_train_pca, y_train)\n",
    "    X_val_poly = poly.fit_transform(X_val_pca,y_val)\n",
    "    X_test_poly = poly.fit_transform(X_test_pca,y_test)\n",
    "\n",
    "    # fit to linear regression\n",
    "    polyreg = LinearRegression().fit(X_train_poly, y_train)\n",
    "\n",
    "    # predict using liear regression\n",
    "    score_poly_reg = polyreg.score(X_val_poly, y_val)\n",
    "    print('score_poly_reg, degree',i,':', \"%.4f\"%score_poly_reg)\n",
    "    mpr[f'{i}'] = score_poly_reg\n",
    "    \n",
    "max_degree = max(mpr, key = mpr.get)\n",
    "print('max degree:', max_degree)"
   ]
  },
  {
   "cell_type": "code",
   "execution_count": 16,
   "metadata": {},
   "outputs": [
    {
     "data": {
      "text/plain": [
       "0.2583214413641566"
      ]
     },
     "execution_count": 16,
     "metadata": {},
     "output_type": "execute_result"
    }
   ],
   "source": [
    "poly = PolynomialFeatures(int(max_degree))\n",
    "# polynomial transform\n",
    "X_train_poly = poly.fit_transform(X_train_pca, y_train)\n",
    "X_val_poly = poly.fit_transform(X_val_pca,y_val)\n",
    "X_test_poly = poly.fit_transform(X_test_pca,y_test)\n",
    "\n",
    "# fit to linear regression\n",
    "polyreg = LinearRegression().fit(X_train_poly, y_train)\n",
    "\n",
    "# predict using liear regression\n",
    "score_poly_reg = polyreg.score(X_test_poly, y_test)\n",
    "score_poly_reg"
   ]
  },
  {
   "cell_type": "markdown",
   "metadata": {},
   "source": [
    "# Random forest classifier"
   ]
  },
  {
   "cell_type": "code",
   "execution_count": 17,
   "metadata": {},
   "outputs": [
    {
     "name": "stdout",
     "output_type": "stream",
     "text": [
      "max depth: 8\n"
     ]
    }
   ],
   "source": [
    "# testing for different max depth\n",
    "rfc = dict()\n",
    "for i in range (1, 15):\n",
    "    clf = RandomForestClassifier(max_depth=i, random_state=0).fit(X_train_c_pca, y_train_c)\n",
    "    y_pred = clf.predict(X_val_c_pca)\n",
    "    score_clf = accuracy_score(y_val_c, y_pred)\n",
    "    rfc[f'{i}'] = score_clf\n",
    "    #print('score_clf_',i,\":\", \"%.4f\"%score_clf)\n",
    "max_depth = max(rfc, key=rfc.get)\n",
    "print('max depth:', max_depth)"
   ]
  },
  {
   "cell_type": "code",
   "execution_count": 18,
   "metadata": {},
   "outputs": [
    {
     "name": "stdout",
     "output_type": "stream",
     "text": [
      "score_rf_clf: 0.7213\n"
     ]
    }
   ],
   "source": [
    "# choose max_depth = 4\n",
    "clf = RandomForestClassifier(max_depth=int(max_depth), random_state=0).fit(X_train_c_pca, y_train_c)\n",
    "score_rf_clf = clf.score(X_test_c_pca, y_test_c)\n",
    "print('score_rf_clf:', \"%.4f\"%score_rf_clf)"
   ]
  },
  {
   "cell_type": "markdown",
   "metadata": {},
   "source": [
    "# Random forest regressor"
   ]
  },
  {
   "cell_type": "code",
   "execution_count": 19,
   "metadata": {},
   "outputs": [
    {
     "name": "stdout",
     "output_type": "stream",
     "text": [
      "score_rf_reg: 0.1301\n"
     ]
    }
   ],
   "source": [
    "clf_reg = RandomForestRegressor().fit(X_train_pca, y_train)\n",
    "score_rf_reg = clf_reg.score(X_test_pca, y_test)\n",
    "print('score_rf_reg:', \"%.4f\"%score_rf_reg)"
   ]
  },
  {
   "cell_type": "markdown",
   "metadata": {},
   "source": [
    "# Logistic regression"
   ]
  },
  {
   "cell_type": "code",
   "execution_count": 20,
   "metadata": {},
   "outputs": [
    {
     "name": "stdout",
     "output_type": "stream",
     "text": [
      "score_logistic: 0.7049\n"
     ]
    }
   ],
   "source": [
    "logistic_model = LogisticRegression(penalty = 'l1', solver='liblinear', random_state=0).fit(X_train_c_pca, y_train_c)\n",
    "score_logistic = logistic_model.score(X_test_c_pca, y_test_c)\n",
    "print('score_logistic:', \"%.4f\"%score_logistic)"
   ]
  },
  {
   "cell_type": "markdown",
   "metadata": {},
   "source": [
    "# Gradient boosting classifier"
   ]
  },
  {
   "cell_type": "code",
   "execution_count": 21,
   "metadata": {},
   "outputs": [
    {
     "data": {
      "text/plain": [
       "0.7049180327868853"
      ]
     },
     "execution_count": 21,
     "metadata": {},
     "output_type": "execute_result"
    }
   ],
   "source": [
    "gra_clf = GradientBoostingClassifier(n_estimators = 200, learning_rate=0.50, max_depth=5, random_state=0).fit(X_train_c_pca, y_train_c)\n",
    "score_gb_clf = gra_clf.score(X_test_c_pca, y_test_c)\n",
    "score_gb_clf"
   ]
  },
  {
   "cell_type": "markdown",
   "metadata": {},
   "source": [
    "# Gradient boosting regressor "
   ]
  },
  {
   "cell_type": "code",
   "execution_count": 22,
   "metadata": {},
   "outputs": [
    {
     "data": {
      "text/plain": [
       "-0.06145469590889019"
      ]
     },
     "execution_count": 22,
     "metadata": {},
     "output_type": "execute_result"
    }
   ],
   "source": [
    "gra_reg = GradientBoostingRegressor(random_state=0).fit(X_train_pca, y_train)\n",
    "score_gb_reg = gra_reg.score(X_test_pca, y_test)\n",
    "score_gb_reg"
   ]
  },
  {
   "cell_type": "markdown",
   "metadata": {},
   "source": [
    "# XGBoost classifier"
   ]
  },
  {
   "cell_type": "code",
   "execution_count": 23,
   "metadata": {},
   "outputs": [
    {
     "name": "stdout",
     "output_type": "stream",
     "text": [
      "[16:18:49] WARNING: C:/Users/Administrator/workspace/xgboost-win64_release_1.3.0/src/learner.cc:1061: Starting in XGBoost 1.3.0, the default evaluation metric used with the objective 'binary:logistic' was changed from 'error' to 'logloss'. Explicitly set eval_metric if you'd like to restore the old behavior.\n"
     ]
    },
    {
     "name": "stderr",
     "output_type": "stream",
     "text": [
      "C:\\Users\\lemon\\anaconda3\\lib\\site-packages\\xgboost\\sklearn.py:888: UserWarning: The use of label encoder in XGBClassifier is deprecated and will be removed in a future release. To remove this warning, do the following: 1) Pass option use_label_encoder=False when constructing XGBClassifier object; and 2) Encode your labels (y) as integers starting with 0, i.e. 0, 1, 2, ..., [num_class - 1].\n",
      "  warnings.warn(label_encoder_deprecation_msg, UserWarning)\n"
     ]
    },
    {
     "data": {
      "text/plain": [
       "0.6557377049180327"
      ]
     },
     "execution_count": 23,
     "metadata": {},
     "output_type": "execute_result"
    }
   ],
   "source": [
    "xgb_clf = XGBClassifier().fit(X_train_c_pca, y_train_c)\n",
    "score_xgb_clf = xgb_clf.score(X_test_c_pca, y_test_c)\n",
    "score_xgb_clf"
   ]
  },
  {
   "cell_type": "markdown",
   "metadata": {},
   "source": [
    "# XGBoost regressor"
   ]
  },
  {
   "cell_type": "code",
   "execution_count": 24,
   "metadata": {},
   "outputs": [
    {
     "data": {
      "text/plain": [
       "-0.046218845406195586"
      ]
     },
     "execution_count": 24,
     "metadata": {},
     "output_type": "execute_result"
    }
   ],
   "source": [
    "xgb_reg = XGBRegressor(random_state = 0).fit(X_train_pca, y_train)\n",
    "score_xgb_reg = xgb_reg.score(X_test_pca, y_test)\n",
    "score_xgb_reg"
   ]
  },
  {
   "cell_type": "markdown",
   "metadata": {},
   "source": [
    "# AdaBoost classifier"
   ]
  },
  {
   "cell_type": "code",
   "execution_count": 25,
   "metadata": {},
   "outputs": [
    {
     "data": {
      "text/plain": [
       "0.6557377049180327"
      ]
     },
     "execution_count": 25,
     "metadata": {},
     "output_type": "execute_result"
    }
   ],
   "source": [
    "adb_clf = AdaBoostClassifier().fit(X_train_c_pca, y_train_c)\n",
    "score_adb_clf = adb_clf.score(X_test_c_pca, y_test_c)\n",
    "score_adb_clf"
   ]
  },
  {
   "cell_type": "markdown",
   "metadata": {},
   "source": [
    "# AdaBoost regressor"
   ]
  },
  {
   "cell_type": "code",
   "execution_count": 26,
   "metadata": {},
   "outputs": [
    {
     "data": {
      "text/plain": [
       "0.3377836333418309"
      ]
     },
     "execution_count": 26,
     "metadata": {},
     "output_type": "execute_result"
    }
   ],
   "source": [
    "adb_reg = AdaBoostRegressor().fit(X_train_pca, y_train)\n",
    "score_adb_reg = adb_reg.score(X_test_pca, y_test)\n",
    "score_adb_reg"
   ]
  },
  {
   "cell_type": "markdown",
   "metadata": {},
   "source": [
    "# Support vector classification"
   ]
  },
  {
   "cell_type": "code",
   "execution_count": 27,
   "metadata": {},
   "outputs": [
    {
     "name": "stdout",
     "output_type": "stream",
     "text": [
      "0.6557377049180327\n",
      "0.7213114754098361\n",
      "0.6557377049180327\n"
     ]
    }
   ],
   "source": [
    "# Try different kernels\n",
    "kernels = ('linear', 'poly', 'rbf')\n",
    "\n",
    "for k in kernels:\n",
    "    svm_clf = SVC(kernel=k).fit(X_train_c_pca, y_train_c)\n",
    "    y_pred = svm_clf.predict(X_test_c_pca)\n",
    "    vars()[f'score_svc_{k}']= accuracy_score(y_test_c, y_pred)\n",
    "    \n",
    "print(score_svc_linear)\n",
    "print(score_svc_poly)\n",
    "print(score_svc_rbf)"
   ]
  },
  {
   "cell_type": "markdown",
   "metadata": {},
   "source": [
    "# Gaussian Naive Bayes"
   ]
  },
  {
   "cell_type": "code",
   "execution_count": 28,
   "metadata": {},
   "outputs": [
    {
     "name": "stdout",
     "output_type": "stream",
     "text": [
      "0.6885245901639344\n"
     ]
    }
   ],
   "source": [
    "gnb_clf = GaussianNB().fit(X_train_c_pca, y_train_c)\n",
    "score_gnb = gnb_clf.score(X_test_c_pca, y_test_c)\n",
    "print(score_gnb)"
   ]
  },
  {
   "cell_type": "markdown",
   "metadata": {},
   "source": [
    "# Neuro networks"
   ]
  },
  {
   "cell_type": "code",
   "execution_count": 29,
   "metadata": {
    "scrolled": true
   },
   "outputs": [
    {
     "name": "stdout",
     "output_type": "stream",
     "text": [
      "Epoch 1/50\n",
      "9/9 [==============================] - 1s 112ms/step - loss: 0.8078 - accuracy: 0.4879 - val_loss: 0.7789 - val_accuracy: 0.3934\n",
      "Epoch 2/50\n",
      "9/9 [==============================] - 0s 4ms/step - loss: 0.7696 - accuracy: 0.5227 - val_loss: 0.7481 - val_accuracy: 0.4262\n",
      "Epoch 3/50\n",
      "9/9 [==============================] - 0s 4ms/step - loss: 0.7295 - accuracy: 0.5481 - val_loss: 0.7262 - val_accuracy: 0.4590\n",
      "Epoch 4/50\n",
      "9/9 [==============================] - 0s 4ms/step - loss: 0.7453 - accuracy: 0.5004 - val_loss: 0.7106 - val_accuracy: 0.5082\n",
      "Epoch 5/50\n",
      "9/9 [==============================] - 0s 4ms/step - loss: 0.7016 - accuracy: 0.5604 - val_loss: 0.6992 - val_accuracy: 0.5082\n",
      "Epoch 6/50\n",
      "9/9 [==============================] - 0s 4ms/step - loss: 0.6748 - accuracy: 0.5955 - val_loss: 0.6897 - val_accuracy: 0.5410\n",
      "Epoch 7/50\n",
      "9/9 [==============================] - 0s 4ms/step - loss: 0.6724 - accuracy: 0.5818 - val_loss: 0.6815 - val_accuracy: 0.5410\n",
      "Epoch 8/50\n",
      "9/9 [==============================] - 0s 4ms/step - loss: 0.6839 - accuracy: 0.5981 - val_loss: 0.6743 - val_accuracy: 0.5574\n",
      "Epoch 9/50\n",
      "9/9 [==============================] - 0s 4ms/step - loss: 0.6575 - accuracy: 0.6346 - val_loss: 0.6684 - val_accuracy: 0.5574\n",
      "Epoch 10/50\n",
      "9/9 [==============================] - 0s 4ms/step - loss: 0.6535 - accuracy: 0.6633 - val_loss: 0.6639 - val_accuracy: 0.5574\n",
      "Epoch 11/50\n",
      "9/9 [==============================] - 0s 4ms/step - loss: 0.6473 - accuracy: 0.6742 - val_loss: 0.6588 - val_accuracy: 0.5574\n",
      "Epoch 12/50\n",
      "9/9 [==============================] - 0s 4ms/step - loss: 0.6441 - accuracy: 0.6643 - val_loss: 0.6551 - val_accuracy: 0.5574\n",
      "Epoch 13/50\n",
      "9/9 [==============================] - 0s 4ms/step - loss: 0.6401 - accuracy: 0.6731 - val_loss: 0.6519 - val_accuracy: 0.5738\n",
      "Epoch 14/50\n",
      "9/9 [==============================] - 0s 4ms/step - loss: 0.6383 - accuracy: 0.6827 - val_loss: 0.6490 - val_accuracy: 0.5738\n",
      "Epoch 15/50\n",
      "9/9 [==============================] - 0s 4ms/step - loss: 0.6116 - accuracy: 0.7144 - val_loss: 0.6458 - val_accuracy: 0.5902\n",
      "Epoch 16/50\n",
      "9/9 [==============================] - 0s 4ms/step - loss: 0.6167 - accuracy: 0.6999 - val_loss: 0.6432 - val_accuracy: 0.5738\n",
      "Epoch 17/50\n",
      "9/9 [==============================] - 0s 4ms/step - loss: 0.6113 - accuracy: 0.6989 - val_loss: 0.6401 - val_accuracy: 0.5574\n",
      "Epoch 18/50\n",
      "9/9 [==============================] - 0s 4ms/step - loss: 0.5976 - accuracy: 0.7256 - val_loss: 0.6371 - val_accuracy: 0.5738\n",
      "Epoch 19/50\n",
      "9/9 [==============================] - 0s 4ms/step - loss: 0.5947 - accuracy: 0.7214 - val_loss: 0.6342 - val_accuracy: 0.5738\n",
      "Epoch 20/50\n",
      "9/9 [==============================] - 0s 4ms/step - loss: 0.6000 - accuracy: 0.7023 - val_loss: 0.6301 - val_accuracy: 0.6230\n",
      "Epoch 21/50\n",
      "9/9 [==============================] - 0s 4ms/step - loss: 0.5863 - accuracy: 0.6961 - val_loss: 0.6268 - val_accuracy: 0.6230\n",
      "Epoch 22/50\n",
      "9/9 [==============================] - 0s 4ms/step - loss: 0.5605 - accuracy: 0.7704 - val_loss: 0.6235 - val_accuracy: 0.6393\n",
      "Epoch 23/50\n",
      "9/9 [==============================] - 0s 4ms/step - loss: 0.5651 - accuracy: 0.7354 - val_loss: 0.6201 - val_accuracy: 0.6393\n",
      "Epoch 24/50\n",
      "9/9 [==============================] - 0s 4ms/step - loss: 0.5717 - accuracy: 0.7397 - val_loss: 0.6168 - val_accuracy: 0.6393\n",
      "Epoch 25/50\n",
      "9/9 [==============================] - 0s 4ms/step - loss: 0.5708 - accuracy: 0.7410 - val_loss: 0.6132 - val_accuracy: 0.6393\n",
      "Epoch 26/50\n",
      "9/9 [==============================] - 0s 4ms/step - loss: 0.5638 - accuracy: 0.7380 - val_loss: 0.6107 - val_accuracy: 0.6557\n",
      "Epoch 27/50\n",
      "9/9 [==============================] - 0s 4ms/step - loss: 0.5346 - accuracy: 0.7585 - val_loss: 0.6079 - val_accuracy: 0.6557\n",
      "Epoch 28/50\n",
      "9/9 [==============================] - 0s 4ms/step - loss: 0.5441 - accuracy: 0.7411 - val_loss: 0.6047 - val_accuracy: 0.6721\n",
      "Epoch 29/50\n",
      "9/9 [==============================] - 0s 4ms/step - loss: 0.5382 - accuracy: 0.7486 - val_loss: 0.6025 - val_accuracy: 0.6721\n",
      "Epoch 30/50\n",
      "9/9 [==============================] - 0s 4ms/step - loss: 0.5579 - accuracy: 0.7312 - val_loss: 0.6007 - val_accuracy: 0.6721\n",
      "Epoch 31/50\n",
      "9/9 [==============================] - 0s 4ms/step - loss: 0.5381 - accuracy: 0.7232 - val_loss: 0.5990 - val_accuracy: 0.6885\n",
      "Epoch 32/50\n",
      "9/9 [==============================] - 0s 4ms/step - loss: 0.5044 - accuracy: 0.7851 - val_loss: 0.5976 - val_accuracy: 0.6885\n",
      "Epoch 33/50\n",
      "9/9 [==============================] - 0s 4ms/step - loss: 0.5130 - accuracy: 0.7474 - val_loss: 0.5969 - val_accuracy: 0.7049\n",
      "Epoch 34/50\n",
      "9/9 [==============================] - 0s 4ms/step - loss: 0.4971 - accuracy: 0.7673 - val_loss: 0.5957 - val_accuracy: 0.7049\n",
      "Epoch 35/50\n",
      "9/9 [==============================] - 0s 4ms/step - loss: 0.4900 - accuracy: 0.7793 - val_loss: 0.5952 - val_accuracy: 0.7213\n",
      "Epoch 36/50\n",
      "9/9 [==============================] - 0s 4ms/step - loss: 0.4729 - accuracy: 0.7934 - val_loss: 0.5948 - val_accuracy: 0.7213\n",
      "Epoch 37/50\n",
      "9/9 [==============================] - 0s 4ms/step - loss: 0.5098 - accuracy: 0.7544 - val_loss: 0.5946 - val_accuracy: 0.7213\n",
      "Epoch 38/50\n",
      "9/9 [==============================] - 0s 4ms/step - loss: 0.5201 - accuracy: 0.7459 - val_loss: 0.5941 - val_accuracy: 0.7049\n",
      "Epoch 39/50\n",
      "9/9 [==============================] - 0s 4ms/step - loss: 0.4952 - accuracy: 0.7491 - val_loss: 0.5942 - val_accuracy: 0.7049\n",
      "Epoch 40/50\n",
      "9/9 [==============================] - 0s 4ms/step - loss: 0.4990 - accuracy: 0.7527 - val_loss: 0.5939 - val_accuracy: 0.7049\n",
      "Epoch 41/50\n",
      "9/9 [==============================] - 0s 4ms/step - loss: 0.4739 - accuracy: 0.7657 - val_loss: 0.5948 - val_accuracy: 0.7049\n",
      "Epoch 42/50\n",
      "9/9 [==============================] - 0s 4ms/step - loss: 0.5102 - accuracy: 0.7170 - val_loss: 0.5954 - val_accuracy: 0.7049\n",
      "Epoch 43/50\n",
      "9/9 [==============================] - 0s 4ms/step - loss: 0.4752 - accuracy: 0.7774 - val_loss: 0.5961 - val_accuracy: 0.7049\n",
      "Epoch 44/50\n",
      "9/9 [==============================] - 0s 4ms/step - loss: 0.4685 - accuracy: 0.7782 - val_loss: 0.5972 - val_accuracy: 0.7049\n",
      "Epoch 45/50\n",
      "9/9 [==============================] - 0s 4ms/step - loss: 0.4631 - accuracy: 0.7617 - val_loss: 0.5981 - val_accuracy: 0.7049\n",
      "Epoch 46/50\n",
      "9/9 [==============================] - 0s 4ms/step - loss: 0.4666 - accuracy: 0.7486 - val_loss: 0.5994 - val_accuracy: 0.7049\n",
      "Epoch 47/50\n",
      "9/9 [==============================] - 0s 4ms/step - loss: 0.4842 - accuracy: 0.7281 - val_loss: 0.6007 - val_accuracy: 0.7049\n",
      "Epoch 48/50\n",
      "9/9 [==============================] - 0s 4ms/step - loss: 0.4490 - accuracy: 0.7518 - val_loss: 0.6019 - val_accuracy: 0.7049\n",
      "Epoch 49/50\n",
      "9/9 [==============================] - 0s 4ms/step - loss: 0.4714 - accuracy: 0.7655 - val_loss: 0.6027 - val_accuracy: 0.7049\n",
      "Epoch 50/50\n",
      "9/9 [==============================] - 0s 4ms/step - loss: 0.4951 - accuracy: 0.7323 - val_loss: 0.6044 - val_accuracy: 0.7049\n"
     ]
    }
   ],
   "source": [
    "model = keras.models.Sequential()\n",
    "model.add(keras.layers.Dense(10, input_dim=num_var, activation='relu'))\n",
    "model.add(keras.layers.Dense(5, activation='relu'))\n",
    "model.add(keras.layers.Dense(1, activation='sigmoid'))\n",
    "\n",
    "model.compile(loss='binary_crossentropy', optimizer='adam', metrics=['accuracy'])\n",
    "\n",
    "history = model.fit(X_train_c_pca, y_train_c, epochs=50, validation_data=(X_val_c_pca, y_val_c))"
   ]
  },
  {
   "cell_type": "code",
   "execution_count": 30,
   "metadata": {},
   "outputs": [
    {
     "name": "stdout",
     "output_type": "stream",
     "text": [
      "2/2 [==============================] - 0s 998us/step - loss: 0.6110 - accuracy: 0.6393\n",
      "0.6393442749977112\n"
     ]
    }
   ],
   "source": [
    "loss, score_neuro = model.evaluate(X_test_c_pca, y_test_c)\n",
    "print(score_neuro)"
   ]
  },
  {
   "cell_type": "markdown",
   "metadata": {},
   "source": [
    "# Summary"
   ]
  },
  {
   "cell_type": "code",
   "execution_count": 31,
   "metadata": {},
   "outputs": [
    {
     "data": {
      "text/html": [
       "<div>\n",
       "<style scoped>\n",
       "    .dataframe tbody tr th:only-of-type {\n",
       "        vertical-align: middle;\n",
       "    }\n",
       "\n",
       "    .dataframe tbody tr th {\n",
       "        vertical-align: top;\n",
       "    }\n",
       "\n",
       "    .dataframe thead th {\n",
       "        text-align: right;\n",
       "    }\n",
       "</style>\n",
       "<table border=\"1\" class=\"dataframe\">\n",
       "  <thead>\n",
       "    <tr style=\"text-align: right;\">\n",
       "      <th></th>\n",
       "      <th>Score</th>\n",
       "    </tr>\n",
       "    <tr>\n",
       "      <th>Regression models</th>\n",
       "      <th></th>\n",
       "    </tr>\n",
       "  </thead>\n",
       "  <tbody>\n",
       "    <tr>\n",
       "      <th>Multiple linear regression</th>\n",
       "      <td>0.361011</td>\n",
       "    </tr>\n",
       "    <tr>\n",
       "      <th>Multiple polynomial regression</th>\n",
       "      <td>0.258321</td>\n",
       "    </tr>\n",
       "    <tr>\n",
       "      <th>Random forest regressor</th>\n",
       "      <td>0.130086</td>\n",
       "    </tr>\n",
       "    <tr>\n",
       "      <th>Gradient boosting regressor</th>\n",
       "      <td>-0.061455</td>\n",
       "    </tr>\n",
       "    <tr>\n",
       "      <th>XGBoost regressor</th>\n",
       "      <td>-0.046219</td>\n",
       "    </tr>\n",
       "    <tr>\n",
       "      <th>AdaBoost regressor</th>\n",
       "      <td>0.337784</td>\n",
       "    </tr>\n",
       "  </tbody>\n",
       "</table>\n",
       "</div>"
      ],
      "text/plain": [
       "                                   Score\n",
       "Regression models                       \n",
       "Multiple linear regression      0.361011\n",
       "Multiple polynomial regression  0.258321\n",
       "Random forest regressor         0.130086\n",
       "Gradient boosting regressor    -0.061455\n",
       "XGBoost regressor              -0.046219\n",
       "AdaBoost regressor              0.337784"
      ]
     },
     "execution_count": 31,
     "metadata": {},
     "output_type": "execute_result"
    }
   ],
   "source": [
    "reg = {\n",
    "    'Multiple linear regression': score_multiple_reg,\n",
    "    'Multiple polynomial regression': score_poly_reg,\n",
    "    'Random forest regressor': score_rf_reg,\n",
    "    'Gradient boosting regressor': score_gb_reg,\n",
    "    'XGBoost regressor': score_xgb_reg,\n",
    "    'AdaBoost regressor': score_adb_reg\n",
    "}\n",
    "reg_df = pd.DataFrame.from_dict(reg, orient='index', columns = ['Score'])\n",
    "reg_df.index.name = 'Regression models'\n",
    "#reg_df.sort_values(by=['Score'], ascending=False)\n",
    "reg_df"
   ]
  },
  {
   "cell_type": "code",
   "execution_count": 32,
   "metadata": {},
   "outputs": [
    {
     "data": {
      "text/html": [
       "<div>\n",
       "<style scoped>\n",
       "    .dataframe tbody tr th:only-of-type {\n",
       "        vertical-align: middle;\n",
       "    }\n",
       "\n",
       "    .dataframe tbody tr th {\n",
       "        vertical-align: top;\n",
       "    }\n",
       "\n",
       "    .dataframe thead th {\n",
       "        text-align: right;\n",
       "    }\n",
       "</style>\n",
       "<table border=\"1\" class=\"dataframe\">\n",
       "  <thead>\n",
       "    <tr style=\"text-align: right;\">\n",
       "      <th></th>\n",
       "      <th>Score</th>\n",
       "    </tr>\n",
       "    <tr>\n",
       "      <th>Classifier models</th>\n",
       "      <th></th>\n",
       "    </tr>\n",
       "  </thead>\n",
       "  <tbody>\n",
       "    <tr>\n",
       "      <th>Logistic regression</th>\n",
       "      <td>0.704918</td>\n",
       "    </tr>\n",
       "    <tr>\n",
       "      <th>Random forest classifier</th>\n",
       "      <td>0.721311</td>\n",
       "    </tr>\n",
       "    <tr>\n",
       "      <th>Gradient boosting classifier</th>\n",
       "      <td>0.704918</td>\n",
       "    </tr>\n",
       "    <tr>\n",
       "      <th>XGBoost classifier</th>\n",
       "      <td>0.655738</td>\n",
       "    </tr>\n",
       "    <tr>\n",
       "      <th>AdaBoost classifier</th>\n",
       "      <td>0.655738</td>\n",
       "    </tr>\n",
       "    <tr>\n",
       "      <th>Gaussian naive Bayes</th>\n",
       "      <td>0.688525</td>\n",
       "    </tr>\n",
       "    <tr>\n",
       "      <th>SVC linear</th>\n",
       "      <td>0.655738</td>\n",
       "    </tr>\n",
       "    <tr>\n",
       "      <th>SVC polynomial</th>\n",
       "      <td>0.721311</td>\n",
       "    </tr>\n",
       "    <tr>\n",
       "      <th>SVC RBF</th>\n",
       "      <td>0.655738</td>\n",
       "    </tr>\n",
       "    <tr>\n",
       "      <th>Neuro network</th>\n",
       "      <td>0.639344</td>\n",
       "    </tr>\n",
       "  </tbody>\n",
       "</table>\n",
       "</div>"
      ],
      "text/plain": [
       "                                 Score\n",
       "Classifier models                     \n",
       "Logistic regression           0.704918\n",
       "Random forest classifier      0.721311\n",
       "Gradient boosting classifier  0.704918\n",
       "XGBoost classifier            0.655738\n",
       "AdaBoost classifier           0.655738\n",
       "Gaussian naive Bayes          0.688525\n",
       "SVC linear                    0.655738\n",
       "SVC polynomial                0.721311\n",
       "SVC RBF                       0.655738\n",
       "Neuro network                 0.639344"
      ]
     },
     "execution_count": 32,
     "metadata": {},
     "output_type": "execute_result"
    }
   ],
   "source": [
    "clf = {\n",
    "    'Logistic regression': score_logistic,\n",
    "    'Random forest classifier': score_rf_clf,\n",
    "    'Gradient boosting classifier': score_gb_clf,\n",
    "    'XGBoost classifier': score_xgb_clf,\n",
    "    'AdaBoost classifier': score_adb_clf,\n",
    "    'Gaussian naive Bayes': score_gnb, \n",
    "    'SVC linear': score_svc_linear,\n",
    "    'SVC polynomial': score_svc_poly, \n",
    "    'SVC RBF': score_svc_rbf,\n",
    "    'Neuro network' : score_neuro\n",
    "}\n",
    "clf_df = pd.DataFrame.from_dict(clf, orient='index',columns = ['Score'])\n",
    "clf_df.index.name = 'Classifier models'\n",
    "#clf_df.sort_values(by=['Score'], ascending=False)\n",
    "clf_df"
   ]
  }
 ],
 "metadata": {
  "kernelspec": {
   "display_name": "Python 3",
   "language": "python",
   "name": "python3"
  },
  "language_info": {
   "codemirror_mode": {
    "name": "ipython",
    "version": 3
   },
   "file_extension": ".py",
   "mimetype": "text/x-python",
   "name": "python",
   "nbconvert_exporter": "python",
   "pygments_lexer": "ipython3",
   "version": "3.8.5"
  }
 },
 "nbformat": 4,
 "nbformat_minor": 4
}
