{
 "cells": [
  {
   "cell_type": "code",
   "execution_count": 1,
   "metadata": {},
   "outputs": [],
   "source": [
    "# import libraries\n",
    "import numpy as np\n",
    "import pandas as pd\n",
    "import matplotlib.pyplot as plt\n",
    "import matplotlib\n",
    "import datetime\n",
    "\n",
    "from sklearn.decomposition import PCA\n",
    "from sklearn.preprocessing import StandardScaler\n",
    "\n",
    "import sklearn\n",
    "from sklearn.model_selection import train_test_split\n",
    "from sklearn.linear_model import LinearRegression\n",
    "from sklearn.ensemble import RandomForestClassifier, RandomForestRegressor\n",
    "from sklearn.linear_model import LogisticRegression\n",
    "from sklearn.svm import SVC\n",
    "from sklearn.naive_bayes import GaussianNB\n",
    "from sklearn.preprocessing import PolynomialFeatures\n",
    "from sklearn.pipeline import Pipeline\n",
    "from sklearn.ensemble import GradientBoostingClassifier,GradientBoostingRegressor\n",
    "from xgboost import XGBClassifier\n",
    "from xgboost import XGBRegressor\n",
    "from sklearn.ensemble import AdaBoostClassifier\n",
    "from sklearn.ensemble import AdaBoostRegressor\n",
    "from sklearn.metrics import accuracy_score\n",
    "\n",
    "\n",
    "import tensorflow as tf\n",
    "from tensorflow import keras\n",
    "import seaborn as sbn"
   ]
  },
  {
   "cell_type": "code",
   "execution_count": 2,
   "metadata": {
    "scrolled": false
   },
   "outputs": [
    {
     "data": {
      "text/html": [
       "<div>\n",
       "<style scoped>\n",
       "    .dataframe tbody tr th:only-of-type {\n",
       "        vertical-align: middle;\n",
       "    }\n",
       "\n",
       "    .dataframe tbody tr th {\n",
       "        vertical-align: top;\n",
       "    }\n",
       "\n",
       "    .dataframe thead th {\n",
       "        text-align: right;\n",
       "    }\n",
       "</style>\n",
       "<table border=\"1\" class=\"dataframe\">\n",
       "  <thead>\n",
       "    <tr style=\"text-align: right;\">\n",
       "      <th></th>\n",
       "      <th>week</th>\n",
       "      <th>crude_oil</th>\n",
       "      <th>cpi</th>\n",
       "      <th>us_pop</th>\n",
       "      <th>public_roads</th>\n",
       "      <th>us_urban_pop</th>\n",
       "      <th>oil_production</th>\n",
       "      <th>djus_auto_index</th>\n",
       "      <th>auto_sales</th>\n",
       "      <th>us_real_gdp</th>\n",
       "      <th>usd_mex_exrate</th>\n",
       "      <th>gasoline</th>\n",
       "    </tr>\n",
       "  </thead>\n",
       "  <tbody>\n",
       "    <tr>\n",
       "      <th>0</th>\n",
       "      <td>2009/1/4</td>\n",
       "      <td>42.40</td>\n",
       "      <td>93.262178</td>\n",
       "      <td>306035.0</td>\n",
       "      <td>4059352.000</td>\n",
       "      <td>244607104.0</td>\n",
       "      <td>4935</td>\n",
       "      <td>83.77</td>\n",
       "      <td>10.535732</td>\n",
       "      <td>14476.2498</td>\n",
       "      <td>13.657700</td>\n",
       "      <td>1.684</td>\n",
       "    </tr>\n",
       "    <tr>\n",
       "      <th>1</th>\n",
       "      <td>2009/1/11</td>\n",
       "      <td>44.46</td>\n",
       "      <td>91.817169</td>\n",
       "      <td>306085.5</td>\n",
       "      <td>4059506.692</td>\n",
       "      <td>244658433.9</td>\n",
       "      <td>4917</td>\n",
       "      <td>83.06</td>\n",
       "      <td>8.347124</td>\n",
       "      <td>16075.1555</td>\n",
       "      <td>13.899500</td>\n",
       "      <td>1.784</td>\n",
       "    </tr>\n",
       "    <tr>\n",
       "      <th>2</th>\n",
       "      <td>2009/1/18</td>\n",
       "      <td>36.73</td>\n",
       "      <td>91.122475</td>\n",
       "      <td>306136.0</td>\n",
       "      <td>4059661.385</td>\n",
       "      <td>244709763.8</td>\n",
       "      <td>5052</td>\n",
       "      <td>74.02</td>\n",
       "      <td>8.574011</td>\n",
       "      <td>15137.1916</td>\n",
       "      <td>14.025100</td>\n",
       "      <td>1.847</td>\n",
       "    </tr>\n",
       "    <tr>\n",
       "      <th>3</th>\n",
       "      <td>2009/1/25</td>\n",
       "      <td>42.15</td>\n",
       "      <td>87.888142</td>\n",
       "      <td>306186.5</td>\n",
       "      <td>4059816.077</td>\n",
       "      <td>244761093.7</td>\n",
       "      <td>5045</td>\n",
       "      <td>64.56</td>\n",
       "      <td>8.961935</td>\n",
       "      <td>15155.3440</td>\n",
       "      <td>14.255700</td>\n",
       "      <td>1.838</td>\n",
       "    </tr>\n",
       "    <tr>\n",
       "      <th>4</th>\n",
       "      <td>2009/2/1</td>\n",
       "      <td>42.70</td>\n",
       "      <td>82.715265</td>\n",
       "      <td>306237.0</td>\n",
       "      <td>4059970.769</td>\n",
       "      <td>244812423.6</td>\n",
       "      <td>5235</td>\n",
       "      <td>62.59</td>\n",
       "      <td>9.348876</td>\n",
       "      <td>15538.1713</td>\n",
       "      <td>14.119200</td>\n",
       "      <td>1.892</td>\n",
       "    </tr>\n",
       "    <tr>\n",
       "      <th>...</th>\n",
       "      <td>...</td>\n",
       "      <td>...</td>\n",
       "      <td>...</td>\n",
       "      <td>...</td>\n",
       "      <td>...</td>\n",
       "      <td>...</td>\n",
       "      <td>...</td>\n",
       "      <td>...</td>\n",
       "      <td>...</td>\n",
       "      <td>...</td>\n",
       "      <td>...</td>\n",
       "      <td>...</td>\n",
       "    </tr>\n",
       "    <tr>\n",
       "      <th>569</th>\n",
       "      <td>2019/12/1</td>\n",
       "      <td>58.07</td>\n",
       "      <td>112.084710</td>\n",
       "      <td>329314.0</td>\n",
       "      <td>4190039.827</td>\n",
       "      <td>270476205.2</td>\n",
       "      <td>12900</td>\n",
       "      <td>310.32</td>\n",
       "      <td>17.941803</td>\n",
       "      <td>19477.3091</td>\n",
       "      <td>19.286699</td>\n",
       "      <td>2.575</td>\n",
       "    </tr>\n",
       "    <tr>\n",
       "      <th>570</th>\n",
       "      <td>2019/12/8</td>\n",
       "      <td>57.64</td>\n",
       "      <td>109.471205</td>\n",
       "      <td>329335.8</td>\n",
       "      <td>4189928.462</td>\n",
       "      <td>270513569.8</td>\n",
       "      <td>12800</td>\n",
       "      <td>311.68</td>\n",
       "      <td>14.872529</td>\n",
       "      <td>19750.1111</td>\n",
       "      <td>18.997499</td>\n",
       "      <td>2.561</td>\n",
       "    </tr>\n",
       "    <tr>\n",
       "      <th>571</th>\n",
       "      <td>2019/12/15</td>\n",
       "      <td>59.25</td>\n",
       "      <td>108.183411</td>\n",
       "      <td>329357.6</td>\n",
       "      <td>4189817.096</td>\n",
       "      <td>270550934.3</td>\n",
       "      <td>12800</td>\n",
       "      <td>318.41</td>\n",
       "      <td>18.616565</td>\n",
       "      <td>20106.3904</td>\n",
       "      <td>18.938499</td>\n",
       "      <td>2.536</td>\n",
       "    </tr>\n",
       "    <tr>\n",
       "      <th>572</th>\n",
       "      <td>2019/12/22</td>\n",
       "      <td>60.75</td>\n",
       "      <td>108.707988</td>\n",
       "      <td>329379.4</td>\n",
       "      <td>4189705.731</td>\n",
       "      <td>270588298.9</td>\n",
       "      <td>12900</td>\n",
       "      <td>334.78</td>\n",
       "      <td>16.962709</td>\n",
       "      <td>20396.2701</td>\n",
       "      <td>18.844700</td>\n",
       "      <td>2.532</td>\n",
       "    </tr>\n",
       "    <tr>\n",
       "      <th>573</th>\n",
       "      <td>2019/12/29</td>\n",
       "      <td>61.29</td>\n",
       "      <td>105.725844</td>\n",
       "      <td>329401.2</td>\n",
       "      <td>4189594.365</td>\n",
       "      <td>270625663.4</td>\n",
       "      <td>12900</td>\n",
       "      <td>337.40</td>\n",
       "      <td>17.838750</td>\n",
       "      <td>18812.8854</td>\n",
       "      <td>18.911301</td>\n",
       "      <td>2.571</td>\n",
       "    </tr>\n",
       "  </tbody>\n",
       "</table>\n",
       "<p>574 rows × 12 columns</p>\n",
       "</div>"
      ],
      "text/plain": [
       "           week  crude_oil         cpi    us_pop  public_roads  us_urban_pop  \\\n",
       "0      2009/1/4      42.40   93.262178  306035.0   4059352.000   244607104.0   \n",
       "1     2009/1/11      44.46   91.817169  306085.5   4059506.692   244658433.9   \n",
       "2     2009/1/18      36.73   91.122475  306136.0   4059661.385   244709763.8   \n",
       "3     2009/1/25      42.15   87.888142  306186.5   4059816.077   244761093.7   \n",
       "4      2009/2/1      42.70   82.715265  306237.0   4059970.769   244812423.6   \n",
       "..          ...        ...         ...       ...           ...           ...   \n",
       "569   2019/12/1      58.07  112.084710  329314.0   4190039.827   270476205.2   \n",
       "570   2019/12/8      57.64  109.471205  329335.8   4189928.462   270513569.8   \n",
       "571  2019/12/15      59.25  108.183411  329357.6   4189817.096   270550934.3   \n",
       "572  2019/12/22      60.75  108.707988  329379.4   4189705.731   270588298.9   \n",
       "573  2019/12/29      61.29  105.725844  329401.2   4189594.365   270625663.4   \n",
       "\n",
       "     oil_production  djus_auto_index  auto_sales  us_real_gdp  usd_mex_exrate  \\\n",
       "0              4935            83.77   10.535732   14476.2498       13.657700   \n",
       "1              4917            83.06    8.347124   16075.1555       13.899500   \n",
       "2              5052            74.02    8.574011   15137.1916       14.025100   \n",
       "3              5045            64.56    8.961935   15155.3440       14.255700   \n",
       "4              5235            62.59    9.348876   15538.1713       14.119200   \n",
       "..              ...              ...         ...          ...             ...   \n",
       "569           12900           310.32   17.941803   19477.3091       19.286699   \n",
       "570           12800           311.68   14.872529   19750.1111       18.997499   \n",
       "571           12800           318.41   18.616565   20106.3904       18.938499   \n",
       "572           12900           334.78   16.962709   20396.2701       18.844700   \n",
       "573           12900           337.40   17.838750   18812.8854       18.911301   \n",
       "\n",
       "     gasoline  \n",
       "0       1.684  \n",
       "1       1.784  \n",
       "2       1.847  \n",
       "3       1.838  \n",
       "4       1.892  \n",
       "..        ...  \n",
       "569     2.575  \n",
       "570     2.561  \n",
       "571     2.536  \n",
       "572     2.532  \n",
       "573     2.571  \n",
       "\n",
       "[574 rows x 12 columns]"
      ]
     },
     "execution_count": 2,
     "metadata": {},
     "output_type": "execute_result"
    }
   ],
   "source": [
    "# import data TODO: Change the file path to the dataset this question needed\n",
    "df = pd.read_csv('..\\\\source_data\\\\crude_gas_p2_df.csv')\n",
    "df"
   ]
  },
  {
   "cell_type": "markdown",
   "metadata": {},
   "source": [
    "# Creating independent and dependent variables "
   ]
  },
  {
   "cell_type": "code",
   "execution_count": 3,
   "metadata": {},
   "outputs": [
    {
     "data": {
      "text/html": [
       "<div>\n",
       "<style scoped>\n",
       "    .dataframe tbody tr th:only-of-type {\n",
       "        vertical-align: middle;\n",
       "    }\n",
       "\n",
       "    .dataframe tbody tr th {\n",
       "        vertical-align: top;\n",
       "    }\n",
       "\n",
       "    .dataframe thead th {\n",
       "        text-align: right;\n",
       "    }\n",
       "</style>\n",
       "<table border=\"1\" class=\"dataframe\">\n",
       "  <thead>\n",
       "    <tr style=\"text-align: right;\">\n",
       "      <th></th>\n",
       "      <th>week</th>\n",
       "      <th>crude_oil</th>\n",
       "      <th>cpi</th>\n",
       "      <th>us_pop</th>\n",
       "      <th>public_roads</th>\n",
       "      <th>us_urban_pop</th>\n",
       "      <th>oil_production</th>\n",
       "      <th>djus_auto_index</th>\n",
       "      <th>auto_sales</th>\n",
       "      <th>us_real_gdp</th>\n",
       "      <th>usd_mex_exrate</th>\n",
       "      <th>gasoline</th>\n",
       "      <th>of_chg_1</th>\n",
       "      <th>of_chg_2</th>\n",
       "      <th>of_chg_3</th>\n",
       "      <th>of_chg_5</th>\n",
       "      <th>of_chg_10</th>\n",
       "      <th>gas_chg</th>\n",
       "    </tr>\n",
       "  </thead>\n",
       "  <tbody>\n",
       "    <tr>\n",
       "      <th>11</th>\n",
       "      <td>2009/3/22</td>\n",
       "      <td>49.49</td>\n",
       "      <td>93.593485</td>\n",
       "      <td>306562.2</td>\n",
       "      <td>4061053.615</td>\n",
       "      <td>245171732.9</td>\n",
       "      <td>5432</td>\n",
       "      <td>65.02</td>\n",
       "      <td>10.622196</td>\n",
       "      <td>15121.9490</td>\n",
       "      <td>14.338800</td>\n",
       "      <td>1.962</td>\n",
       "      <td>0.083881</td>\n",
       "      <td>0.146132</td>\n",
       "      <td>0.204136</td>\n",
       "      <td>0.339740</td>\n",
       "      <td>0.113135</td>\n",
       "      <td>0.027225</td>\n",
       "    </tr>\n",
       "    <tr>\n",
       "      <th>12</th>\n",
       "      <td>2009/3/29</td>\n",
       "      <td>52.99</td>\n",
       "      <td>105.508484</td>\n",
       "      <td>306603.6</td>\n",
       "      <td>4061208.308</td>\n",
       "      <td>245223062.8</td>\n",
       "      <td>5480</td>\n",
       "      <td>71.65</td>\n",
       "      <td>7.626950</td>\n",
       "      <td>15312.9473</td>\n",
       "      <td>13.541800</td>\n",
       "      <td>2.046</td>\n",
       "      <td>0.070721</td>\n",
       "      <td>0.160534</td>\n",
       "      <td>0.227189</td>\n",
       "      <td>0.426380</td>\n",
       "      <td>0.442690</td>\n",
       "      <td>0.042813</td>\n",
       "    </tr>\n",
       "    <tr>\n",
       "      <th>13</th>\n",
       "      <td>2009/4/5</td>\n",
       "      <td>50.34</td>\n",
       "      <td>97.283677</td>\n",
       "      <td>306645.0</td>\n",
       "      <td>4061363.000</td>\n",
       "      <td>245274392.8</td>\n",
       "      <td>5469</td>\n",
       "      <td>79.32</td>\n",
       "      <td>9.304512</td>\n",
       "      <td>15389.4132</td>\n",
       "      <td>13.130000</td>\n",
       "      <td>2.037</td>\n",
       "      <td>-0.050009</td>\n",
       "      <td>0.017175</td>\n",
       "      <td>0.102497</td>\n",
       "      <td>0.224818</td>\n",
       "      <td>0.194306</td>\n",
       "      <td>-0.004399</td>\n",
       "    </tr>\n",
       "    <tr>\n",
       "      <th>14</th>\n",
       "      <td>2009/4/12</td>\n",
       "      <td>50.46</td>\n",
       "      <td>79.216384</td>\n",
       "      <td>306699.5</td>\n",
       "      <td>4061517.692</td>\n",
       "      <td>245325722.7</td>\n",
       "      <td>5482</td>\n",
       "      <td>88.05</td>\n",
       "      <td>8.453785</td>\n",
       "      <td>14744.1587</td>\n",
       "      <td>13.097800</td>\n",
       "      <td>2.051</td>\n",
       "      <td>0.002384</td>\n",
       "      <td>-0.047745</td>\n",
       "      <td>0.019600</td>\n",
       "      <td>0.168597</td>\n",
       "      <td>0.181733</td>\n",
       "      <td>0.006873</td>\n",
       "    </tr>\n",
       "    <tr>\n",
       "      <th>15</th>\n",
       "      <td>2009/4/19</td>\n",
       "      <td>49.86</td>\n",
       "      <td>95.223458</td>\n",
       "      <td>306754.0</td>\n",
       "      <td>4061672.385</td>\n",
       "      <td>245377052.6</td>\n",
       "      <td>5421</td>\n",
       "      <td>89.79</td>\n",
       "      <td>9.155383</td>\n",
       "      <td>14624.3705</td>\n",
       "      <td>13.550500</td>\n",
       "      <td>2.059</td>\n",
       "      <td>-0.011891</td>\n",
       "      <td>-0.009535</td>\n",
       "      <td>-0.059068</td>\n",
       "      <td>0.091984</td>\n",
       "      <td>0.222658</td>\n",
       "      <td>0.003901</td>\n",
       "    </tr>\n",
       "    <tr>\n",
       "      <th>...</th>\n",
       "      <td>...</td>\n",
       "      <td>...</td>\n",
       "      <td>...</td>\n",
       "      <td>...</td>\n",
       "      <td>...</td>\n",
       "      <td>...</td>\n",
       "      <td>...</td>\n",
       "      <td>...</td>\n",
       "      <td>...</td>\n",
       "      <td>...</td>\n",
       "      <td>...</td>\n",
       "      <td>...</td>\n",
       "      <td>...</td>\n",
       "      <td>...</td>\n",
       "      <td>...</td>\n",
       "      <td>...</td>\n",
       "      <td>...</td>\n",
       "      <td>...</td>\n",
       "    </tr>\n",
       "    <tr>\n",
       "      <th>569</th>\n",
       "      <td>2019/12/1</td>\n",
       "      <td>58.07</td>\n",
       "      <td>112.084710</td>\n",
       "      <td>329314.0</td>\n",
       "      <td>4190039.827</td>\n",
       "      <td>270476205.2</td>\n",
       "      <td>12900</td>\n",
       "      <td>310.32</td>\n",
       "      <td>17.941803</td>\n",
       "      <td>19477.3091</td>\n",
       "      <td>19.286699</td>\n",
       "      <td>2.575</td>\n",
       "      <td>0.020562</td>\n",
       "      <td>0.021460</td>\n",
       "      <td>0.024343</td>\n",
       "      <td>0.051993</td>\n",
       "      <td>-0.021237</td>\n",
       "      <td>-0.001551</td>\n",
       "    </tr>\n",
       "    <tr>\n",
       "      <th>570</th>\n",
       "      <td>2019/12/8</td>\n",
       "      <td>57.64</td>\n",
       "      <td>109.471205</td>\n",
       "      <td>329335.8</td>\n",
       "      <td>4189928.462</td>\n",
       "      <td>270513569.8</td>\n",
       "      <td>12800</td>\n",
       "      <td>311.68</td>\n",
       "      <td>14.872529</td>\n",
       "      <td>19750.1111</td>\n",
       "      <td>18.997499</td>\n",
       "      <td>2.561</td>\n",
       "      <td>-0.007405</td>\n",
       "      <td>0.013005</td>\n",
       "      <td>0.013896</td>\n",
       "      <td>0.044771</td>\n",
       "      <td>0.013005</td>\n",
       "      <td>-0.005437</td>\n",
       "    </tr>\n",
       "    <tr>\n",
       "      <th>571</th>\n",
       "      <td>2019/12/15</td>\n",
       "      <td>59.25</td>\n",
       "      <td>108.183411</td>\n",
       "      <td>329357.6</td>\n",
       "      <td>4189817.096</td>\n",
       "      <td>270550934.3</td>\n",
       "      <td>12800</td>\n",
       "      <td>318.41</td>\n",
       "      <td>18.616565</td>\n",
       "      <td>20106.3904</td>\n",
       "      <td>18.938499</td>\n",
       "      <td>2.536</td>\n",
       "      <td>0.027932</td>\n",
       "      <td>0.020320</td>\n",
       "      <td>0.041301</td>\n",
       "      <td>0.045158</td>\n",
       "      <td>0.115399</td>\n",
       "      <td>-0.009762</td>\n",
       "    </tr>\n",
       "    <tr>\n",
       "      <th>572</th>\n",
       "      <td>2019/12/22</td>\n",
       "      <td>60.75</td>\n",
       "      <td>108.707988</td>\n",
       "      <td>329379.4</td>\n",
       "      <td>4189705.731</td>\n",
       "      <td>270588298.9</td>\n",
       "      <td>12900</td>\n",
       "      <td>334.78</td>\n",
       "      <td>16.962709</td>\n",
       "      <td>20396.2701</td>\n",
       "      <td>18.844700</td>\n",
       "      <td>2.532</td>\n",
       "      <td>0.025316</td>\n",
       "      <td>0.053956</td>\n",
       "      <td>0.046151</td>\n",
       "      <td>0.068602</td>\n",
       "      <td>0.140417</td>\n",
       "      <td>-0.001577</td>\n",
       "    </tr>\n",
       "    <tr>\n",
       "      <th>573</th>\n",
       "      <td>2019/12/29</td>\n",
       "      <td>61.29</td>\n",
       "      <td>105.725844</td>\n",
       "      <td>329401.2</td>\n",
       "      <td>4189594.365</td>\n",
       "      <td>270625663.4</td>\n",
       "      <td>12900</td>\n",
       "      <td>337.40</td>\n",
       "      <td>17.838750</td>\n",
       "      <td>18812.8854</td>\n",
       "      <td>18.911301</td>\n",
       "      <td>2.571</td>\n",
       "      <td>0.008889</td>\n",
       "      <td>0.034430</td>\n",
       "      <td>0.063324</td>\n",
       "      <td>0.077153</td>\n",
       "      <td>0.145822</td>\n",
       "      <td>0.015403</td>\n",
       "    </tr>\n",
       "  </tbody>\n",
       "</table>\n",
       "<p>563 rows × 18 columns</p>\n",
       "</div>"
      ],
      "text/plain": [
       "           week  crude_oil         cpi    us_pop  public_roads  us_urban_pop  \\\n",
       "11    2009/3/22      49.49   93.593485  306562.2   4061053.615   245171732.9   \n",
       "12    2009/3/29      52.99  105.508484  306603.6   4061208.308   245223062.8   \n",
       "13     2009/4/5      50.34   97.283677  306645.0   4061363.000   245274392.8   \n",
       "14    2009/4/12      50.46   79.216384  306699.5   4061517.692   245325722.7   \n",
       "15    2009/4/19      49.86   95.223458  306754.0   4061672.385   245377052.6   \n",
       "..          ...        ...         ...       ...           ...           ...   \n",
       "569   2019/12/1      58.07  112.084710  329314.0   4190039.827   270476205.2   \n",
       "570   2019/12/8      57.64  109.471205  329335.8   4189928.462   270513569.8   \n",
       "571  2019/12/15      59.25  108.183411  329357.6   4189817.096   270550934.3   \n",
       "572  2019/12/22      60.75  108.707988  329379.4   4189705.731   270588298.9   \n",
       "573  2019/12/29      61.29  105.725844  329401.2   4189594.365   270625663.4   \n",
       "\n",
       "     oil_production  djus_auto_index  auto_sales  us_real_gdp  usd_mex_exrate  \\\n",
       "11             5432            65.02   10.622196   15121.9490       14.338800   \n",
       "12             5480            71.65    7.626950   15312.9473       13.541800   \n",
       "13             5469            79.32    9.304512   15389.4132       13.130000   \n",
       "14             5482            88.05    8.453785   14744.1587       13.097800   \n",
       "15             5421            89.79    9.155383   14624.3705       13.550500   \n",
       "..              ...              ...         ...          ...             ...   \n",
       "569           12900           310.32   17.941803   19477.3091       19.286699   \n",
       "570           12800           311.68   14.872529   19750.1111       18.997499   \n",
       "571           12800           318.41   18.616565   20106.3904       18.938499   \n",
       "572           12900           334.78   16.962709   20396.2701       18.844700   \n",
       "573           12900           337.40   17.838750   18812.8854       18.911301   \n",
       "\n",
       "     gasoline  of_chg_1  of_chg_2  of_chg_3  of_chg_5  of_chg_10   gas_chg  \n",
       "11      1.962  0.083881  0.146132  0.204136  0.339740   0.113135  0.027225  \n",
       "12      2.046  0.070721  0.160534  0.227189  0.426380   0.442690  0.042813  \n",
       "13      2.037 -0.050009  0.017175  0.102497  0.224818   0.194306 -0.004399  \n",
       "14      2.051  0.002384 -0.047745  0.019600  0.168597   0.181733  0.006873  \n",
       "15      2.059 -0.011891 -0.009535 -0.059068  0.091984   0.222658  0.003901  \n",
       "..        ...       ...       ...       ...       ...        ...       ...  \n",
       "569     2.575  0.020562  0.021460  0.024343  0.051993  -0.021237 -0.001551  \n",
       "570     2.561 -0.007405  0.013005  0.013896  0.044771   0.013005 -0.005437  \n",
       "571     2.536  0.027932  0.020320  0.041301  0.045158   0.115399 -0.009762  \n",
       "572     2.532  0.025316  0.053956  0.046151  0.068602   0.140417 -0.001577  \n",
       "573     2.571  0.008889  0.034430  0.063324  0.077153   0.145822  0.015403  \n",
       "\n",
       "[563 rows x 18 columns]"
      ]
     },
     "execution_count": 3,
     "metadata": {},
     "output_type": "execute_result"
    }
   ],
   "source": [
    "# calculate independent variables\n",
    "periods = (1,2,3,5,10)\n",
    "for i in periods:\n",
    "    df['of_chg_{}'.format(i)] = df['crude_oil'].pct_change(periods = i)\n",
    "    \n",
    "# calculate dependent variable\n",
    "df['gas_chg'] = df['gasoline'].pct_change(periods=1)\n",
    "\n",
    "# eliminate the empty rows\n",
    "df = df[11:]\n",
    "df"
   ]
  },
  {
   "cell_type": "markdown",
   "metadata": {},
   "source": [
    "# Seperating training, validation, and test datasets"
   ]
  },
  {
   "cell_type": "code",
   "execution_count": 4,
   "metadata": {},
   "outputs": [
    {
     "data": {
      "text/plain": [
       "array([[ 4.94900000e+01,  8.38808585e-02,  1.46132469e-01, ...,\n",
       "         1.06221963e+01,  1.51219490e+04,  1.43388004e+01],\n",
       "       [ 5.29900000e+01,  7.07213579e-02,  1.60534385e-01, ...,\n",
       "         7.62694980e+00,  1.53129473e+04,  1.35417996e+01],\n",
       "       [ 5.03400000e+01, -5.00094357e-02,  1.71751869e-02, ...,\n",
       "         9.30451160e+00,  1.53894132e+04,  1.31300001e+01],\n",
       "       ...,\n",
       "       [ 5.92500000e+01,  2.79319917e-02,  2.03203031e-02, ...,\n",
       "         1.86165647e+01,  2.01063904e+04,  1.89384994e+01],\n",
       "       [ 6.07500000e+01,  2.53164557e-02,  5.39555864e-02, ...,\n",
       "         1.69627090e+01,  2.03962701e+04,  1.88446999e+01],\n",
       "       [ 6.12900000e+01,  8.88888889e-03,  3.44303797e-02, ...,\n",
       "         1.78387504e+01,  1.88128854e+04,  1.89113007e+01]])"
      ]
     },
     "execution_count": 4,
     "metadata": {},
     "output_type": "execute_result"
    }
   ],
   "source": [
    "# create list of independent variable's name TODO: add the appropriate variable names to the list\n",
    "ind_var_name = ['of_chg_{}'.format(i) for i in periods]+['cpi','us_pop','public_roads',\n",
    "                                                         'us_urban_pop','oil_production','djus_auto_index',\n",
    "                                                         'auto_sales','us_real_gdp','usd_mex_exrate']\n",
    "num_var =len(ind_var_name) # put number of variables here\n",
    "\n",
    "# extract the values to X\n",
    "X = df[['crude_oil'] + ind_var_name].values\n",
    "X"
   ]
  },
  {
   "cell_type": "code",
   "execution_count": 5,
   "metadata": {},
   "outputs": [
    {
     "data": {
      "text/plain": [
       "((563, 15), (563,), (563,))"
      ]
     },
     "execution_count": 5,
     "metadata": {},
     "output_type": "execute_result"
    }
   ],
   "source": [
    "# create y for regressor, y_c for classifier\n",
    "y = df['gas_chg']\n",
    "y_c = (df['gas_chg'] > 0).values.astype('int')\n",
    "\n",
    "# set training, validation, and test criterias\n",
    "training_ratio = 0.7\n",
    "validation_ratio = 0.15\n",
    "test_ratio = 0.15\n",
    "\n",
    "# check correctness of X and y\n",
    "X.shape, y.shape, y_c.shape"
   ]
  },
  {
   "cell_type": "code",
   "execution_count": 6,
   "metadata": {},
   "outputs": [
    {
     "name": "stdout",
     "output_type": "stream",
     "text": [
      "X_train shape:\t (393, 15)\n",
      "X_test shape:\t (85, 15)\n",
      "X_val shape:\t (85, 15)\n",
      "y_train shape:\t (393,)\n",
      "y_val shape:\t (85,)\n",
      "y_test shape:\t (85,)\n"
     ]
    }
   ],
   "source": [
    "# create training, validation, and test sets for regressor\n",
    "X_train, X_test, y_train, y_test = train_test_split(X, y, test_size = test_ratio, random_state = 42)\n",
    "X_train, X_val, y_train, y_val = train_test_split(X_train, y_train, test_size = validation_ratio/(validation_ratio + training_ratio), random_state = 42)\n",
    "print(\"X_train shape:\\t\", X_train.shape)\n",
    "print(\"X_test shape:\\t\", X_test.shape)\n",
    "print(\"X_val shape:\\t\", X_val.shape)\n",
    "print(\"y_train shape:\\t\", y_train.shape)\n",
    "print(\"y_val shape:\\t\", y_val.shape)\n",
    "print(\"y_test shape:\\t\", y_test.shape)"
   ]
  },
  {
   "cell_type": "code",
   "execution_count": 7,
   "metadata": {},
   "outputs": [
    {
     "name": "stdout",
     "output_type": "stream",
     "text": [
      "X_train_c shape: (393, 15)\n",
      "X_test_c shape:\t (85, 15)\n",
      "X_val_c shape:\t (85, 15)\n",
      "y_train_c shape: (393,)\n",
      "y_val_c shape:\t (85,)\n",
      "y_test_c shape:\t (85,)\n"
     ]
    }
   ],
   "source": [
    "# create training, validation, and test sets for classifier\n",
    "X_train_c, X_test_c, y_train_c, y_test_c = train_test_split(X, y_c, test_size = test_ratio, random_state = 42)\n",
    "X_train_c, X_val_c, y_train_c, y_val_c = train_test_split(X_train_c, y_train_c, test_size = validation_ratio/(validation_ratio + training_ratio), random_state = 42)\n",
    "print(\"X_train_c shape:\", X_train_c.shape)\n",
    "print(\"X_test_c shape:\\t\", X_test_c.shape)\n",
    "print(\"X_val_c shape:\\t\", X_val_c.shape)\n",
    "print(\"y_train_c shape:\", y_train_c.shape)\n",
    "print(\"y_val_c shape:\\t\", y_val_c.shape)\n",
    "print(\"y_test_c shape:\\t\", y_test_c.shape)"
   ]
  },
  {
   "cell_type": "markdown",
   "metadata": {},
   "source": [
    "# Principal Component Analysis (PCA)"
   ]
  },
  {
   "cell_type": "code",
   "execution_count": 8,
   "metadata": {
    "scrolled": false
   },
   "outputs": [
    {
     "name": "stdout",
     "output_type": "stream",
     "text": [
      "X_train shape:\t (393, 15)\n",
      "X_val shape:\t (85, 15)\n"
     ]
    }
   ],
   "source": [
    "# normalization for regressor set\n",
    "for i in range(X_train.shape[1]):\n",
    "    X_train_mean = X_train[:, i]. mean()\n",
    "    X_train_std = X_train[:, i].std()\n",
    "    X_train[:, i] = (X_train[:,i] - X_train_mean) / X_train_std\n",
    "    X_test[:,i] = (X_test[:,i] - X_train_mean) / X_train_std\n",
    "    X_val[:, i] = (X_val[:,i] - X_train_mean) / X_train_std\n",
    "\n",
    "print(\"X_train shape:\\t\", X_train.shape)\n",
    "print(\"X_val shape:\\t\", X_val.shape)"
   ]
  },
  {
   "cell_type": "code",
   "execution_count": 9,
   "metadata": {
    "scrolled": false
   },
   "outputs": [
    {
     "name": "stdout",
     "output_type": "stream",
     "text": [
      "X_train_c shape: (393, 15)\n",
      "X_val_c shape:\t (85, 15)\n"
     ]
    }
   ],
   "source": [
    "# normalization for classifier set\n",
    "for i in range(X_train_c.shape[1]):\n",
    "    X_train_c_mean = X_train_c[:, i]. mean()\n",
    "    X_train_c_std = X_train_c[:, i].std()\n",
    "    X_train_c[:, i] = (X_train_c[:,i] - X_train_c_mean) / X_train_c_std\n",
    "    X_test_c[:,i] = (X_test_c[:,i] - X_train_c_mean) / X_train_c_std\n",
    "    X_val_c[:, i] = (X_val_c[:,i] - X_train_c_mean) / X_train_c_std\n",
    "\n",
    "print(\"X_train_c shape:\", X_train_c.shape)\n",
    "print(\"X_val_c shape:\\t\", X_val_c.shape)"
   ]
  },
  {
   "cell_type": "code",
   "execution_count": 10,
   "metadata": {},
   "outputs": [
    {
     "name": "stdout",
     "output_type": "stream",
     "text": [
      "X_train_pca shape:\t (393, 8)\n",
      "X_test_pca shape:\t (85, 8)\n",
      "X_val_pca shape:\t (85, 8)\n",
      "y_train shape:\t (393,)\n",
      "y_val shape:\t (85,)\n",
      "y_test shape:\t (85,)\n"
     ]
    }
   ],
   "source": [
    "# PCA for regressor\n",
    "# fit on training set\n",
    "scaler = StandardScaler()\n",
    "scaler.fit(X_train)\n",
    "\n",
    "# apply transform to training and test set\n",
    "X_train_pca = scaler.transform(X_train)\n",
    "X_test_pca = scaler.transform(X_test)\n",
    "X_val_pca = scaler.transform(X_val)\n",
    "\n",
    "# set PCA value\n",
    "pca = PCA(0.95)\n",
    "\n",
    "# fit PCA training set\n",
    "pca.fit(X_train_pca)\n",
    "\n",
    "# apply transform to training and test set\n",
    "X_train_pca = pca.transform(X_train_pca)\n",
    "X_test_pca = pca.transform(X_test_pca)\n",
    "X_val_pca = pca.transform(X_val_pca)\n",
    "print(\"X_train_pca shape:\\t\", X_train_pca.shape)\n",
    "print(\"X_test_pca shape:\\t\", X_test_pca.shape)\n",
    "print(\"X_val_pca shape:\\t\", X_val_pca.shape)\n",
    "print(\"y_train shape:\\t\", y_train.shape)\n",
    "print(\"y_val shape:\\t\", y_val.shape)\n",
    "print(\"y_test shape:\\t\", y_test.shape)"
   ]
  },
  {
   "cell_type": "code",
   "execution_count": 11,
   "metadata": {},
   "outputs": [
    {
     "name": "stdout",
     "output_type": "stream",
     "text": [
      "X_train_c_pca shape:\t (393, 8)\n",
      "X_test_c_pca shape:\t (85, 8)\n",
      "X_val_c_pca shape:\t (85, 8)\n",
      "y_train_c shape: (393,)\n",
      "y_val_c shape:\t (85,)\n",
      "y_test_c shape:\t (85,)\n"
     ]
    }
   ],
   "source": [
    "# PCA for classifier\n",
    "# fit on training set_c\n",
    "scaler = StandardScaler()\n",
    "scaler.fit(X_train_c)\n",
    "\n",
    "# apply transform to training and test set\n",
    "X_train_c_pca = scaler.transform(X_train_c)\n",
    "X_test_c_pca = scaler.transform(X_test_c)\n",
    "X_val_c_pca = scaler.transform(X_val_c)\n",
    "\n",
    "# set PCA value\n",
    "pca = PCA(0.95)\n",
    "\n",
    "# fit PCA training set\n",
    "pca.fit(X_train_c_pca)\n",
    "\n",
    "# apply transform to training and test set\n",
    "X_train_c_pca = pca.transform(X_train_c_pca)\n",
    "X_test_c_pca = pca.transform(X_test_c_pca)\n",
    "X_val_c_pca = pca.transform(X_val_c_pca)\n",
    "print(\"X_train_c_pca shape:\\t\", X_train_c_pca.shape)\n",
    "print(\"X_test_c_pca shape:\\t\", X_test_c_pca.shape)\n",
    "print(\"X_val_c_pca shape:\\t\", X_val_c_pca.shape)\n",
    "print(\"y_train_c shape:\", y_train_c.shape)\n",
    "print(\"y_val_c shape:\\t\", y_val_c.shape)\n",
    "print(\"y_test_c shape:\\t\", y_test_c.shape)"
   ]
  },
  {
   "cell_type": "code",
   "execution_count": 12,
   "metadata": {},
   "outputs": [
    {
     "data": {
      "text/plain": [
       "8"
      ]
     },
     "execution_count": 12,
     "metadata": {},
     "output_type": "execute_result"
    }
   ],
   "source": [
    "num_var = X_train_c_pca.shape[1]\n",
    "num_var"
   ]
  },
  {
   "cell_type": "markdown",
   "metadata": {},
   "source": [
    "# Multiple linear regression"
   ]
  },
  {
   "cell_type": "code",
   "execution_count": 13,
   "metadata": {},
   "outputs": [
    {
     "name": "stdout",
     "output_type": "stream",
     "text": [
      "score_multiple_reg: 0.4741\n"
     ]
    }
   ],
   "source": [
    "multiple_reg = LinearRegression().fit(X_train_pca, y_train)\n",
    "score_multiple_reg = multiple_reg.score(X_test_pca, y_test)\n",
    "print('score_multiple_reg:', \"%.4f\"%score_multiple_reg)"
   ]
  },
  {
   "cell_type": "markdown",
   "metadata": {},
   "source": [
    "# Multiple polynomial regression"
   ]
  },
  {
   "cell_type": "code",
   "execution_count": 14,
   "metadata": {},
   "outputs": [
    {
     "data": {
      "text/plain": [
       "0.47410825221635733"
      ]
     },
     "execution_count": 14,
     "metadata": {},
     "output_type": "execute_result"
    }
   ],
   "source": [
    "#to prove this is the correct polynomial regression, set degree to 1\n",
    "poly = PolynomialFeatures(1)\n",
    "# polynomial transform\n",
    "X_train_poly = poly.fit_transform(X_train_pca, y_train)\n",
    "X_val_poly = poly.fit_transform(X_val_pca,y_val)\n",
    "X_test_poly = poly.fit_transform(X_test_pca,y_test)\n",
    "\n",
    "# fit to linear regression\n",
    "polyreg = LinearRegression().fit(X_train_poly, y_train)\n",
    "\n",
    "# predict using liear regression\n",
    "score_poly_reg = polyreg.score(X_test_poly, y_test)\n",
    "score_poly_reg"
   ]
  },
  {
   "cell_type": "code",
   "execution_count": 15,
   "metadata": {
    "scrolled": false
   },
   "outputs": [
    {
     "name": "stdout",
     "output_type": "stream",
     "text": [
      "score_poly_reg, degree 2 : 0.4858\n",
      "score_poly_reg, degree 3 : -0.8378\n",
      "score_poly_reg, degree 4 : -183.8014\n",
      "score_poly_reg, degree 5 : -52.2767\n",
      "max degree: 2\n"
     ]
    }
   ],
   "source": [
    "# use val to find the appropriate degree\n",
    "mpr = dict()\n",
    "for i in range(2,6):\n",
    "    degree=i\n",
    "    poly = PolynomialFeatures(degree)\n",
    "    # polynomial transform\n",
    "    X_train_poly = poly.fit_transform(X_train_pca, y_train)\n",
    "    X_val_poly = poly.fit_transform(X_val_pca,y_val)\n",
    "    X_test_poly = poly.fit_transform(X_test_pca,y_test)\n",
    "\n",
    "    # fit to linear regression\n",
    "    polyreg = LinearRegression().fit(X_train_poly, y_train)\n",
    "\n",
    "    # predict using liear regression\n",
    "    score_poly_reg = polyreg.score(X_val_poly, y_val)\n",
    "    print('score_poly_reg, degree',i,':', \"%.4f\"%score_poly_reg)\n",
    "    mpr[f'{i}'] = score_poly_reg\n",
    "    \n",
    "max_degree = max(mpr, key = mpr.get)\n",
    "print('max degree:', max_degree)"
   ]
  },
  {
   "cell_type": "code",
   "execution_count": 16,
   "metadata": {},
   "outputs": [
    {
     "data": {
      "text/plain": [
       "0.411518953833505"
      ]
     },
     "execution_count": 16,
     "metadata": {},
     "output_type": "execute_result"
    }
   ],
   "source": [
    "poly = PolynomialFeatures(int(max_degree))\n",
    "# polynomial transform\n",
    "X_train_poly = poly.fit_transform(X_train_pca, y_train)\n",
    "X_val_poly = poly.fit_transform(X_val_pca,y_val)\n",
    "X_test_poly = poly.fit_transform(X_test_pca,y_test)\n",
    "\n",
    "# fit to linear regression\n",
    "polyreg = LinearRegression().fit(X_train_poly, y_train)\n",
    "\n",
    "# predict using liear regression\n",
    "score_poly_reg = polyreg.score(X_test_poly, y_test)\n",
    "score_poly_reg"
   ]
  },
  {
   "cell_type": "markdown",
   "metadata": {},
   "source": [
    "# Random forest classifier"
   ]
  },
  {
   "cell_type": "code",
   "execution_count": 17,
   "metadata": {},
   "outputs": [
    {
     "name": "stdout",
     "output_type": "stream",
     "text": [
      "max depth: 5\n"
     ]
    }
   ],
   "source": [
    "# testing for different max depth\n",
    "rfc = dict()\n",
    "for i in range (1, 15):\n",
    "    clf = RandomForestClassifier(max_depth=i, random_state=0).fit(X_train_c_pca, y_train_c)\n",
    "    y_pred = clf.predict(X_val_c_pca)\n",
    "    score_clf = accuracy_score(y_val_c, y_pred)\n",
    "    rfc[f'{i}'] = score_clf\n",
    "    #print('score_clf_',i,\":\", \"%.4f\"%score_clf)\n",
    "max_depth = max(rfc, key=rfc.get)\n",
    "print('max depth:', max_depth)"
   ]
  },
  {
   "cell_type": "code",
   "execution_count": 18,
   "metadata": {},
   "outputs": [
    {
     "name": "stdout",
     "output_type": "stream",
     "text": [
      "score_rf_clf: 0.7765\n"
     ]
    }
   ],
   "source": [
    "# choose max_depth = 4\n",
    "clf = RandomForestClassifier(max_depth=int(max_depth), random_state=0).fit(X_train_c_pca, y_train_c)\n",
    "score_rf_clf = clf.score(X_test_c_pca, y_test_c)\n",
    "print('score_rf_clf:', \"%.4f\"%score_rf_clf)"
   ]
  },
  {
   "cell_type": "markdown",
   "metadata": {},
   "source": [
    "# Random forest regressor"
   ]
  },
  {
   "cell_type": "code",
   "execution_count": 19,
   "metadata": {},
   "outputs": [
    {
     "name": "stdout",
     "output_type": "stream",
     "text": [
      "score_rf_reg: 0.4757\n"
     ]
    }
   ],
   "source": [
    "clf_reg = RandomForestRegressor().fit(X_train_pca, y_train)\n",
    "score_rf_reg = clf_reg.score(X_test_pca, y_test)\n",
    "print('score_rf_reg:', \"%.4f\"%score_rf_reg)"
   ]
  },
  {
   "cell_type": "markdown",
   "metadata": {},
   "source": [
    "# Logistic regression"
   ]
  },
  {
   "cell_type": "code",
   "execution_count": 20,
   "metadata": {},
   "outputs": [
    {
     "name": "stdout",
     "output_type": "stream",
     "text": [
      "score_logistic: 0.7765\n"
     ]
    }
   ],
   "source": [
    "logistic_model = LogisticRegression(penalty = 'l1', solver='liblinear', random_state=0).fit(X_train_c_pca, y_train_c)\n",
    "score_logistic = logistic_model.score(X_test_c_pca, y_test_c)\n",
    "print('score_logistic:', \"%.4f\"%score_logistic)"
   ]
  },
  {
   "cell_type": "markdown",
   "metadata": {},
   "source": [
    "# Gradient boosting classifier"
   ]
  },
  {
   "cell_type": "code",
   "execution_count": 21,
   "metadata": {},
   "outputs": [
    {
     "data": {
      "text/plain": [
       "0.7411764705882353"
      ]
     },
     "execution_count": 21,
     "metadata": {},
     "output_type": "execute_result"
    }
   ],
   "source": [
    "gra_clf = GradientBoostingClassifier(n_estimators = 200, learning_rate=0.50, max_depth=5, random_state=0).fit(X_train_c_pca, y_train_c)\n",
    "score_gb_clf = gra_clf.score(X_test_c_pca, y_test_c)\n",
    "score_gb_clf"
   ]
  },
  {
   "cell_type": "markdown",
   "metadata": {},
   "source": [
    "# Gradient boosting regressor "
   ]
  },
  {
   "cell_type": "code",
   "execution_count": 22,
   "metadata": {},
   "outputs": [
    {
     "data": {
      "text/plain": [
       "0.4714580445818649"
      ]
     },
     "execution_count": 22,
     "metadata": {},
     "output_type": "execute_result"
    }
   ],
   "source": [
    "gra_reg = GradientBoostingRegressor(random_state=0).fit(X_train_pca, y_train)\n",
    "score_gb_reg = gra_reg.score(X_test_pca, y_test)\n",
    "score_gb_reg"
   ]
  },
  {
   "cell_type": "markdown",
   "metadata": {},
   "source": [
    "# XGBoost classifier"
   ]
  },
  {
   "cell_type": "code",
   "execution_count": 23,
   "metadata": {},
   "outputs": [
    {
     "name": "stdout",
     "output_type": "stream",
     "text": [
      "[16:19:43] WARNING: C:/Users/Administrator/workspace/xgboost-win64_release_1.3.0/src/learner.cc:1061: Starting in XGBoost 1.3.0, the default evaluation metric used with the objective 'binary:logistic' was changed from 'error' to 'logloss'. Explicitly set eval_metric if you'd like to restore the old behavior.\n"
     ]
    },
    {
     "name": "stderr",
     "output_type": "stream",
     "text": [
      "C:\\Users\\lemon\\anaconda3\\lib\\site-packages\\xgboost\\sklearn.py:888: UserWarning: The use of label encoder in XGBClassifier is deprecated and will be removed in a future release. To remove this warning, do the following: 1) Pass option use_label_encoder=False when constructing XGBClassifier object; and 2) Encode your labels (y) as integers starting with 0, i.e. 0, 1, 2, ..., [num_class - 1].\n",
      "  warnings.warn(label_encoder_deprecation_msg, UserWarning)\n"
     ]
    },
    {
     "data": {
      "text/plain": [
       "0.788235294117647"
      ]
     },
     "execution_count": 23,
     "metadata": {},
     "output_type": "execute_result"
    }
   ],
   "source": [
    "xgb_clf = XGBClassifier().fit(X_train_c_pca, y_train_c)\n",
    "score_xgb_clf = xgb_clf.score(X_test_c_pca, y_test_c)\n",
    "score_xgb_clf"
   ]
  },
  {
   "cell_type": "markdown",
   "metadata": {},
   "source": [
    "# XGBoost regressor"
   ]
  },
  {
   "cell_type": "code",
   "execution_count": 24,
   "metadata": {},
   "outputs": [
    {
     "data": {
      "text/plain": [
       "0.4175684203606762"
      ]
     },
     "execution_count": 24,
     "metadata": {},
     "output_type": "execute_result"
    }
   ],
   "source": [
    "xgb_reg = XGBRegressor(random_state = 0).fit(X_train_pca, y_train)\n",
    "score_xgb_reg = xgb_reg.score(X_test_pca, y_test)\n",
    "score_xgb_reg"
   ]
  },
  {
   "cell_type": "markdown",
   "metadata": {},
   "source": [
    "# AdaBoost classifier"
   ]
  },
  {
   "cell_type": "code",
   "execution_count": 25,
   "metadata": {},
   "outputs": [
    {
     "data": {
      "text/plain": [
       "0.7411764705882353"
      ]
     },
     "execution_count": 25,
     "metadata": {},
     "output_type": "execute_result"
    }
   ],
   "source": [
    "adb_clf = AdaBoostClassifier().fit(X_train_c_pca, y_train_c)\n",
    "score_adb_clf = adb_clf.score(X_test_c_pca, y_test_c)\n",
    "score_adb_clf"
   ]
  },
  {
   "cell_type": "markdown",
   "metadata": {},
   "source": [
    "# AdaBoost regressor"
   ]
  },
  {
   "cell_type": "code",
   "execution_count": 26,
   "metadata": {},
   "outputs": [
    {
     "data": {
      "text/plain": [
       "0.41085684356322394"
      ]
     },
     "execution_count": 26,
     "metadata": {},
     "output_type": "execute_result"
    }
   ],
   "source": [
    "adb_reg = AdaBoostRegressor().fit(X_train_pca, y_train)\n",
    "score_adb_reg = adb_reg.score(X_test_pca, y_test)\n",
    "score_adb_reg"
   ]
  },
  {
   "cell_type": "markdown",
   "metadata": {},
   "source": [
    "# Support vector classification"
   ]
  },
  {
   "cell_type": "code",
   "execution_count": 27,
   "metadata": {},
   "outputs": [
    {
     "name": "stdout",
     "output_type": "stream",
     "text": [
      "0.7411764705882353\n",
      "0.7411764705882353\n",
      "0.7529411764705882\n"
     ]
    }
   ],
   "source": [
    "# Try different kernels\n",
    "kernels = ('linear', 'poly', 'rbf')\n",
    "\n",
    "for k in kernels:\n",
    "    svm_clf = SVC(kernel=k).fit(X_train_c_pca, y_train_c)\n",
    "    y_pred = svm_clf.predict(X_test_c_pca)\n",
    "    vars()[f'score_svc_{k}']= accuracy_score(y_test_c, y_pred)\n",
    "    \n",
    "print(score_svc_linear)\n",
    "print(score_svc_poly)\n",
    "print(score_svc_rbf)"
   ]
  },
  {
   "cell_type": "markdown",
   "metadata": {},
   "source": [
    "# Gaussian Naive Bayes"
   ]
  },
  {
   "cell_type": "code",
   "execution_count": 28,
   "metadata": {},
   "outputs": [
    {
     "name": "stdout",
     "output_type": "stream",
     "text": [
      "0.7529411764705882\n"
     ]
    }
   ],
   "source": [
    "gnb_clf = GaussianNB().fit(X_train_c_pca, y_train_c)\n",
    "score_gnb = gnb_clf.score(X_test_c_pca, y_test_c)\n",
    "print(score_gnb)"
   ]
  },
  {
   "cell_type": "markdown",
   "metadata": {},
   "source": [
    "# Neuro networks"
   ]
  },
  {
   "cell_type": "code",
   "execution_count": 29,
   "metadata": {
    "scrolled": true
   },
   "outputs": [
    {
     "name": "stdout",
     "output_type": "stream",
     "text": [
      "Epoch 1/50\n",
      "13/13 [==============================] - 1s 78ms/step - loss: 0.6659 - accuracy: 0.5814 - val_loss: 0.7115 - val_accuracy: 0.5176\n",
      "Epoch 2/50\n",
      "13/13 [==============================] - 0s 3ms/step - loss: 0.6353 - accuracy: 0.5868 - val_loss: 0.6941 - val_accuracy: 0.5294\n",
      "Epoch 3/50\n",
      "13/13 [==============================] - 0s 3ms/step - loss: 0.6160 - accuracy: 0.6237 - val_loss: 0.6797 - val_accuracy: 0.5529\n",
      "Epoch 4/50\n",
      "13/13 [==============================] - 0s 3ms/step - loss: 0.6025 - accuracy: 0.6534 - val_loss: 0.6662 - val_accuracy: 0.5529\n",
      "Epoch 5/50\n",
      "13/13 [==============================] - 0s 3ms/step - loss: 0.6220 - accuracy: 0.6475 - val_loss: 0.6539 - val_accuracy: 0.5882\n",
      "Epoch 6/50\n",
      "13/13 [==============================] - 0s 3ms/step - loss: 0.5909 - accuracy: 0.7022 - val_loss: 0.6446 - val_accuracy: 0.5882\n",
      "Epoch 7/50\n",
      "13/13 [==============================] - 0s 3ms/step - loss: 0.5688 - accuracy: 0.7290 - val_loss: 0.6347 - val_accuracy: 0.6353\n",
      "Epoch 8/50\n",
      "13/13 [==============================] - 0s 3ms/step - loss: 0.5709 - accuracy: 0.7053 - val_loss: 0.6324 - val_accuracy: 0.6471\n",
      "Epoch 9/50\n",
      "13/13 [==============================] - 0s 3ms/step - loss: 0.5561 - accuracy: 0.7298 - val_loss: 0.6310 - val_accuracy: 0.6471\n",
      "Epoch 10/50\n",
      "13/13 [==============================] - 0s 3ms/step - loss: 0.5683 - accuracy: 0.7209 - val_loss: 0.6256 - val_accuracy: 0.6706\n",
      "Epoch 11/50\n",
      "13/13 [==============================] - 0s 3ms/step - loss: 0.5717 - accuracy: 0.7093 - val_loss: 0.6186 - val_accuracy: 0.6706\n",
      "Epoch 12/50\n",
      "13/13 [==============================] - 0s 3ms/step - loss: 0.5374 - accuracy: 0.7542 - val_loss: 0.6179 - val_accuracy: 0.6706\n",
      "Epoch 13/50\n",
      "13/13 [==============================] - 0s 3ms/step - loss: 0.5299 - accuracy: 0.7470 - val_loss: 0.6134 - val_accuracy: 0.6824\n",
      "Epoch 14/50\n",
      "13/13 [==============================] - 0s 3ms/step - loss: 0.5527 - accuracy: 0.7187 - val_loss: 0.6088 - val_accuracy: 0.6941\n",
      "Epoch 15/50\n",
      "13/13 [==============================] - 0s 3ms/step - loss: 0.5490 - accuracy: 0.7433 - val_loss: 0.6065 - val_accuracy: 0.6941\n",
      "Epoch 16/50\n",
      "13/13 [==============================] - 0s 3ms/step - loss: 0.5106 - accuracy: 0.7713 - val_loss: 0.6049 - val_accuracy: 0.6941\n",
      "Epoch 17/50\n",
      "13/13 [==============================] - 0s 3ms/step - loss: 0.5213 - accuracy: 0.7681 - val_loss: 0.5974 - val_accuracy: 0.7059\n",
      "Epoch 18/50\n",
      "13/13 [==============================] - 0s 3ms/step - loss: 0.5323 - accuracy: 0.7615 - val_loss: 0.5966 - val_accuracy: 0.7059\n",
      "Epoch 19/50\n",
      "13/13 [==============================] - 0s 3ms/step - loss: 0.5020 - accuracy: 0.7838 - val_loss: 0.5934 - val_accuracy: 0.7059\n",
      "Epoch 20/50\n",
      "13/13 [==============================] - 0s 3ms/step - loss: 0.4903 - accuracy: 0.7984 - val_loss: 0.5935 - val_accuracy: 0.7059\n",
      "Epoch 21/50\n",
      "13/13 [==============================] - 0s 3ms/step - loss: 0.5070 - accuracy: 0.7812 - val_loss: 0.5932 - val_accuracy: 0.7059\n",
      "Epoch 22/50\n",
      "13/13 [==============================] - 0s 3ms/step - loss: 0.5131 - accuracy: 0.7714 - val_loss: 0.5940 - val_accuracy: 0.6941\n",
      "Epoch 23/50\n",
      "13/13 [==============================] - 0s 3ms/step - loss: 0.5014 - accuracy: 0.7790 - val_loss: 0.5957 - val_accuracy: 0.6941\n",
      "Epoch 24/50\n",
      "13/13 [==============================] - 0s 3ms/step - loss: 0.4963 - accuracy: 0.7923 - val_loss: 0.5952 - val_accuracy: 0.6941\n",
      "Epoch 25/50\n",
      "13/13 [==============================] - 0s 3ms/step - loss: 0.5219 - accuracy: 0.7966 - val_loss: 0.5953 - val_accuracy: 0.6824\n",
      "Epoch 26/50\n",
      "13/13 [==============================] - 0s 3ms/step - loss: 0.4964 - accuracy: 0.7949 - val_loss: 0.5936 - val_accuracy: 0.6824\n",
      "Epoch 27/50\n",
      "13/13 [==============================] - 0s 3ms/step - loss: 0.5030 - accuracy: 0.7883 - val_loss: 0.5928 - val_accuracy: 0.6824\n",
      "Epoch 28/50\n",
      "13/13 [==============================] - 0s 3ms/step - loss: 0.4822 - accuracy: 0.8023 - val_loss: 0.5937 - val_accuracy: 0.6824\n",
      "Epoch 29/50\n",
      "13/13 [==============================] - 0s 3ms/step - loss: 0.5149 - accuracy: 0.7766 - val_loss: 0.5908 - val_accuracy: 0.6706\n",
      "Epoch 30/50\n",
      "13/13 [==============================] - 0s 3ms/step - loss: 0.4867 - accuracy: 0.7883 - val_loss: 0.5939 - val_accuracy: 0.6706\n",
      "Epoch 31/50\n",
      "13/13 [==============================] - 0s 3ms/step - loss: 0.5341 - accuracy: 0.7549 - val_loss: 0.5952 - val_accuracy: 0.6706\n",
      "Epoch 32/50\n",
      "13/13 [==============================] - 0s 3ms/step - loss: 0.4975 - accuracy: 0.7782 - val_loss: 0.5939 - val_accuracy: 0.6706\n",
      "Epoch 33/50\n",
      "13/13 [==============================] - 0s 3ms/step - loss: 0.4793 - accuracy: 0.7819 - val_loss: 0.5947 - val_accuracy: 0.6706\n",
      "Epoch 34/50\n",
      "13/13 [==============================] - 0s 3ms/step - loss: 0.4952 - accuracy: 0.7703 - val_loss: 0.5960 - val_accuracy: 0.6706\n",
      "Epoch 35/50\n",
      "13/13 [==============================] - 0s 3ms/step - loss: 0.4937 - accuracy: 0.7776 - val_loss: 0.5951 - val_accuracy: 0.6588\n",
      "Epoch 36/50\n",
      "13/13 [==============================] - ETA: 0s - loss: 0.5810 - accuracy: 0.68 - 0s 3ms/step - loss: 0.4989 - accuracy: 0.7788 - val_loss: 0.5958 - val_accuracy: 0.6588\n",
      "Epoch 37/50\n",
      "13/13 [==============================] - 0s 3ms/step - loss: 0.4803 - accuracy: 0.7790 - val_loss: 0.5943 - val_accuracy: 0.6588\n",
      "Epoch 38/50\n",
      "13/13 [==============================] - 0s 3ms/step - loss: 0.4413 - accuracy: 0.8056 - val_loss: 0.5993 - val_accuracy: 0.6706\n",
      "Epoch 39/50\n",
      "13/13 [==============================] - 0s 3ms/step - loss: 0.4642 - accuracy: 0.7882 - val_loss: 0.5995 - val_accuracy: 0.6706\n",
      "Epoch 40/50\n",
      "13/13 [==============================] - 0s 3ms/step - loss: 0.4986 - accuracy: 0.7711 - val_loss: 0.5992 - val_accuracy: 0.6706\n",
      "Epoch 41/50\n",
      "13/13 [==============================] - 0s 3ms/step - loss: 0.4690 - accuracy: 0.7821 - val_loss: 0.5988 - val_accuracy: 0.6706\n",
      "Epoch 42/50\n",
      "13/13 [==============================] - 0s 3ms/step - loss: 0.4738 - accuracy: 0.7661 - val_loss: 0.6002 - val_accuracy: 0.6588\n",
      "Epoch 43/50\n",
      "13/13 [==============================] - 0s 3ms/step - loss: 0.4791 - accuracy: 0.7739 - val_loss: 0.6072 - val_accuracy: 0.6706\n",
      "Epoch 44/50\n",
      "13/13 [==============================] - 0s 3ms/step - loss: 0.4835 - accuracy: 0.7782 - val_loss: 0.6041 - val_accuracy: 0.6706\n",
      "Epoch 45/50\n",
      "13/13 [==============================] - 0s 3ms/step - loss: 0.4569 - accuracy: 0.7903 - val_loss: 0.6037 - val_accuracy: 0.6706\n",
      "Epoch 46/50\n",
      "13/13 [==============================] - 0s 3ms/step - loss: 0.4842 - accuracy: 0.7804 - val_loss: 0.6039 - val_accuracy: 0.6706\n",
      "Epoch 47/50\n",
      "13/13 [==============================] - 0s 3ms/step - loss: 0.4534 - accuracy: 0.7979 - val_loss: 0.6021 - val_accuracy: 0.6706\n",
      "Epoch 48/50\n",
      "13/13 [==============================] - 0s 3ms/step - loss: 0.4578 - accuracy: 0.7903 - val_loss: 0.6016 - val_accuracy: 0.6588\n",
      "Epoch 49/50\n",
      "13/13 [==============================] - 0s 3ms/step - loss: 0.4927 - accuracy: 0.7601 - val_loss: 0.6032 - val_accuracy: 0.6588\n",
      "Epoch 50/50\n",
      "13/13 [==============================] - 0s 3ms/step - loss: 0.4779 - accuracy: 0.7857 - val_loss: 0.6051 - val_accuracy: 0.6588\n"
     ]
    }
   ],
   "source": [
    "model = keras.models.Sequential()\n",
    "model.add(keras.layers.Dense(10, input_dim=num_var, activation='relu'))\n",
    "model.add(keras.layers.Dense(5, activation='relu'))\n",
    "model.add(keras.layers.Dense(1, activation='sigmoid'))\n",
    "\n",
    "model.compile(loss='binary_crossentropy', optimizer='adam', metrics=['accuracy'])\n",
    "\n",
    "history = model.fit(X_train_c_pca, y_train_c, epochs=50, validation_data=(X_val_c_pca, y_val_c))"
   ]
  },
  {
   "cell_type": "code",
   "execution_count": 30,
   "metadata": {},
   "outputs": [
    {
     "name": "stdout",
     "output_type": "stream",
     "text": [
      "3/3 [==============================] - 0s 998us/step - loss: 0.4657 - accuracy: 0.8000\n",
      "0.800000011920929\n"
     ]
    }
   ],
   "source": [
    "loss, score_neuro = model.evaluate(X_test_c_pca, y_test_c)\n",
    "print(score_neuro)"
   ]
  },
  {
   "cell_type": "markdown",
   "metadata": {},
   "source": [
    "# Summary"
   ]
  },
  {
   "cell_type": "code",
   "execution_count": 31,
   "metadata": {},
   "outputs": [
    {
     "data": {
      "text/html": [
       "<div>\n",
       "<style scoped>\n",
       "    .dataframe tbody tr th:only-of-type {\n",
       "        vertical-align: middle;\n",
       "    }\n",
       "\n",
       "    .dataframe tbody tr th {\n",
       "        vertical-align: top;\n",
       "    }\n",
       "\n",
       "    .dataframe thead th {\n",
       "        text-align: right;\n",
       "    }\n",
       "</style>\n",
       "<table border=\"1\" class=\"dataframe\">\n",
       "  <thead>\n",
       "    <tr style=\"text-align: right;\">\n",
       "      <th></th>\n",
       "      <th>Score</th>\n",
       "    </tr>\n",
       "    <tr>\n",
       "      <th>Regression models</th>\n",
       "      <th></th>\n",
       "    </tr>\n",
       "  </thead>\n",
       "  <tbody>\n",
       "    <tr>\n",
       "      <th>Multiple linear regression</th>\n",
       "      <td>0.474108</td>\n",
       "    </tr>\n",
       "    <tr>\n",
       "      <th>Multiple polynomial regression</th>\n",
       "      <td>0.411519</td>\n",
       "    </tr>\n",
       "    <tr>\n",
       "      <th>Random forest regressor</th>\n",
       "      <td>0.475670</td>\n",
       "    </tr>\n",
       "    <tr>\n",
       "      <th>Gradient boosting regressor</th>\n",
       "      <td>0.471458</td>\n",
       "    </tr>\n",
       "    <tr>\n",
       "      <th>XGBoost regressor</th>\n",
       "      <td>0.417568</td>\n",
       "    </tr>\n",
       "    <tr>\n",
       "      <th>AdaBoost regressor</th>\n",
       "      <td>0.410857</td>\n",
       "    </tr>\n",
       "  </tbody>\n",
       "</table>\n",
       "</div>"
      ],
      "text/plain": [
       "                                   Score\n",
       "Regression models                       \n",
       "Multiple linear regression      0.474108\n",
       "Multiple polynomial regression  0.411519\n",
       "Random forest regressor         0.475670\n",
       "Gradient boosting regressor     0.471458\n",
       "XGBoost regressor               0.417568\n",
       "AdaBoost regressor              0.410857"
      ]
     },
     "execution_count": 31,
     "metadata": {},
     "output_type": "execute_result"
    }
   ],
   "source": [
    "reg = {\n",
    "    'Multiple linear regression': score_multiple_reg,\n",
    "    'Multiple polynomial regression': score_poly_reg,\n",
    "    'Random forest regressor': score_rf_reg,\n",
    "    'Gradient boosting regressor': score_gb_reg,\n",
    "    'XGBoost regressor': score_xgb_reg,\n",
    "    'AdaBoost regressor': score_adb_reg\n",
    "}\n",
    "reg_df = pd.DataFrame.from_dict(reg, orient='index', columns = ['Score'])\n",
    "reg_df.index.name = 'Regression models'\n",
    "#reg_df.sort_values(by=['Score'], ascending=False)\n",
    "reg_df"
   ]
  },
  {
   "cell_type": "code",
   "execution_count": 32,
   "metadata": {},
   "outputs": [
    {
     "data": {
      "text/html": [
       "<div>\n",
       "<style scoped>\n",
       "    .dataframe tbody tr th:only-of-type {\n",
       "        vertical-align: middle;\n",
       "    }\n",
       "\n",
       "    .dataframe tbody tr th {\n",
       "        vertical-align: top;\n",
       "    }\n",
       "\n",
       "    .dataframe thead th {\n",
       "        text-align: right;\n",
       "    }\n",
       "</style>\n",
       "<table border=\"1\" class=\"dataframe\">\n",
       "  <thead>\n",
       "    <tr style=\"text-align: right;\">\n",
       "      <th></th>\n",
       "      <th>Score</th>\n",
       "    </tr>\n",
       "    <tr>\n",
       "      <th>Classifier models</th>\n",
       "      <th></th>\n",
       "    </tr>\n",
       "  </thead>\n",
       "  <tbody>\n",
       "    <tr>\n",
       "      <th>Logistic regression</th>\n",
       "      <td>0.776471</td>\n",
       "    </tr>\n",
       "    <tr>\n",
       "      <th>Random forest classifier</th>\n",
       "      <td>0.776471</td>\n",
       "    </tr>\n",
       "    <tr>\n",
       "      <th>Gradient boosting classifier</th>\n",
       "      <td>0.741176</td>\n",
       "    </tr>\n",
       "    <tr>\n",
       "      <th>XGBoost classifier</th>\n",
       "      <td>0.788235</td>\n",
       "    </tr>\n",
       "    <tr>\n",
       "      <th>AdaBoost classifier</th>\n",
       "      <td>0.741176</td>\n",
       "    </tr>\n",
       "    <tr>\n",
       "      <th>Gaussian naive Bayes</th>\n",
       "      <td>0.752941</td>\n",
       "    </tr>\n",
       "    <tr>\n",
       "      <th>SVC linear</th>\n",
       "      <td>0.741176</td>\n",
       "    </tr>\n",
       "    <tr>\n",
       "      <th>SVC polynomial</th>\n",
       "      <td>0.741176</td>\n",
       "    </tr>\n",
       "    <tr>\n",
       "      <th>SVC RBF</th>\n",
       "      <td>0.752941</td>\n",
       "    </tr>\n",
       "    <tr>\n",
       "      <th>Neuro network</th>\n",
       "      <td>0.800000</td>\n",
       "    </tr>\n",
       "  </tbody>\n",
       "</table>\n",
       "</div>"
      ],
      "text/plain": [
       "                                 Score\n",
       "Classifier models                     \n",
       "Logistic regression           0.776471\n",
       "Random forest classifier      0.776471\n",
       "Gradient boosting classifier  0.741176\n",
       "XGBoost classifier            0.788235\n",
       "AdaBoost classifier           0.741176\n",
       "Gaussian naive Bayes          0.752941\n",
       "SVC linear                    0.741176\n",
       "SVC polynomial                0.741176\n",
       "SVC RBF                       0.752941\n",
       "Neuro network                 0.800000"
      ]
     },
     "execution_count": 32,
     "metadata": {},
     "output_type": "execute_result"
    }
   ],
   "source": [
    "clf = {\n",
    "    'Logistic regression': score_logistic,\n",
    "    'Random forest classifier': score_rf_clf,\n",
    "    'Gradient boosting classifier': score_gb_clf,\n",
    "    'XGBoost classifier': score_xgb_clf,\n",
    "    'AdaBoost classifier': score_adb_clf,\n",
    "    'Gaussian naive Bayes': score_gnb, \n",
    "    'SVC linear': score_svc_linear,\n",
    "    'SVC polynomial': score_svc_poly, \n",
    "    'SVC RBF': score_svc_rbf,\n",
    "    'Neuro network' : score_neuro\n",
    "}\n",
    "clf_df = pd.DataFrame.from_dict(clf, orient='index',columns = ['Score'])\n",
    "clf_df.index.name = 'Classifier models'\n",
    "#clf_df.sort_values(by=['Score'], ascending=False)\n",
    "clf_df"
   ]
  }
 ],
 "metadata": {
  "kernelspec": {
   "display_name": "Python 3",
   "language": "python",
   "name": "python3"
  },
  "language_info": {
   "codemirror_mode": {
    "name": "ipython",
    "version": 3
   },
   "file_extension": ".py",
   "mimetype": "text/x-python",
   "name": "python",
   "nbconvert_exporter": "python",
   "pygments_lexer": "ipython3",
   "version": "3.8.5"
  }
 },
 "nbformat": 4,
 "nbformat_minor": 4
}
