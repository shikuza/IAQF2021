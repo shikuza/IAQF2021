{
 "cells": [
  {
   "cell_type": "markdown",
   "id": "divided-novel",
   "metadata": {},
   "source": [
    "# IAQF 2021 Code Collection"
   ]
  },
  {
   "cell_type": "code",
   "execution_count": 1,
   "id": "precious-membrane",
   "metadata": {},
   "outputs": [],
   "source": [
    "# Import libraries\n",
    "\n",
    "import datetime\n",
    "import numpy as np\n",
    "import pandas as pd\n",
    "import matplotlib.pyplot as plt\n",
    "import matplotlib\n",
    "import seaborn as sbn\n",
    "\n",
    "import sklearn\n",
    "from sklearn.decomposition import PCA\n",
    "from sklearn.preprocessing import StandardScaler\n",
    "from sklearn.model_selection import train_test_split\n",
    "from sklearn.linear_model import LinearRegression\n",
    "from sklearn.ensemble import RandomForestClassifier, RandomForestRegressor\n",
    "from sklearn.linear_model import LogisticRegression\n",
    "from sklearn.svm import SVC\n",
    "from sklearn.naive_bayes import GaussianNB\n",
    "from sklearn.preprocessing import PolynomialFeatures\n",
    "from sklearn.pipeline import Pipeline\n",
    "from sklearn.ensemble import GradientBoostingClassifier,GradientBoostingRegressor\n",
    "from sklearn.ensemble import AdaBoostClassifier\n",
    "from sklearn.ensemble import AdaBoostRegressor\n",
    "from sklearn.metrics import accuracy_score\n",
    "\n",
    "from xgboost import XGBClassifier\n",
    "from xgboost import XGBRegressor\n",
    "\n",
    "import tensorflow as tf\n",
    "from tensorflow import keras"
   ]
  },
  {
   "cell_type": "code",
   "execution_count": 2,
   "id": "julian-benjamin",
   "metadata": {},
   "outputs": [
    {
     "data": {
      "text/html": [
       "<div>\n",
       "<style scoped>\n",
       "    .dataframe tbody tr th:only-of-type {\n",
       "        vertical-align: middle;\n",
       "    }\n",
       "\n",
       "    .dataframe tbody tr th {\n",
       "        vertical-align: top;\n",
       "    }\n",
       "\n",
       "    .dataframe thead th {\n",
       "        text-align: right;\n",
       "    }\n",
       "</style>\n",
       "<table border=\"1\" class=\"dataframe\">\n",
       "  <thead>\n",
       "    <tr style=\"text-align: right;\">\n",
       "      <th></th>\n",
       "      <th>week</th>\n",
       "      <th>crude_oil</th>\n",
       "      <th>cpi</th>\n",
       "      <th>coal_consumption</th>\n",
       "      <th>ngas_consumption</th>\n",
       "      <th>us_pop</th>\n",
       "      <th>oil_production</th>\n",
       "      <th>tree_cover_loss</th>\n",
       "      <th>us_real_gdp</th>\n",
       "      <th>co2</th>\n",
       "    </tr>\n",
       "  </thead>\n",
       "  <tbody>\n",
       "    <tr>\n",
       "      <th>0</th>\n",
       "      <td>2001/1/7</td>\n",
       "      <td>27.80</td>\n",
       "      <td>78.645985</td>\n",
       "      <td>96641.56859</td>\n",
       "      <td>9.634759e+05</td>\n",
       "      <td>283960.0</td>\n",
       "      <td>5944</td>\n",
       "      <td>1932323.219</td>\n",
       "      <td>12999.5699</td>\n",
       "      <td>370.30</td>\n",
       "    </tr>\n",
       "    <tr>\n",
       "      <th>1</th>\n",
       "      <td>2001/1/14</td>\n",
       "      <td>28.81</td>\n",
       "      <td>68.158536</td>\n",
       "      <td>89172.96037</td>\n",
       "      <td>9.010023e+05</td>\n",
       "      <td>284011.5</td>\n",
       "      <td>5949</td>\n",
       "      <td>2174659.188</td>\n",
       "      <td>12293.3405</td>\n",
       "      <td>370.67</td>\n",
       "    </tr>\n",
       "    <tr>\n",
       "      <th>2</th>\n",
       "      <td>2001/1/21</td>\n",
       "      <td>30.63</td>\n",
       "      <td>76.149426</td>\n",
       "      <td>100533.68770</td>\n",
       "      <td>1.032450e+06</td>\n",
       "      <td>284063.0</td>\n",
       "      <td>5912</td>\n",
       "      <td>2335532.223</td>\n",
       "      <td>12708.8104</td>\n",
       "      <td>370.52</td>\n",
       "    </tr>\n",
       "    <tr>\n",
       "      <th>3</th>\n",
       "      <td>2001/1/28</td>\n",
       "      <td>31.35</td>\n",
       "      <td>76.116224</td>\n",
       "      <td>101753.62190</td>\n",
       "      <td>8.260147e+05</td>\n",
       "      <td>284114.5</td>\n",
       "      <td>5935</td>\n",
       "      <td>2065545.899</td>\n",
       "      <td>12287.2265</td>\n",
       "      <td>371.36</td>\n",
       "    </tr>\n",
       "    <tr>\n",
       "      <th>4</th>\n",
       "      <td>2001/2/4</td>\n",
       "      <td>29.59</td>\n",
       "      <td>66.693151</td>\n",
       "      <td>61448.50321</td>\n",
       "      <td>7.766296e+05</td>\n",
       "      <td>284166.0</td>\n",
       "      <td>5929</td>\n",
       "      <td>1989475.501</td>\n",
       "      <td>13353.2628</td>\n",
       "      <td>371.58</td>\n",
       "    </tr>\n",
       "    <tr>\n",
       "      <th>...</th>\n",
       "      <td>...</td>\n",
       "      <td>...</td>\n",
       "      <td>...</td>\n",
       "      <td>...</td>\n",
       "      <td>...</td>\n",
       "      <td>...</td>\n",
       "      <td>...</td>\n",
       "      <td>...</td>\n",
       "      <td>...</td>\n",
       "      <td>...</td>\n",
       "    </tr>\n",
       "    <tr>\n",
       "      <th>986</th>\n",
       "      <td>2019/12/1</td>\n",
       "      <td>58.07</td>\n",
       "      <td>112.084710</td>\n",
       "      <td>43325.23094</td>\n",
       "      <td>6.060118e+05</td>\n",
       "      <td>329314.0</td>\n",
       "      <td>12900</td>\n",
       "      <td>2173871.578</td>\n",
       "      <td>19477.3091</td>\n",
       "      <td>411.07</td>\n",
       "    </tr>\n",
       "    <tr>\n",
       "      <th>987</th>\n",
       "      <td>2019/12/8</td>\n",
       "      <td>57.64</td>\n",
       "      <td>109.471205</td>\n",
       "      <td>39751.66796</td>\n",
       "      <td>8.286665e+05</td>\n",
       "      <td>329335.8</td>\n",
       "      <td>12800</td>\n",
       "      <td>2458219.683</td>\n",
       "      <td>19750.1111</td>\n",
       "      <td>411.32</td>\n",
       "    </tr>\n",
       "    <tr>\n",
       "      <th>988</th>\n",
       "      <td>2019/12/15</td>\n",
       "      <td>59.25</td>\n",
       "      <td>108.183411</td>\n",
       "      <td>48847.79099</td>\n",
       "      <td>7.519214e+05</td>\n",
       "      <td>329357.6</td>\n",
       "      <td>12800</td>\n",
       "      <td>1946025.679</td>\n",
       "      <td>20106.3904</td>\n",
       "      <td>411.89</td>\n",
       "    </tr>\n",
       "    <tr>\n",
       "      <th>989</th>\n",
       "      <td>2019/12/22</td>\n",
       "      <td>60.75</td>\n",
       "      <td>108.707988</td>\n",
       "      <td>50008.88542</td>\n",
       "      <td>5.915937e+05</td>\n",
       "      <td>329379.4</td>\n",
       "      <td>12900</td>\n",
       "      <td>2230631.393</td>\n",
       "      <td>20396.2701</td>\n",
       "      <td>412.21</td>\n",
       "    </tr>\n",
       "    <tr>\n",
       "      <th>990</th>\n",
       "      <td>2019/12/29</td>\n",
       "      <td>61.29</td>\n",
       "      <td>105.725844</td>\n",
       "      <td>49428.07791</td>\n",
       "      <td>6.146294e+05</td>\n",
       "      <td>329401.2</td>\n",
       "      <td>12900</td>\n",
       "      <td>2124357.069</td>\n",
       "      <td>18812.8854</td>\n",
       "      <td>412.99</td>\n",
       "    </tr>\n",
       "  </tbody>\n",
       "</table>\n",
       "<p>991 rows × 10 columns</p>\n",
       "</div>"
      ],
      "text/plain": [
       "           week  crude_oil         cpi  coal_consumption  ngas_consumption  \\\n",
       "0      2001/1/7      27.80   78.645985       96641.56859      9.634759e+05   \n",
       "1     2001/1/14      28.81   68.158536       89172.96037      9.010023e+05   \n",
       "2     2001/1/21      30.63   76.149426      100533.68770      1.032450e+06   \n",
       "3     2001/1/28      31.35   76.116224      101753.62190      8.260147e+05   \n",
       "4      2001/2/4      29.59   66.693151       61448.50321      7.766296e+05   \n",
       "..          ...        ...         ...               ...               ...   \n",
       "986   2019/12/1      58.07  112.084710       43325.23094      6.060118e+05   \n",
       "987   2019/12/8      57.64  109.471205       39751.66796      8.286665e+05   \n",
       "988  2019/12/15      59.25  108.183411       48847.79099      7.519214e+05   \n",
       "989  2019/12/22      60.75  108.707988       50008.88542      5.915937e+05   \n",
       "990  2019/12/29      61.29  105.725844       49428.07791      6.146294e+05   \n",
       "\n",
       "       us_pop  oil_production  tree_cover_loss  us_real_gdp     co2  \n",
       "0    283960.0            5944      1932323.219   12999.5699  370.30  \n",
       "1    284011.5            5949      2174659.188   12293.3405  370.67  \n",
       "2    284063.0            5912      2335532.223   12708.8104  370.52  \n",
       "3    284114.5            5935      2065545.899   12287.2265  371.36  \n",
       "4    284166.0            5929      1989475.501   13353.2628  371.58  \n",
       "..        ...             ...              ...          ...     ...  \n",
       "986  329314.0           12900      2173871.578   19477.3091  411.07  \n",
       "987  329335.8           12800      2458219.683   19750.1111  411.32  \n",
       "988  329357.6           12800      1946025.679   20106.3904  411.89  \n",
       "989  329379.4           12900      2230631.393   20396.2701  412.21  \n",
       "990  329401.2           12900      2124357.069   18812.8854  412.99  \n",
       "\n",
       "[991 rows x 10 columns]"
      ]
     },
     "execution_count": 2,
     "metadata": {},
     "output_type": "execute_result"
    }
   ],
   "source": [
    "OS = 'Mac'  # OS is either 'Mac' or 'Windows'\n",
    "sep = '/' if OS == 'Mac' else '\\\\'\n",
    "path = \"..{}source_data{}{}.csv\"\n",
    "\n",
    "PROBLEM_PATH_DICT = {\n",
    "    1: {\n",
    "        'et': path.format(sep, sep, \"crude_gas_et_df\"),\n",
    "        'p1': path.format(sep, sep, \"crude_gas_p1_df\"),\n",
    "        'p2': path.format(sep, sep, \"crude_gas_p2_df\"),\n",
    "        'p3': path.format(sep, sep, \"crude_gas_p2_df\")\n",
    "    },  # crude oil price vs. gasoline price\n",
    "    2: {\n",
    "        'et': path.format(sep, sep, \"cf_gas_et_df\"),\n",
    "        'p1': path.format(sep, sep, \"cf_gas_p1_df\"),\n",
    "        'p2': path.format(sep, sep, \"cf_gas_p2_df\")\n",
    "    },  # crude oil futures price vs. gasoline price\n",
    "    3: {\n",
    "        'et': path.format(sep, sep, \"crude_co2_et_df\"),\n",
    "        'p1': path.format(sep, sep, \"crude_co2_p1_df\"),\n",
    "        'p2': path.format(sep, sep, \"crude_co2_p2_df\")\n",
    "    }  # crude oil price vs. co2\n",
    "}\n",
    "\n",
    "PROBLEM_VAR_DICT = {\n",
    "    1: ('crude_oil', 'gasoline'),\n",
    "    2: ('oil_futures', 'gasoline'),\n",
    "    3: ('crude_oil', 'co2')\n",
    "}\n",
    "\n",
    "ADDITIONAL_VAR_DICT = {\n",
    "    1: {\n",
    "        'et': ['cpi','us_pop','public_roads','us_urban_pop','oil_production','auto_sales','us_real_gdp'],\n",
    "        'p1': ['cpi','us_pop','public_roads','us_urban_pop','oil_production','auto_sales','us_real_gdp'],\n",
    "        'p2': ['cpi','us_pop','public_roads','us_urban_pop','oil_production','djus_auto_index','auto_sales','us_real_gdp','usd_mex_exrate'],\n",
    "        'p3': ['cpi','us_pop','public_roads','us_urban_pop','oil_production','auto_sales','us_real_gdp']\n",
    "    },\n",
    "    2: {\n",
    "        'et': ['cpi','us_pop','public_roads','us_urban_pop','oil_production','auto_sales','us_real_gdp'],\n",
    "        'p1': ['cpi','us_pop','public_roads','us_urban_pop','oil_production','auto_sales','us_real_gdp'],\n",
    "        'p2': ['cpi','us_pop','public_roads','us_urban_pop','oil_production','auto_sales','us_real_gdp'],\n",
    "    },\n",
    "    3: {\n",
    "        'et': ['cpi','coal_consumption','ngas_consumption','us_pop','oil_production','tree_cover_loss','us_real_gdp'],\n",
    "        'p1': ['cpi','coal_consumption','ngas_consumption','us_pop','oil_production','tree_cover_loss','us_real_gdp'],\n",
    "        'p2': ['cpi','coal_consumption','ngas_consumption','us_pop','oil_production','tree_cover_loss','us_real_gdp']\n",
    "    }\n",
    "}\n",
    "\n",
    "PROBLEM_NO = 3\n",
    "PERIOD_NO = 'et'\n",
    "\n",
    "X_MAIN_COL, Y_COL = PROBLEM_VAR_DICT[PROBLEM_NO]\n",
    "X_MAIN_CHG_COL = X_MAIN_COL + '_chg'\n",
    "Y_CHG_COL = Y_COL + '_chg'\n",
    "EXTRA_VARS = ADDITIONAL_VAR_DICT[PROBLEM_NO][PERIOD_NO]\n",
    "\n",
    "TRAINING_RATIO_DEFAULT = 0.7\n",
    "VALIDATION_RATIO_DEFAULT = 0.15\n",
    "TEST_RATIO_DEFAULT = 0.15\n",
    "\n",
    "REGRESSOR_ACCURACY_DICT = {}\n",
    "CLASSIFIER_ACCURACY_DICT = {}\n",
    "\n",
    "REGRESSOR_COEF_DICT = {}\n",
    "CLASSIFIER_COEF_DICT = {}\n",
    "\n",
    "df = pd.read_csv(PROBLEM_PATH_DICT[PROBLEM_NO][PERIOD_NO])\n",
    "df"
   ]
  },
  {
   "cell_type": "markdown",
   "id": "seeing-aberdeen",
   "metadata": {},
   "source": [
    "## Creating independent and dependent variables"
   ]
  },
  {
   "cell_type": "code",
   "execution_count": 3,
   "id": "twelve-birmingham",
   "metadata": {},
   "outputs": [
    {
     "data": {
      "text/html": [
       "<div>\n",
       "<style scoped>\n",
       "    .dataframe tbody tr th:only-of-type {\n",
       "        vertical-align: middle;\n",
       "    }\n",
       "\n",
       "    .dataframe tbody tr th {\n",
       "        vertical-align: top;\n",
       "    }\n",
       "\n",
       "    .dataframe thead th {\n",
       "        text-align: right;\n",
       "    }\n",
       "</style>\n",
       "<table border=\"1\" class=\"dataframe\">\n",
       "  <thead>\n",
       "    <tr style=\"text-align: right;\">\n",
       "      <th></th>\n",
       "      <th>week</th>\n",
       "      <th>crude_oil</th>\n",
       "      <th>cpi</th>\n",
       "      <th>coal_consumption</th>\n",
       "      <th>ngas_consumption</th>\n",
       "      <th>us_pop</th>\n",
       "      <th>oil_production</th>\n",
       "      <th>tree_cover_loss</th>\n",
       "      <th>us_real_gdp</th>\n",
       "      <th>co2</th>\n",
       "      <th>crude_oil_chg_1</th>\n",
       "      <th>crude_oil_chg_2</th>\n",
       "      <th>crude_oil_chg_3</th>\n",
       "      <th>crude_oil_chg_5</th>\n",
       "      <th>crude_oil_chg_10</th>\n",
       "      <th>co2_chg</th>\n",
       "    </tr>\n",
       "  </thead>\n",
       "  <tbody>\n",
       "    <tr>\n",
       "      <th>11</th>\n",
       "      <td>2001/3/25</td>\n",
       "      <td>26.42</td>\n",
       "      <td>71.870113</td>\n",
       "      <td>74962.95365</td>\n",
       "      <td>624013.0521</td>\n",
       "      <td>284546.5</td>\n",
       "      <td>5868</td>\n",
       "      <td>1728742.189</td>\n",
       "      <td>11982.2289</td>\n",
       "      <td>372.40</td>\n",
       "      <td>-0.022206</td>\n",
       "      <td>-0.071353</td>\n",
       "      <td>-0.053386</td>\n",
       "      <td>-0.109538</td>\n",
       "      <td>-0.082957</td>\n",
       "      <td>-0.000376</td>\n",
       "    </tr>\n",
       "    <tr>\n",
       "      <th>12</th>\n",
       "      <td>2001/4/1</td>\n",
       "      <td>26.86</td>\n",
       "      <td>74.862456</td>\n",
       "      <td>90444.57488</td>\n",
       "      <td>614474.9072</td>\n",
       "      <td>284602.0</td>\n",
       "      <td>5883</td>\n",
       "      <td>2248741.369</td>\n",
       "      <td>13936.6979</td>\n",
       "      <td>372.45</td>\n",
       "      <td>0.016654</td>\n",
       "      <td>-0.005922</td>\n",
       "      <td>-0.055888</td>\n",
       "      <td>-0.062478</td>\n",
       "      <td>-0.123082</td>\n",
       "      <td>0.000134</td>\n",
       "    </tr>\n",
       "    <tr>\n",
       "      <th>13</th>\n",
       "      <td>2001/4/8</td>\n",
       "      <td>26.76</td>\n",
       "      <td>67.840486</td>\n",
       "      <td>71861.08162</td>\n",
       "      <td>436068.6622</td>\n",
       "      <td>284648.4</td>\n",
       "      <td>5867</td>\n",
       "      <td>1724128.479</td>\n",
       "      <td>12809.3245</td>\n",
       "      <td>373.61</td>\n",
       "      <td>-0.003723</td>\n",
       "      <td>0.012869</td>\n",
       "      <td>-0.009623</td>\n",
       "      <td>-0.041204</td>\n",
       "      <td>-0.146411</td>\n",
       "      <td>0.003115</td>\n",
       "    </tr>\n",
       "    <tr>\n",
       "      <th>14</th>\n",
       "      <td>2001/4/15</td>\n",
       "      <td>28.27</td>\n",
       "      <td>82.229017</td>\n",
       "      <td>76914.86811</td>\n",
       "      <td>449159.7901</td>\n",
       "      <td>284694.8</td>\n",
       "      <td>5855</td>\n",
       "      <td>1956950.159</td>\n",
       "      <td>13474.2006</td>\n",
       "      <td>373.71</td>\n",
       "      <td>0.056428</td>\n",
       "      <td>0.052494</td>\n",
       "      <td>0.070023</td>\n",
       "      <td>-0.006327</td>\n",
       "      <td>-0.044610</td>\n",
       "      <td>0.000268</td>\n",
       "    </tr>\n",
       "    <tr>\n",
       "      <th>15</th>\n",
       "      <td>2001/4/22</td>\n",
       "      <td>27.89</td>\n",
       "      <td>76.824931</td>\n",
       "      <td>73912.39968</td>\n",
       "      <td>-37896.8606</td>\n",
       "      <td>284741.2</td>\n",
       "      <td>5861</td>\n",
       "      <td>1366131.633</td>\n",
       "      <td>13236.2220</td>\n",
       "      <td>373.60</td>\n",
       "      <td>-0.013442</td>\n",
       "      <td>0.042227</td>\n",
       "      <td>0.038347</td>\n",
       "      <td>0.032198</td>\n",
       "      <td>-0.097995</td>\n",
       "      <td>-0.000294</td>\n",
       "    </tr>\n",
       "    <tr>\n",
       "      <th>...</th>\n",
       "      <td>...</td>\n",
       "      <td>...</td>\n",
       "      <td>...</td>\n",
       "      <td>...</td>\n",
       "      <td>...</td>\n",
       "      <td>...</td>\n",
       "      <td>...</td>\n",
       "      <td>...</td>\n",
       "      <td>...</td>\n",
       "      <td>...</td>\n",
       "      <td>...</td>\n",
       "      <td>...</td>\n",
       "      <td>...</td>\n",
       "      <td>...</td>\n",
       "      <td>...</td>\n",
       "      <td>...</td>\n",
       "    </tr>\n",
       "    <tr>\n",
       "      <th>986</th>\n",
       "      <td>2019/12/1</td>\n",
       "      <td>58.07</td>\n",
       "      <td>112.084710</td>\n",
       "      <td>43325.23094</td>\n",
       "      <td>606011.7971</td>\n",
       "      <td>329314.0</td>\n",
       "      <td>12900</td>\n",
       "      <td>2173871.578</td>\n",
       "      <td>19477.3091</td>\n",
       "      <td>411.07</td>\n",
       "      <td>0.020562</td>\n",
       "      <td>0.021460</td>\n",
       "      <td>0.024343</td>\n",
       "      <td>0.051993</td>\n",
       "      <td>-0.021237</td>\n",
       "      <td>0.000852</td>\n",
       "    </tr>\n",
       "    <tr>\n",
       "      <th>987</th>\n",
       "      <td>2019/12/8</td>\n",
       "      <td>57.64</td>\n",
       "      <td>109.471205</td>\n",
       "      <td>39751.66796</td>\n",
       "      <td>828666.4868</td>\n",
       "      <td>329335.8</td>\n",
       "      <td>12800</td>\n",
       "      <td>2458219.683</td>\n",
       "      <td>19750.1111</td>\n",
       "      <td>411.32</td>\n",
       "      <td>-0.007405</td>\n",
       "      <td>0.013005</td>\n",
       "      <td>0.013896</td>\n",
       "      <td>0.044771</td>\n",
       "      <td>0.013005</td>\n",
       "      <td>0.000608</td>\n",
       "    </tr>\n",
       "    <tr>\n",
       "      <th>988</th>\n",
       "      <td>2019/12/15</td>\n",
       "      <td>59.25</td>\n",
       "      <td>108.183411</td>\n",
       "      <td>48847.79099</td>\n",
       "      <td>751921.3538</td>\n",
       "      <td>329357.6</td>\n",
       "      <td>12800</td>\n",
       "      <td>1946025.679</td>\n",
       "      <td>20106.3904</td>\n",
       "      <td>411.89</td>\n",
       "      <td>0.027932</td>\n",
       "      <td>0.020320</td>\n",
       "      <td>0.041301</td>\n",
       "      <td>0.045158</td>\n",
       "      <td>0.115399</td>\n",
       "      <td>0.001386</td>\n",
       "    </tr>\n",
       "    <tr>\n",
       "      <th>989</th>\n",
       "      <td>2019/12/22</td>\n",
       "      <td>60.75</td>\n",
       "      <td>108.707988</td>\n",
       "      <td>50008.88542</td>\n",
       "      <td>591593.7371</td>\n",
       "      <td>329379.4</td>\n",
       "      <td>12900</td>\n",
       "      <td>2230631.393</td>\n",
       "      <td>20396.2701</td>\n",
       "      <td>412.21</td>\n",
       "      <td>0.025316</td>\n",
       "      <td>0.053956</td>\n",
       "      <td>0.046151</td>\n",
       "      <td>0.068602</td>\n",
       "      <td>0.140417</td>\n",
       "      <td>0.000777</td>\n",
       "    </tr>\n",
       "    <tr>\n",
       "      <th>990</th>\n",
       "      <td>2019/12/29</td>\n",
       "      <td>61.29</td>\n",
       "      <td>105.725844</td>\n",
       "      <td>49428.07791</td>\n",
       "      <td>614629.4116</td>\n",
       "      <td>329401.2</td>\n",
       "      <td>12900</td>\n",
       "      <td>2124357.069</td>\n",
       "      <td>18812.8854</td>\n",
       "      <td>412.99</td>\n",
       "      <td>0.008889</td>\n",
       "      <td>0.034430</td>\n",
       "      <td>0.063324</td>\n",
       "      <td>0.077153</td>\n",
       "      <td>0.145822</td>\n",
       "      <td>0.001892</td>\n",
       "    </tr>\n",
       "  </tbody>\n",
       "</table>\n",
       "<p>980 rows × 16 columns</p>\n",
       "</div>"
      ],
      "text/plain": [
       "           week  crude_oil         cpi  coal_consumption  ngas_consumption  \\\n",
       "11    2001/3/25      26.42   71.870113       74962.95365       624013.0521   \n",
       "12     2001/4/1      26.86   74.862456       90444.57488       614474.9072   \n",
       "13     2001/4/8      26.76   67.840486       71861.08162       436068.6622   \n",
       "14    2001/4/15      28.27   82.229017       76914.86811       449159.7901   \n",
       "15    2001/4/22      27.89   76.824931       73912.39968       -37896.8606   \n",
       "..          ...        ...         ...               ...               ...   \n",
       "986   2019/12/1      58.07  112.084710       43325.23094       606011.7971   \n",
       "987   2019/12/8      57.64  109.471205       39751.66796       828666.4868   \n",
       "988  2019/12/15      59.25  108.183411       48847.79099       751921.3538   \n",
       "989  2019/12/22      60.75  108.707988       50008.88542       591593.7371   \n",
       "990  2019/12/29      61.29  105.725844       49428.07791       614629.4116   \n",
       "\n",
       "       us_pop  oil_production  tree_cover_loss  us_real_gdp     co2  \\\n",
       "11   284546.5            5868      1728742.189   11982.2289  372.40   \n",
       "12   284602.0            5883      2248741.369   13936.6979  372.45   \n",
       "13   284648.4            5867      1724128.479   12809.3245  373.61   \n",
       "14   284694.8            5855      1956950.159   13474.2006  373.71   \n",
       "15   284741.2            5861      1366131.633   13236.2220  373.60   \n",
       "..        ...             ...              ...          ...     ...   \n",
       "986  329314.0           12900      2173871.578   19477.3091  411.07   \n",
       "987  329335.8           12800      2458219.683   19750.1111  411.32   \n",
       "988  329357.6           12800      1946025.679   20106.3904  411.89   \n",
       "989  329379.4           12900      2230631.393   20396.2701  412.21   \n",
       "990  329401.2           12900      2124357.069   18812.8854  412.99   \n",
       "\n",
       "     crude_oil_chg_1  crude_oil_chg_2  crude_oil_chg_3  crude_oil_chg_5  \\\n",
       "11         -0.022206        -0.071353        -0.053386        -0.109538   \n",
       "12          0.016654        -0.005922        -0.055888        -0.062478   \n",
       "13         -0.003723         0.012869        -0.009623        -0.041204   \n",
       "14          0.056428         0.052494         0.070023        -0.006327   \n",
       "15         -0.013442         0.042227         0.038347         0.032198   \n",
       "..               ...              ...              ...              ...   \n",
       "986         0.020562         0.021460         0.024343         0.051993   \n",
       "987        -0.007405         0.013005         0.013896         0.044771   \n",
       "988         0.027932         0.020320         0.041301         0.045158   \n",
       "989         0.025316         0.053956         0.046151         0.068602   \n",
       "990         0.008889         0.034430         0.063324         0.077153   \n",
       "\n",
       "     crude_oil_chg_10   co2_chg  \n",
       "11          -0.082957 -0.000376  \n",
       "12          -0.123082  0.000134  \n",
       "13          -0.146411  0.003115  \n",
       "14          -0.044610  0.000268  \n",
       "15          -0.097995 -0.000294  \n",
       "..                ...       ...  \n",
       "986         -0.021237  0.000852  \n",
       "987          0.013005  0.000608  \n",
       "988          0.115399  0.001386  \n",
       "989          0.140417  0.000777  \n",
       "990          0.145822  0.001892  \n",
       "\n",
       "[980 rows x 16 columns]"
      ]
     },
     "execution_count": 3,
     "metadata": {},
     "output_type": "execute_result"
    }
   ],
   "source": [
    "# calculate independent variables\n",
    "periods = (1,2,3,5,10)\n",
    "for i in periods:\n",
    "    df [X_MAIN_CHG_COL + f'_{i}'] = df[X_MAIN_COL].pct_change(periods=i)\n",
    "\n",
    "# calculate dependent variable\n",
    "df[Y_CHG_COL] = df[Y_COL].pct_change(periods=1)\n",
    "\n",
    "# eliminate the empty rows\n",
    "df = df[11:]\n",
    "df"
   ]
  },
  {
   "cell_type": "markdown",
   "id": "fatty-survivor",
   "metadata": {},
   "source": [
    "## Seperating training, validation, and test datasets"
   ]
  },
  {
   "cell_type": "code",
   "execution_count": 4,
   "id": "imported-prevention",
   "metadata": {},
   "outputs": [
    {
     "data": {
      "text/plain": [
       "array([[ 2.64200000e+01, -2.22057735e-02, -7.13532513e-02, ...,\n",
       "         5.86800000e+03,  1.72874219e+06,  1.19822289e+04],\n",
       "       [ 2.68600000e+01,  1.66540500e-02, -5.92153960e-03, ...,\n",
       "         5.88300000e+03,  2.24874137e+06,  1.39366979e+04],\n",
       "       [ 2.67600000e+01, -3.72300819e-03,  1.28690386e-02, ...,\n",
       "         5.86700000e+03,  1.72412848e+06,  1.28093245e+04],\n",
       "       ...,\n",
       "       [ 5.92500000e+01,  2.79319917e-02,  2.03203031e-02, ...,\n",
       "         1.28000000e+04,  1.94602568e+06,  2.01063904e+04],\n",
       "       [ 6.07500000e+01,  2.53164557e-02,  5.39555864e-02, ...,\n",
       "         1.29000000e+04,  2.23063139e+06,  2.03962701e+04],\n",
       "       [ 6.12900000e+01,  8.88888889e-03,  3.44303797e-02, ...,\n",
       "         1.29000000e+04,  2.12435707e+06,  1.88128854e+04]])"
      ]
     },
     "execution_count": 4,
     "metadata": {},
     "output_type": "execute_result"
    }
   ],
   "source": [
    "# create list of independent variable's name\n",
    "indep_vars = [X_MAIN_CHG_COL + f'_{i}' for i in periods] + EXTRA_VARS\n",
    "num_var =len(indep_vars)\n",
    "\n",
    "# extract the values to X\n",
    "X = df[[X_MAIN_COL] + indep_vars].values\n",
    "X"
   ]
  },
  {
   "cell_type": "code",
   "execution_count": 5,
   "id": "alien-membrane",
   "metadata": {},
   "outputs": [
    {
     "data": {
      "text/plain": [
       "((980, 13), (980,), (980,))"
      ]
     },
     "execution_count": 5,
     "metadata": {},
     "output_type": "execute_result"
    }
   ],
   "source": [
    "# create y for regressor, y_c for classifier\n",
    "y = df[Y_CHG_COL]\n",
    "y_c = (df[Y_CHG_COL] > 0).values.astype('int')\n",
    "\n",
    "# set training, validation, and test criterias\n",
    "training_ratio = TRAINING_RATIO_DEFAULT\n",
    "validation_ratio = VALIDATION_RATIO_DEFAULT\n",
    "test_ratio = TEST_RATIO_DEFAULT\n",
    "\n",
    "# check correctness of X and y\n",
    "X.shape, y.shape, y_c.shape"
   ]
  },
  {
   "cell_type": "code",
   "execution_count": 6,
   "id": "finnish-radius",
   "metadata": {},
   "outputs": [
    {
     "name": "stdout",
     "output_type": "stream",
     "text": [
      "X_train shape:\t (686, 13)\n",
      "X_test shape:\t (147, 13)\n",
      "X_val shape:\t (147, 13)\n",
      "y_train shape:\t (686,)\n",
      "y_val shape:\t (147,)\n",
      "y_test shape:\t (147,)\n"
     ]
    }
   ],
   "source": [
    "# create training, validation, and test sets for regressor\n",
    "X_train, X_test, y_train, y_test = train_test_split(X, y, test_size=test_ratio, random_state=42)\n",
    "X_train, X_val, y_train, y_val = train_test_split(X_train, y_train, test_size=validation_ratio/(validation_ratio+training_ratio), random_state=42)\n",
    "\n",
    "print(\"X_train shape:\\t\", X_train.shape)\n",
    "print(\"X_test shape:\\t\", X_test.shape)\n",
    "print(\"X_val shape:\\t\", X_val.shape)\n",
    "print(\"y_train shape:\\t\", y_train.shape)\n",
    "print(\"y_val shape:\\t\", y_val.shape)\n",
    "print(\"y_test shape:\\t\", y_test.shape)"
   ]
  },
  {
   "cell_type": "code",
   "execution_count": 7,
   "id": "prostate-arrest",
   "metadata": {},
   "outputs": [
    {
     "name": "stdout",
     "output_type": "stream",
     "text": [
      "X_train_c shape: (686, 13)\n",
      "X_test_c shape:\t (147, 13)\n",
      "X_val_c shape:\t (147, 13)\n",
      "y_train_c shape: (686,)\n",
      "y_val_c shape:\t (147,)\n",
      "y_test_c shape:\t (147,)\n"
     ]
    }
   ],
   "source": [
    "# create training, validation, and test sets for classifier\n",
    "X_train_c, X_test_c, y_train_c, y_test_c = train_test_split(X, y_c, test_size=test_ratio, random_state=42)\n",
    "X_train_c, X_val_c, y_train_c, y_val_c = train_test_split(X_train_c, y_train_c, test_size=validation_ratio/(validation_ratio+training_ratio), random_state=42)\n",
    "\n",
    "print(\"X_train_c shape:\", X_train_c.shape)\n",
    "print(\"X_test_c shape:\\t\", X_test_c.shape)\n",
    "print(\"X_val_c shape:\\t\", X_val_c.shape)\n",
    "print(\"y_train_c shape:\", y_train_c.shape)\n",
    "print(\"y_val_c shape:\\t\", y_val_c.shape)\n",
    "print(\"y_test_c shape:\\t\", y_test_c.shape)"
   ]
  },
  {
   "cell_type": "markdown",
   "id": "further-criterion",
   "metadata": {},
   "source": [
    "## Principal Component Analysis (PCA)"
   ]
  },
  {
   "cell_type": "code",
   "execution_count": 8,
   "id": "adjacent-combat",
   "metadata": {},
   "outputs": [
    {
     "name": "stdout",
     "output_type": "stream",
     "text": [
      "X_train shape:\t (686, 13)\n",
      "X_val shape:\t (147, 13)\n"
     ]
    }
   ],
   "source": [
    "# normalization for regressor set\n",
    "for i in range(X_train.shape[1]):\n",
    "    X_train_mean = X_train[:, i]. mean()\n",
    "    X_train_std = X_train[:, i].std()\n",
    "    X_train[:, i] = (X_train[:,i] - X_train_mean) / X_train_std\n",
    "    X_test[:,i] = (X_test[:,i] - X_train_mean) / X_train_std\n",
    "    X_val[:, i] = (X_val[:,i] - X_train_mean) / X_train_std\n",
    "\n",
    "print(\"X_train shape:\\t\", X_train.shape)\n",
    "print(\"X_val shape:\\t\", X_val.shape)"
   ]
  },
  {
   "cell_type": "code",
   "execution_count": 9,
   "id": "alpha-shopping",
   "metadata": {},
   "outputs": [
    {
     "name": "stdout",
     "output_type": "stream",
     "text": [
      "X_train_c shape: (686, 13)\n",
      "X_val_c shape:\t (147, 13)\n"
     ]
    }
   ],
   "source": [
    "# normalization for classifier set\n",
    "for i in range(X_train_c.shape[1]):\n",
    "    X_train_c_mean = X_train_c[:, i]. mean()\n",
    "    X_train_c_std = X_train_c[:, i].std()\n",
    "    X_train_c[:, i] = (X_train_c[:,i] - X_train_c_mean) / X_train_c_std\n",
    "    X_test_c[:,i] = (X_test_c[:,i] - X_train_c_mean) / X_train_c_std\n",
    "    X_val_c[:, i] = (X_val_c[:,i] - X_train_c_mean) / X_train_c_std\n",
    "\n",
    "print(\"X_train_c shape:\", X_train_c.shape)\n",
    "print(\"X_val_c shape:\\t\", X_val_c.shape)"
   ]
  },
  {
   "cell_type": "code",
   "execution_count": 10,
   "id": "three-wheel",
   "metadata": {},
   "outputs": [
    {
     "name": "stdout",
     "output_type": "stream",
     "text": [
      "X_train_pca shape:\t (686, 8)\n",
      "X_test_pca shape:\t (147, 8)\n",
      "X_val_pca shape:\t (147, 8)\n",
      "y_train shape:\t (686,)\n",
      "y_val shape:\t (147,)\n",
      "y_test shape:\t (147,)\n"
     ]
    }
   ],
   "source": [
    "# PCA for regressor\n",
    "# fit on training set\n",
    "scaler = StandardScaler()\n",
    "scaler.fit(X_train)\n",
    "\n",
    "# apply transform to training and test set\n",
    "X_train_pca = scaler.transform(X_train)\n",
    "X_test_pca = scaler.transform(X_test)\n",
    "X_val_pca = scaler.transform(X_val)\n",
    "\n",
    "# set PCA value\n",
    "pca = PCA(0.95)\n",
    "\n",
    "# fit PCA training set\n",
    "pca.fit(X_train_pca)\n",
    "\n",
    "# apply transform to training and test set\n",
    "X_train_pca = pca.transform(X_train_pca)\n",
    "X_test_pca = pca.transform(X_test_pca)\n",
    "X_val_pca = pca.transform(X_val_pca)\n",
    "\n",
    "print(\"X_train_pca shape:\\t\", X_train_pca.shape)\n",
    "print(\"X_test_pca shape:\\t\", X_test_pca.shape)\n",
    "print(\"X_val_pca shape:\\t\", X_val_pca.shape)\n",
    "print(\"y_train shape:\\t\", y_train.shape)\n",
    "print(\"y_val shape:\\t\", y_val.shape)\n",
    "print(\"y_test shape:\\t\", y_test.shape)"
   ]
  },
  {
   "cell_type": "code",
   "execution_count": 11,
   "id": "aggregate-suffering",
   "metadata": {},
   "outputs": [
    {
     "name": "stdout",
     "output_type": "stream",
     "text": [
      "X_train_c_pca shape:\t (686, 8)\n",
      "X_test_c_pca shape:\t (147, 8)\n",
      "X_val_c_pca shape:\t (147, 8)\n",
      "y_train_c shape: (686,)\n",
      "y_val_c shape:\t (147,)\n",
      "y_test_c shape:\t (147,)\n"
     ]
    }
   ],
   "source": [
    "# PCA for classifier\n",
    "# fit on training set_c\n",
    "scaler = StandardScaler()\n",
    "scaler.fit(X_train_c)\n",
    "\n",
    "# apply transform to training and test set\n",
    "X_train_c_pca = scaler.transform(X_train_c)\n",
    "X_test_c_pca = scaler.transform(X_test_c)\n",
    "X_val_c_pca = scaler.transform(X_val_c)\n",
    "\n",
    "# set PCA value\n",
    "pca = PCA(0.95)\n",
    "\n",
    "# fit PCA training set\n",
    "pca.fit(X_train_c_pca)\n",
    "\n",
    "# apply transform to training and test set\n",
    "X_train_c_pca = pca.transform(X_train_c_pca)\n",
    "X_test_c_pca = pca.transform(X_test_c_pca)\n",
    "X_val_c_pca = pca.transform(X_val_c_pca)\n",
    "\n",
    "print(\"X_train_c_pca shape:\\t\", X_train_c_pca.shape)\n",
    "print(\"X_test_c_pca shape:\\t\", X_test_c_pca.shape)\n",
    "print(\"X_val_c_pca shape:\\t\", X_val_c_pca.shape)\n",
    "print(\"y_train_c shape:\", y_train_c.shape)\n",
    "print(\"y_val_c shape:\\t\", y_val_c.shape)\n",
    "print(\"y_test_c shape:\\t\", y_test_c.shape)"
   ]
  },
  {
   "cell_type": "code",
   "execution_count": 12,
   "id": "working-latter",
   "metadata": {},
   "outputs": [
    {
     "data": {
      "text/plain": [
       "8"
      ]
     },
     "execution_count": 12,
     "metadata": {},
     "output_type": "execute_result"
    }
   ],
   "source": [
    "num_var = X_train_c_pca.shape[1]\n",
    "num_var"
   ]
  },
  {
   "cell_type": "markdown",
   "id": "solid-objective",
   "metadata": {},
   "source": [
    "## Multiple linear regression"
   ]
  },
  {
   "cell_type": "code",
   "execution_count": 13,
   "id": "owned-robert",
   "metadata": {},
   "outputs": [
    {
     "name": "stdout",
     "output_type": "stream",
     "text": [
      "score_multiple_reg: 0.0251\n"
     ]
    }
   ],
   "source": [
    "multiple_reg = LinearRegression().fit(X_train_pca, y_train)\n",
    "score_multiple_reg = multiple_reg.score(X_test_pca, y_test)\n",
    "\n",
    "print('score_multiple_reg:', \"%.4f\" % score_multiple_reg)"
   ]
  },
  {
   "cell_type": "code",
   "execution_count": 14,
   "id": "geological-check",
   "metadata": {},
   "outputs": [],
   "source": [
    "REGRESSOR_COEF_DICT['multi_linear'] = multiple_reg.coef_\n",
    "REGRESSOR_ACCURACY_DICT['multi_linear'] = score_multiple_reg"
   ]
  },
  {
   "cell_type": "markdown",
   "id": "rising-indiana",
   "metadata": {},
   "source": [
    "## Random forest classifier"
   ]
  },
  {
   "cell_type": "code",
   "execution_count": 15,
   "id": "related-destruction",
   "metadata": {},
   "outputs": [
    {
     "name": "stdout",
     "output_type": "stream",
     "text": [
      "max depth: 3\n"
     ]
    }
   ],
   "source": [
    "# testing for different max depth\n",
    "rfc = dict()\n",
    "for i in range (1, 15):\n",
    "    clf = RandomForestClassifier(max_depth=i, random_state=0).fit(X_train_c_pca, y_train_c)\n",
    "    y_pred = clf.predict(X_val_c_pca)\n",
    "    score_clf = accuracy_score(y_val_c, y_pred)\n",
    "    rfc[i] = score_clf\n",
    "\n",
    "max_depth = max(rfc, key=rfc.get)\n",
    "print('max depth:', max_depth)"
   ]
  },
  {
   "cell_type": "code",
   "execution_count": 16,
   "id": "comparative-package",
   "metadata": {},
   "outputs": [
    {
     "name": "stdout",
     "output_type": "stream",
     "text": [
      "score_rf_clf: 0.5918\n"
     ]
    }
   ],
   "source": [
    "# choose max_depth = 4\n",
    "rf_clf = RandomForestClassifier(max_depth=int(max_depth), random_state=0).fit(X_train_c_pca, y_train_c)\n",
    "score_rf_clf = rf_clf.score(X_test_c_pca, y_test_c)\n",
    "print('score_rf_clf:', \"%.4f\" % score_rf_clf)"
   ]
  },
  {
   "cell_type": "code",
   "execution_count": 17,
   "id": "amber-adoption",
   "metadata": {},
   "outputs": [],
   "source": [
    "CLASSIFIER_COEF_DICT['random_forest'] = rf_clf.feature_importances_\n",
    "CLASSIFIER_ACCURACY_DICT['random_forest'] = score_rf_clf"
   ]
  },
  {
   "cell_type": "markdown",
   "id": "empirical-trustee",
   "metadata": {},
   "source": [
    "## Random forest regressor"
   ]
  },
  {
   "cell_type": "code",
   "execution_count": 18,
   "id": "conservative-platform",
   "metadata": {},
   "outputs": [
    {
     "name": "stdout",
     "output_type": "stream",
     "text": [
      "score_rf_reg: -0.0902\n"
     ]
    }
   ],
   "source": [
    "rf_reg = RandomForestRegressor().fit(X_train_pca, y_train)\n",
    "score_rf_reg = rf_reg.score(X_test_pca, y_test)\n",
    "print('score_rf_reg:', \"%.4f\" % score_rf_reg)"
   ]
  },
  {
   "cell_type": "code",
   "execution_count": 19,
   "id": "satisfied-stanley",
   "metadata": {},
   "outputs": [],
   "source": [
    "REGRESSOR_COEF_DICT['random_forest'] = rf_reg.feature_importances_\n",
    "REGRESSOR_ACCURACY_DICT['random_forest'] = score_rf_reg"
   ]
  },
  {
   "cell_type": "markdown",
   "id": "light-owner",
   "metadata": {},
   "source": [
    "## Logistic regression"
   ]
  },
  {
   "cell_type": "code",
   "execution_count": 20,
   "id": "economic-julian",
   "metadata": {},
   "outputs": [
    {
     "name": "stdout",
     "output_type": "stream",
     "text": [
      "score_logistic: 0.6190\n"
     ]
    }
   ],
   "source": [
    "logistic_reg = LogisticRegression(penalty = 'l1', solver='liblinear', random_state=0).fit(X_train_c_pca, y_train_c)\n",
    "score_logistic = logistic_reg.score(X_test_c_pca, y_test_c)\n",
    "print('score_logistic:', \"%.4f\" % score_logistic)"
   ]
  },
  {
   "cell_type": "code",
   "execution_count": 21,
   "id": "casual-differential",
   "metadata": {},
   "outputs": [],
   "source": [
    "REGRESSOR_COEF_DICT['logistic'] = logistic_reg.coef_[0]\n",
    "REGRESSOR_ACCURACY_DICT['logistic'] = score_logistic"
   ]
  },
  {
   "cell_type": "markdown",
   "id": "forward-defeat",
   "metadata": {},
   "source": [
    "## Gradient boosting classifier"
   ]
  },
  {
   "cell_type": "code",
   "execution_count": 22,
   "id": "impressed-crystal",
   "metadata": {},
   "outputs": [
    {
     "data": {
      "text/plain": [
       "0.5374149659863946"
      ]
     },
     "execution_count": 22,
     "metadata": {},
     "output_type": "execute_result"
    }
   ],
   "source": [
    "gra_clf = GradientBoostingClassifier(n_estimators = 200, learning_rate=0.50, max_depth=5, random_state=0).fit(X_train_c_pca, y_train_c)\n",
    "score_gb_clf = gra_clf.score(X_test_c_pca, y_test_c)\n",
    "score_gb_clf"
   ]
  },
  {
   "cell_type": "code",
   "execution_count": 23,
   "id": "continent-operations",
   "metadata": {},
   "outputs": [],
   "source": [
    "CLASSIFIER_COEF_DICT['gradient_boosting'] = gra_clf.feature_importances_\n",
    "CLASSIFIER_ACCURACY_DICT['gradient_boosting'] = score_gb_clf"
   ]
  },
  {
   "cell_type": "markdown",
   "id": "proper-frontier",
   "metadata": {},
   "source": [
    "## Gradient boosting regressor"
   ]
  },
  {
   "cell_type": "code",
   "execution_count": 24,
   "id": "reverse-suicide",
   "metadata": {},
   "outputs": [
    {
     "data": {
      "text/plain": [
       "-0.18504586459848205"
      ]
     },
     "execution_count": 24,
     "metadata": {},
     "output_type": "execute_result"
    }
   ],
   "source": [
    "gra_reg = GradientBoostingRegressor(random_state=0).fit(X_train_pca, y_train)\n",
    "score_gb_reg = gra_reg.score(X_test_pca, y_test)\n",
    "score_gb_reg"
   ]
  },
  {
   "cell_type": "code",
   "execution_count": 25,
   "id": "major-minimum",
   "metadata": {},
   "outputs": [],
   "source": [
    "REGRESSOR_COEF_DICT['gradient_boosting'] = gra_reg.feature_importances_\n",
    "REGRESSOR_ACCURACY_DICT['gradient_boosting'] = score_gb_reg"
   ]
  },
  {
   "cell_type": "markdown",
   "id": "fourth-document",
   "metadata": {},
   "source": [
    "## XGBoost classifier"
   ]
  },
  {
   "cell_type": "code",
   "execution_count": 26,
   "id": "mysterious-guarantee",
   "metadata": {},
   "outputs": [
    {
     "name": "stdout",
     "output_type": "stream",
     "text": [
      "[20:54:34] WARNING: /Users/travis/build/dmlc/xgboost/src/learner.cc:1061: Starting in XGBoost 1.3.0, the default evaluation metric used with the objective 'binary:logistic' was changed from 'error' to 'logloss'. Explicitly set eval_metric if you'd like to restore the old behavior.\n"
     ]
    },
    {
     "data": {
      "text/plain": [
       "0.5782312925170068"
      ]
     },
     "execution_count": 26,
     "metadata": {},
     "output_type": "execute_result"
    }
   ],
   "source": [
    "xgb_clf = XGBClassifier(use_label_encoder=False).fit(X_train_c_pca, y_train_c)\n",
    "score_xgb_clf = xgb_clf.score(X_test_c_pca, y_test_c)\n",
    "score_xgb_clf"
   ]
  },
  {
   "cell_type": "code",
   "execution_count": 27,
   "id": "terminal-recruitment",
   "metadata": {},
   "outputs": [],
   "source": [
    "CLASSIFIER_COEF_DICT['xgboost'] = xgb_clf.feature_importances_\n",
    "CLASSIFIER_ACCURACY_DICT['xgboost'] = score_xgb_clf"
   ]
  },
  {
   "cell_type": "markdown",
   "id": "indoor-vintage",
   "metadata": {},
   "source": [
    "## XGBoost regressor"
   ]
  },
  {
   "cell_type": "code",
   "execution_count": 28,
   "id": "verbal-underground",
   "metadata": {},
   "outputs": [
    {
     "data": {
      "text/plain": [
       "-0.1838772538687108"
      ]
     },
     "execution_count": 28,
     "metadata": {},
     "output_type": "execute_result"
    }
   ],
   "source": [
    "xgb_reg = XGBRegressor(random_state = 0).fit(X_train_pca, y_train)\n",
    "score_xgb_reg = xgb_reg.score(X_test_pca, y_test)\n",
    "score_xgb_reg"
   ]
  },
  {
   "cell_type": "code",
   "execution_count": 29,
   "id": "wrong-coffee",
   "metadata": {},
   "outputs": [],
   "source": [
    "REGRESSOR_COEF_DICT['xgboost'] = xgb_reg.feature_importances_\n",
    "REGRESSOR_ACCURACY_DICT['xgboost'] = score_xgb_reg"
   ]
  },
  {
   "cell_type": "markdown",
   "id": "attended-amount",
   "metadata": {},
   "source": [
    "## AdaBoost classifier"
   ]
  },
  {
   "cell_type": "code",
   "execution_count": 30,
   "id": "bizarre-valentine",
   "metadata": {},
   "outputs": [
    {
     "data": {
      "text/plain": [
       "0.5306122448979592"
      ]
     },
     "execution_count": 30,
     "metadata": {},
     "output_type": "execute_result"
    }
   ],
   "source": [
    "adb_clf = AdaBoostClassifier().fit(X_train_c_pca, y_train_c)\n",
    "score_adb_clf = adb_clf.score(X_test_c_pca, y_test_c)\n",
    "score_adb_clf"
   ]
  },
  {
   "cell_type": "code",
   "execution_count": 31,
   "id": "solar-hearing",
   "metadata": {},
   "outputs": [],
   "source": [
    "CLASSIFIER_COEF_DICT['adaboost'] = adb_clf.feature_importances_\n",
    "CLASSIFIER_ACCURACY_DICT['adaboost'] = score_adb_clf"
   ]
  },
  {
   "cell_type": "markdown",
   "id": "closed-accreditation",
   "metadata": {},
   "source": [
    "## AdaBoost regressor"
   ]
  },
  {
   "cell_type": "code",
   "execution_count": 32,
   "id": "careful-observer",
   "metadata": {},
   "outputs": [
    {
     "data": {
      "text/plain": [
       "-0.0477250756163885"
      ]
     },
     "execution_count": 32,
     "metadata": {},
     "output_type": "execute_result"
    }
   ],
   "source": [
    "adb_reg = AdaBoostRegressor().fit(X_train_pca, y_train)\n",
    "score_adb_reg = adb_reg.score(X_test_pca, y_test)\n",
    "score_adb_reg"
   ]
  },
  {
   "cell_type": "code",
   "execution_count": 33,
   "id": "extraordinary-dividend",
   "metadata": {},
   "outputs": [],
   "source": [
    "REGRESSOR_COEF_DICT['adaboost'] = adb_reg.feature_importances_\n",
    "REGRESSOR_ACCURACY_DICT['adaboost'] = score_adb_reg"
   ]
  },
  {
   "cell_type": "markdown",
   "id": "invisible-blind",
   "metadata": {},
   "source": [
    "## Support vector classification"
   ]
  },
  {
   "cell_type": "code",
   "execution_count": 34,
   "id": "acute-baghdad",
   "metadata": {},
   "outputs": [
    {
     "name": "stdout",
     "output_type": "stream",
     "text": [
      "0.6054421768707483\n",
      "0.5986394557823129\n",
      "0.6258503401360545\n"
     ]
    }
   ],
   "source": [
    "# Try different kernels\n",
    "kernels = ('linear', 'poly', 'rbf')\n",
    "\n",
    "for k in kernels:\n",
    "    svm_clf = SVC(kernel=k).fit(X_train_c_pca, y_train_c)\n",
    "    y_pred = svm_clf.predict(X_test_c_pca)\n",
    "    vars()[f'score_svc_{k}']= accuracy_score(y_test_c, y_pred)\n",
    "    \n",
    "    if k == 'linear':\n",
    "        CLASSIFIER_COEF_DICT['svc_linear'] = svm_clf.coef_[0]\n",
    "    \n",
    "print(score_svc_linear)\n",
    "print(score_svc_poly)\n",
    "print(score_svc_rbf)\n",
    "\n",
    "CLASSIFIER_ACCURACY_DICT['svc_linear'] = score_svc_linear\n",
    "CLASSIFIER_ACCURACY_DICT['svc_poly'] = score_svc_poly\n",
    "CLASSIFIER_ACCURACY_DICT['svc_rbf'] = score_svc_rbf"
   ]
  },
  {
   "cell_type": "markdown",
   "id": "exterior-original",
   "metadata": {},
   "source": [
    "## Gaussian Naive Bayes"
   ]
  },
  {
   "cell_type": "code",
   "execution_count": 35,
   "id": "killing-mortality",
   "metadata": {},
   "outputs": [
    {
     "name": "stdout",
     "output_type": "stream",
     "text": [
      "0.5714285714285714\n"
     ]
    }
   ],
   "source": [
    "gnb_clf = GaussianNB().fit(X_train_c_pca, y_train_c)\n",
    "score_gnb = gnb_clf.score(X_test_c_pca, y_test_c)\n",
    "print(score_gnb)"
   ]
  },
  {
   "cell_type": "code",
   "execution_count": 36,
   "id": "imported-stuff",
   "metadata": {},
   "outputs": [],
   "source": [
    "CLASSIFIER_ACCURACY_DICT['GaussianNB'] = score_gnb"
   ]
  },
  {
   "cell_type": "markdown",
   "id": "interested-american",
   "metadata": {},
   "source": [
    "## Neuro networks"
   ]
  },
  {
   "cell_type": "code",
   "execution_count": 37,
   "id": "physical-potential",
   "metadata": {},
   "outputs": [
    {
     "name": "stdout",
     "output_type": "stream",
     "text": [
      "Epoch 1/50\n",
      "22/22 [==============================] - 1s 32ms/step - loss: 0.9607 - accuracy: 0.4083 - val_loss: 0.8964 - val_accuracy: 0.4218\n",
      "Epoch 2/50\n",
      "22/22 [==============================] - 0s 3ms/step - loss: 0.8872 - accuracy: 0.4306 - val_loss: 0.8295 - val_accuracy: 0.4082\n",
      "Epoch 3/50\n",
      "22/22 [==============================] - 0s 3ms/step - loss: 0.8089 - accuracy: 0.4453 - val_loss: 0.7799 - val_accuracy: 0.4286\n",
      "Epoch 4/50\n",
      "22/22 [==============================] - 0s 4ms/step - loss: 0.7613 - accuracy: 0.4726 - val_loss: 0.7476 - val_accuracy: 0.4422\n",
      "Epoch 5/50\n",
      "22/22 [==============================] - 0s 4ms/step - loss: 0.7616 - accuracy: 0.4435 - val_loss: 0.7262 - val_accuracy: 0.4490\n",
      "Epoch 6/50\n",
      "22/22 [==============================] - 0s 4ms/step - loss: 0.7303 - accuracy: 0.4794 - val_loss: 0.7128 - val_accuracy: 0.4830\n",
      "Epoch 7/50\n",
      "22/22 [==============================] - 0s 3ms/step - loss: 0.7097 - accuracy: 0.4957 - val_loss: 0.7045 - val_accuracy: 0.4898\n",
      "Epoch 8/50\n",
      "22/22 [==============================] - 0s 3ms/step - loss: 0.6930 - accuracy: 0.5239 - val_loss: 0.6983 - val_accuracy: 0.4898\n",
      "Epoch 9/50\n",
      "22/22 [==============================] - 0s 3ms/step - loss: 0.7036 - accuracy: 0.5008 - val_loss: 0.6946 - val_accuracy: 0.4966\n",
      "Epoch 10/50\n",
      "22/22 [==============================] - 0s 2ms/step - loss: 0.6963 - accuracy: 0.4927 - val_loss: 0.6920 - val_accuracy: 0.5102\n",
      "Epoch 11/50\n",
      "22/22 [==============================] - 0s 3ms/step - loss: 0.6913 - accuracy: 0.5014 - val_loss: 0.6907 - val_accuracy: 0.5034\n",
      "Epoch 12/50\n",
      "22/22 [==============================] - 0s 4ms/step - loss: 0.6835 - accuracy: 0.5088 - val_loss: 0.6892 - val_accuracy: 0.5034\n",
      "Epoch 13/50\n",
      "22/22 [==============================] - 0s 5ms/step - loss: 0.6738 - accuracy: 0.5245 - val_loss: 0.6884 - val_accuracy: 0.5034\n",
      "Epoch 14/50\n",
      "22/22 [==============================] - 0s 4ms/step - loss: 0.6832 - accuracy: 0.5247 - val_loss: 0.6873 - val_accuracy: 0.5034\n",
      "Epoch 15/50\n",
      "22/22 [==============================] - 0s 3ms/step - loss: 0.6732 - accuracy: 0.5193 - val_loss: 0.6865 - val_accuracy: 0.5034\n",
      "Epoch 16/50\n",
      "22/22 [==============================] - 0s 4ms/step - loss: 0.6647 - accuracy: 0.5403 - val_loss: 0.6854 - val_accuracy: 0.5102\n",
      "Epoch 17/50\n",
      "22/22 [==============================] - 0s 4ms/step - loss: 0.6782 - accuracy: 0.5273 - val_loss: 0.6845 - val_accuracy: 0.5170\n",
      "Epoch 18/50\n",
      "22/22 [==============================] - 0s 4ms/step - loss: 0.6782 - accuracy: 0.5143 - val_loss: 0.6837 - val_accuracy: 0.5170\n",
      "Epoch 19/50\n",
      "22/22 [==============================] - 0s 5ms/step - loss: 0.6715 - accuracy: 0.5165 - val_loss: 0.6824 - val_accuracy: 0.5374\n",
      "Epoch 20/50\n",
      "22/22 [==============================] - 0s 3ms/step - loss: 0.6765 - accuracy: 0.5299 - val_loss: 0.6812 - val_accuracy: 0.5374\n",
      "Epoch 21/50\n",
      "22/22 [==============================] - 0s 3ms/step - loss: 0.6739 - accuracy: 0.5388 - val_loss: 0.6800 - val_accuracy: 0.5374\n",
      "Epoch 22/50\n",
      "22/22 [==============================] - 0s 3ms/step - loss: 0.6596 - accuracy: 0.5678 - val_loss: 0.6793 - val_accuracy: 0.5510\n",
      "Epoch 23/50\n",
      "22/22 [==============================] - 0s 3ms/step - loss: 0.6686 - accuracy: 0.5606 - val_loss: 0.6779 - val_accuracy: 0.5578\n",
      "Epoch 24/50\n",
      "22/22 [==============================] - 0s 3ms/step - loss: 0.6606 - accuracy: 0.5649 - val_loss: 0.6777 - val_accuracy: 0.5578\n",
      "Epoch 25/50\n",
      "22/22 [==============================] - 0s 3ms/step - loss: 0.6626 - accuracy: 0.6153 - val_loss: 0.6771 - val_accuracy: 0.5782\n",
      "Epoch 26/50\n",
      "22/22 [==============================] - 0s 3ms/step - loss: 0.6700 - accuracy: 0.5727 - val_loss: 0.6761 - val_accuracy: 0.5714\n",
      "Epoch 27/50\n",
      "22/22 [==============================] - 0s 3ms/step - loss: 0.6650 - accuracy: 0.6086 - val_loss: 0.6754 - val_accuracy: 0.5850\n",
      "Epoch 28/50\n",
      "22/22 [==============================] - 0s 3ms/step - loss: 0.6606 - accuracy: 0.5859 - val_loss: 0.6747 - val_accuracy: 0.5918\n",
      "Epoch 29/50\n",
      "22/22 [==============================] - 0s 3ms/step - loss: 0.6573 - accuracy: 0.6274 - val_loss: 0.6743 - val_accuracy: 0.5918\n",
      "Epoch 30/50\n",
      "22/22 [==============================] - 0s 3ms/step - loss: 0.6643 - accuracy: 0.6158 - val_loss: 0.6737 - val_accuracy: 0.5986\n",
      "Epoch 31/50\n",
      "22/22 [==============================] - 0s 3ms/step - loss: 0.6581 - accuracy: 0.6349 - val_loss: 0.6726 - val_accuracy: 0.6054\n",
      "Epoch 32/50\n",
      "22/22 [==============================] - 0s 3ms/step - loss: 0.6577 - accuracy: 0.6122 - val_loss: 0.6719 - val_accuracy: 0.6054\n",
      "Epoch 33/50\n",
      "22/22 [==============================] - 0s 4ms/step - loss: 0.6546 - accuracy: 0.6014 - val_loss: 0.6714 - val_accuracy: 0.6054\n",
      "Epoch 34/50\n",
      "22/22 [==============================] - 0s 4ms/step - loss: 0.6510 - accuracy: 0.6015 - val_loss: 0.6705 - val_accuracy: 0.6054\n",
      "Epoch 35/50\n",
      "22/22 [==============================] - 0s 3ms/step - loss: 0.6450 - accuracy: 0.6504 - val_loss: 0.6707 - val_accuracy: 0.6122\n",
      "Epoch 36/50\n",
      "22/22 [==============================] - 0s 4ms/step - loss: 0.6488 - accuracy: 0.6358 - val_loss: 0.6693 - val_accuracy: 0.6122\n",
      "Epoch 37/50\n",
      "22/22 [==============================] - 0s 4ms/step - loss: 0.6527 - accuracy: 0.6320 - val_loss: 0.6685 - val_accuracy: 0.6054\n",
      "Epoch 38/50\n",
      "22/22 [==============================] - 0s 5ms/step - loss: 0.6589 - accuracy: 0.6027 - val_loss: 0.6680 - val_accuracy: 0.6122\n",
      "Epoch 39/50\n",
      "22/22 [==============================] - 0s 5ms/step - loss: 0.6357 - accuracy: 0.6629 - val_loss: 0.6669 - val_accuracy: 0.6259\n",
      "Epoch 40/50\n",
      "22/22 [==============================] - 0s 5ms/step - loss: 0.6437 - accuracy: 0.6696 - val_loss: 0.6661 - val_accuracy: 0.6190\n",
      "Epoch 41/50\n",
      "22/22 [==============================] - 0s 4ms/step - loss: 0.6482 - accuracy: 0.6578 - val_loss: 0.6657 - val_accuracy: 0.6259\n",
      "Epoch 42/50\n",
      "22/22 [==============================] - 0s 4ms/step - loss: 0.6428 - accuracy: 0.6468 - val_loss: 0.6652 - val_accuracy: 0.6259\n",
      "Epoch 43/50\n",
      "22/22 [==============================] - 0s 3ms/step - loss: 0.6536 - accuracy: 0.6101 - val_loss: 0.6642 - val_accuracy: 0.6327\n",
      "Epoch 44/50\n",
      "22/22 [==============================] - 0s 3ms/step - loss: 0.6523 - accuracy: 0.6355 - val_loss: 0.6627 - val_accuracy: 0.6463\n",
      "Epoch 45/50\n",
      "22/22 [==============================] - 0s 3ms/step - loss: 0.6491 - accuracy: 0.6170 - val_loss: 0.6624 - val_accuracy: 0.6463\n",
      "Epoch 46/50\n",
      "22/22 [==============================] - 0s 3ms/step - loss: 0.6392 - accuracy: 0.6340 - val_loss: 0.6613 - val_accuracy: 0.6667\n",
      "Epoch 47/50\n",
      "22/22 [==============================] - 0s 3ms/step - loss: 0.6412 - accuracy: 0.6424 - val_loss: 0.6604 - val_accuracy: 0.6803\n",
      "Epoch 48/50\n",
      "22/22 [==============================] - 0s 3ms/step - loss: 0.6267 - accuracy: 0.6659 - val_loss: 0.6594 - val_accuracy: 0.6803\n",
      "Epoch 49/50\n",
      "22/22 [==============================] - 0s 3ms/step - loss: 0.6395 - accuracy: 0.6500 - val_loss: 0.6588 - val_accuracy: 0.6803\n",
      "Epoch 50/50\n",
      "22/22 [==============================] - 0s 3ms/step - loss: 0.6383 - accuracy: 0.6529 - val_loss: 0.6584 - val_accuracy: 0.6803\n"
     ]
    }
   ],
   "source": [
    "model = keras.models.Sequential()\n",
    "model.add(keras.layers.Dense(10, input_dim=num_var, activation='relu'))\n",
    "model.add(keras.layers.Dense(5, activation='relu'))\n",
    "model.add(keras.layers.Dense(1, activation='sigmoid'))\n",
    "\n",
    "model.compile(loss='binary_crossentropy', optimizer='adam', metrics=['accuracy'])\n",
    "\n",
    "history = model.fit(X_train_c_pca, y_train_c, epochs=50, validation_data=(X_val_c_pca, y_val_c))"
   ]
  },
  {
   "cell_type": "code",
   "execution_count": 38,
   "id": "experimental-roller",
   "metadata": {},
   "outputs": [
    {
     "name": "stdout",
     "output_type": "stream",
     "text": [
      "5/5 [==============================] - 0s 862us/step - loss: 0.6823 - accuracy: 0.5918\n",
      "0.5918367505073547\n"
     ]
    }
   ],
   "source": [
    "loss, score_neuro = model.evaluate(X_test_c_pca, y_test_c)\n",
    "print(score_neuro)"
   ]
  },
  {
   "cell_type": "code",
   "execution_count": 39,
   "id": "thorough-faith",
   "metadata": {},
   "outputs": [],
   "source": [
    "CLASSIFIER_ACCURACY_DICT['neuro'] = score_neuro"
   ]
  },
  {
   "cell_type": "markdown",
   "id": "assisted-street",
   "metadata": {},
   "source": [
    "## Summary"
   ]
  },
  {
   "cell_type": "code",
   "execution_count": 40,
   "id": "cooperative-botswana",
   "metadata": {},
   "outputs": [
    {
     "data": {
      "text/html": [
       "<div>\n",
       "<style scoped>\n",
       "    .dataframe tbody tr th:only-of-type {\n",
       "        vertical-align: middle;\n",
       "    }\n",
       "\n",
       "    .dataframe tbody tr th {\n",
       "        vertical-align: top;\n",
       "    }\n",
       "\n",
       "    .dataframe thead th {\n",
       "        text-align: right;\n",
       "    }\n",
       "</style>\n",
       "<table border=\"1\" class=\"dataframe\">\n",
       "  <thead>\n",
       "    <tr style=\"text-align: right;\">\n",
       "      <th></th>\n",
       "      <th>Score</th>\n",
       "    </tr>\n",
       "    <tr>\n",
       "      <th>Regression models</th>\n",
       "      <th></th>\n",
       "    </tr>\n",
       "  </thead>\n",
       "  <tbody>\n",
       "    <tr>\n",
       "      <th>multi_linear</th>\n",
       "      <td>0.025130</td>\n",
       "    </tr>\n",
       "    <tr>\n",
       "      <th>random_forest</th>\n",
       "      <td>-0.090244</td>\n",
       "    </tr>\n",
       "    <tr>\n",
       "      <th>logistic</th>\n",
       "      <td>0.619048</td>\n",
       "    </tr>\n",
       "    <tr>\n",
       "      <th>gradient_boosting</th>\n",
       "      <td>-0.185046</td>\n",
       "    </tr>\n",
       "    <tr>\n",
       "      <th>xgboost</th>\n",
       "      <td>-0.183877</td>\n",
       "    </tr>\n",
       "    <tr>\n",
       "      <th>adaboost</th>\n",
       "      <td>-0.047725</td>\n",
       "    </tr>\n",
       "  </tbody>\n",
       "</table>\n",
       "</div>"
      ],
      "text/plain": [
       "                      Score\n",
       "Regression models          \n",
       "multi_linear       0.025130\n",
       "random_forest     -0.090244\n",
       "logistic           0.619048\n",
       "gradient_boosting -0.185046\n",
       "xgboost           -0.183877\n",
       "adaboost          -0.047725"
      ]
     },
     "execution_count": 40,
     "metadata": {},
     "output_type": "execute_result"
    }
   ],
   "source": [
    "reg_df = pd.DataFrame.from_dict(REGRESSOR_ACCURACY_DICT , orient='index', columns=['Score'])\n",
    "reg_df.index.name = 'Regression models'\n",
    "#reg_df.sort_values(by=['Score'], ascending=False)\n",
    "reg_df"
   ]
  },
  {
   "cell_type": "code",
   "execution_count": 41,
   "id": "pharmaceutical-mauritius",
   "metadata": {},
   "outputs": [
    {
     "data": {
      "text/html": [
       "<div>\n",
       "<style scoped>\n",
       "    .dataframe tbody tr th:only-of-type {\n",
       "        vertical-align: middle;\n",
       "    }\n",
       "\n",
       "    .dataframe tbody tr th {\n",
       "        vertical-align: top;\n",
       "    }\n",
       "\n",
       "    .dataframe thead th {\n",
       "        text-align: right;\n",
       "    }\n",
       "</style>\n",
       "<table border=\"1\" class=\"dataframe\">\n",
       "  <thead>\n",
       "    <tr style=\"text-align: right;\">\n",
       "      <th></th>\n",
       "      <th>Score</th>\n",
       "    </tr>\n",
       "    <tr>\n",
       "      <th>Classifier models</th>\n",
       "      <th></th>\n",
       "    </tr>\n",
       "  </thead>\n",
       "  <tbody>\n",
       "    <tr>\n",
       "      <th>random_forest</th>\n",
       "      <td>0.591837</td>\n",
       "    </tr>\n",
       "    <tr>\n",
       "      <th>gradient_boosting</th>\n",
       "      <td>0.537415</td>\n",
       "    </tr>\n",
       "    <tr>\n",
       "      <th>xgboost</th>\n",
       "      <td>0.578231</td>\n",
       "    </tr>\n",
       "    <tr>\n",
       "      <th>adaboost</th>\n",
       "      <td>0.530612</td>\n",
       "    </tr>\n",
       "    <tr>\n",
       "      <th>svc_linear</th>\n",
       "      <td>0.605442</td>\n",
       "    </tr>\n",
       "    <tr>\n",
       "      <th>svc_poly</th>\n",
       "      <td>0.598639</td>\n",
       "    </tr>\n",
       "    <tr>\n",
       "      <th>svc_rbf</th>\n",
       "      <td>0.625850</td>\n",
       "    </tr>\n",
       "    <tr>\n",
       "      <th>GaussianNB</th>\n",
       "      <td>0.571429</td>\n",
       "    </tr>\n",
       "    <tr>\n",
       "      <th>neuro</th>\n",
       "      <td>0.591837</td>\n",
       "    </tr>\n",
       "  </tbody>\n",
       "</table>\n",
       "</div>"
      ],
      "text/plain": [
       "                      Score\n",
       "Classifier models          \n",
       "random_forest      0.591837\n",
       "gradient_boosting  0.537415\n",
       "xgboost            0.578231\n",
       "adaboost           0.530612\n",
       "svc_linear         0.605442\n",
       "svc_poly           0.598639\n",
       "svc_rbf            0.625850\n",
       "GaussianNB         0.571429\n",
       "neuro              0.591837"
      ]
     },
     "execution_count": 41,
     "metadata": {},
     "output_type": "execute_result"
    }
   ],
   "source": [
    "clf_df = pd.DataFrame.from_dict(CLASSIFIER_ACCURACY_DICT, orient='index',columns=['Score'])\n",
    "clf_df.index.name = 'Classifier models'\n",
    "#clf_df.sort_values(by=['Score'], ascending=False)\n",
    "clf_df"
   ]
  },
  {
   "cell_type": "code",
   "execution_count": 42,
   "id": "underlying-proportion",
   "metadata": {},
   "outputs": [
    {
     "data": {
      "text/html": [
       "<div>\n",
       "<style scoped>\n",
       "    .dataframe tbody tr th:only-of-type {\n",
       "        vertical-align: middle;\n",
       "    }\n",
       "\n",
       "    .dataframe tbody tr th {\n",
       "        vertical-align: top;\n",
       "    }\n",
       "\n",
       "    .dataframe thead th {\n",
       "        text-align: right;\n",
       "    }\n",
       "</style>\n",
       "<table border=\"1\" class=\"dataframe\">\n",
       "  <thead>\n",
       "    <tr style=\"text-align: right;\">\n",
       "      <th></th>\n",
       "      <th>0</th>\n",
       "      <th>1</th>\n",
       "      <th>2</th>\n",
       "      <th>3</th>\n",
       "      <th>4</th>\n",
       "      <th>5</th>\n",
       "      <th>6</th>\n",
       "      <th>7</th>\n",
       "    </tr>\n",
       "  </thead>\n",
       "  <tbody>\n",
       "    <tr>\n",
       "      <th>multi_linear</th>\n",
       "      <td>0.000031</td>\n",
       "      <td>-0.000011</td>\n",
       "      <td>-0.000243</td>\n",
       "      <td>0.000185</td>\n",
       "      <td>0.000319</td>\n",
       "      <td>-0.000062</td>\n",
       "      <td>-0.000182</td>\n",
       "      <td>-0.000475</td>\n",
       "    </tr>\n",
       "    <tr>\n",
       "      <th>random_forest</th>\n",
       "      <td>0.103463</td>\n",
       "      <td>0.100293</td>\n",
       "      <td>0.162131</td>\n",
       "      <td>0.102855</td>\n",
       "      <td>0.165228</td>\n",
       "      <td>0.103440</td>\n",
       "      <td>0.116596</td>\n",
       "      <td>0.145994</td>\n",
       "    </tr>\n",
       "    <tr>\n",
       "      <th>logistic</th>\n",
       "      <td>0.036448</td>\n",
       "      <td>0.003778</td>\n",
       "      <td>-0.234013</td>\n",
       "      <td>0.178421</td>\n",
       "      <td>0.371848</td>\n",
       "      <td>0.000000</td>\n",
       "      <td>-0.187821</td>\n",
       "      <td>-0.744518</td>\n",
       "    </tr>\n",
       "    <tr>\n",
       "      <th>gradient_boosting</th>\n",
       "      <td>0.075560</td>\n",
       "      <td>0.063126</td>\n",
       "      <td>0.194200</td>\n",
       "      <td>0.114864</td>\n",
       "      <td>0.202946</td>\n",
       "      <td>0.069473</td>\n",
       "      <td>0.141081</td>\n",
       "      <td>0.138751</td>\n",
       "    </tr>\n",
       "    <tr>\n",
       "      <th>xgboost</th>\n",
       "      <td>0.106470</td>\n",
       "      <td>0.092608</td>\n",
       "      <td>0.139091</td>\n",
       "      <td>0.115327</td>\n",
       "      <td>0.153332</td>\n",
       "      <td>0.104085</td>\n",
       "      <td>0.126785</td>\n",
       "      <td>0.162303</td>\n",
       "    </tr>\n",
       "    <tr>\n",
       "      <th>adaboost</th>\n",
       "      <td>0.135635</td>\n",
       "      <td>0.117496</td>\n",
       "      <td>0.126600</td>\n",
       "      <td>0.150392</td>\n",
       "      <td>0.136296</td>\n",
       "      <td>0.087861</td>\n",
       "      <td>0.137323</td>\n",
       "      <td>0.108398</td>\n",
       "    </tr>\n",
       "  </tbody>\n",
       "</table>\n",
       "</div>"
      ],
      "text/plain": [
       "                          0         1         2         3         4         5  \\\n",
       "multi_linear       0.000031 -0.000011 -0.000243  0.000185  0.000319 -0.000062   \n",
       "random_forest      0.103463  0.100293  0.162131  0.102855  0.165228  0.103440   \n",
       "logistic           0.036448  0.003778 -0.234013  0.178421  0.371848  0.000000   \n",
       "gradient_boosting  0.075560  0.063126  0.194200  0.114864  0.202946  0.069473   \n",
       "xgboost            0.106470  0.092608  0.139091  0.115327  0.153332  0.104085   \n",
       "adaboost           0.135635  0.117496  0.126600  0.150392  0.136296  0.087861   \n",
       "\n",
       "                          6         7  \n",
       "multi_linear      -0.000182 -0.000475  \n",
       "random_forest      0.116596  0.145994  \n",
       "logistic          -0.187821 -0.744518  \n",
       "gradient_boosting  0.141081  0.138751  \n",
       "xgboost            0.126785  0.162303  \n",
       "adaboost           0.137323  0.108398  "
      ]
     },
     "execution_count": 42,
     "metadata": {},
     "output_type": "execute_result"
    }
   ],
   "source": [
    "reg_coef_df = pd.DataFrame.from_dict(REGRESSOR_COEF_DICT, orient='index')\n",
    "reg_coef_df"
   ]
  },
  {
   "cell_type": "code",
   "execution_count": 43,
   "id": "cheap-navigator",
   "metadata": {},
   "outputs": [
    {
     "data": {
      "text/html": [
       "<div>\n",
       "<style scoped>\n",
       "    .dataframe tbody tr th:only-of-type {\n",
       "        vertical-align: middle;\n",
       "    }\n",
       "\n",
       "    .dataframe tbody tr th {\n",
       "        vertical-align: top;\n",
       "    }\n",
       "\n",
       "    .dataframe thead th {\n",
       "        text-align: right;\n",
       "    }\n",
       "</style>\n",
       "<table border=\"1\" class=\"dataframe\">\n",
       "  <thead>\n",
       "    <tr style=\"text-align: right;\">\n",
       "      <th></th>\n",
       "      <th>0</th>\n",
       "      <th>1</th>\n",
       "      <th>2</th>\n",
       "      <th>3</th>\n",
       "      <th>4</th>\n",
       "      <th>5</th>\n",
       "      <th>6</th>\n",
       "      <th>7</th>\n",
       "    </tr>\n",
       "  </thead>\n",
       "  <tbody>\n",
       "    <tr>\n",
       "      <th>random_forest</th>\n",
       "      <td>0.061343</td>\n",
       "      <td>0.077653</td>\n",
       "      <td>0.198850</td>\n",
       "      <td>0.085868</td>\n",
       "      <td>0.204979</td>\n",
       "      <td>0.047164</td>\n",
       "      <td>0.090875</td>\n",
       "      <td>0.233268</td>\n",
       "    </tr>\n",
       "    <tr>\n",
       "      <th>gradient_boosting</th>\n",
       "      <td>0.078651</td>\n",
       "      <td>0.105862</td>\n",
       "      <td>0.119766</td>\n",
       "      <td>0.094816</td>\n",
       "      <td>0.142959</td>\n",
       "      <td>0.117708</td>\n",
       "      <td>0.135955</td>\n",
       "      <td>0.204284</td>\n",
       "    </tr>\n",
       "    <tr>\n",
       "      <th>xgboost</th>\n",
       "      <td>0.109946</td>\n",
       "      <td>0.112039</td>\n",
       "      <td>0.129917</td>\n",
       "      <td>0.114247</td>\n",
       "      <td>0.159301</td>\n",
       "      <td>0.123407</td>\n",
       "      <td>0.112307</td>\n",
       "      <td>0.138835</td>\n",
       "    </tr>\n",
       "    <tr>\n",
       "      <th>adaboost</th>\n",
       "      <td>0.160000</td>\n",
       "      <td>0.160000</td>\n",
       "      <td>0.140000</td>\n",
       "      <td>0.040000</td>\n",
       "      <td>0.160000</td>\n",
       "      <td>0.020000</td>\n",
       "      <td>0.120000</td>\n",
       "      <td>0.200000</td>\n",
       "    </tr>\n",
       "    <tr>\n",
       "      <th>svc_linear</th>\n",
       "      <td>0.052312</td>\n",
       "      <td>-0.022876</td>\n",
       "      <td>-0.329477</td>\n",
       "      <td>0.296954</td>\n",
       "      <td>0.485410</td>\n",
       "      <td>-0.023588</td>\n",
       "      <td>-0.249605</td>\n",
       "      <td>-0.891143</td>\n",
       "    </tr>\n",
       "  </tbody>\n",
       "</table>\n",
       "</div>"
      ],
      "text/plain": [
       "                          0         1         2         3         4         5  \\\n",
       "random_forest      0.061343  0.077653  0.198850  0.085868  0.204979  0.047164   \n",
       "gradient_boosting  0.078651  0.105862  0.119766  0.094816  0.142959  0.117708   \n",
       "xgboost            0.109946  0.112039  0.129917  0.114247  0.159301  0.123407   \n",
       "adaboost           0.160000  0.160000  0.140000  0.040000  0.160000  0.020000   \n",
       "svc_linear         0.052312 -0.022876 -0.329477  0.296954  0.485410 -0.023588   \n",
       "\n",
       "                          6         7  \n",
       "random_forest      0.090875  0.233268  \n",
       "gradient_boosting  0.135955  0.204284  \n",
       "xgboost            0.112307  0.138835  \n",
       "adaboost           0.120000  0.200000  \n",
       "svc_linear        -0.249605 -0.891143  "
      ]
     },
     "execution_count": 43,
     "metadata": {},
     "output_type": "execute_result"
    }
   ],
   "source": [
    "clf_coef_df = pd.DataFrame.from_dict(CLASSIFIER_COEF_DICT, orient='index')\n",
    "clf_coef_df"
   ]
  },
  {
   "cell_type": "code",
   "execution_count": 44,
   "id": "electronic-peoples",
   "metadata": {},
   "outputs": [],
   "source": [
    "# Export\n",
    "reg_df.to_csv('reg_df.csv')\n",
    "clf_df.to_csv('clf_df.csv')\n",
    "reg_coef_df.to_csv('reg_coef_df.csv')\n",
    "clf_coef_df.to_csv('clf_coef_df.csv')"
   ]
  },
  {
   "cell_type": "code",
   "execution_count": null,
   "id": "unlimited-planner",
   "metadata": {},
   "outputs": [],
   "source": []
  }
 ],
 "metadata": {
  "kernelspec": {
   "display_name": "Python 3",
   "language": "python",
   "name": "python3"
  },
  "language_info": {
   "codemirror_mode": {
    "name": "ipython",
    "version": 3
   },
   "file_extension": ".py",
   "mimetype": "text/x-python",
   "name": "python",
   "nbconvert_exporter": "python",
   "pygments_lexer": "ipython3",
   "version": "3.8.5"
  }
 },
 "nbformat": 4,
 "nbformat_minor": 5
}
