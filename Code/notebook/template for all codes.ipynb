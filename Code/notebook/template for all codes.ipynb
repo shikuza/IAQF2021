{
 "cells": [
  {
   "cell_type": "code",
   "execution_count": 1,
   "metadata": {},
   "outputs": [],
   "source": [
    "# import libraries\n",
    "import numpy as np\n",
    "import pandas as pd\n",
    "import matplotlib.pyplot as plt\n",
    "import matplotlib\n",
    "import datetime\n",
    "\n",
    "from sklearn.decomposition import PCA\n",
    "from sklearn.preprocessing import StandardScaler\n",
    "\n",
    "import sklearn\n",
    "from sklearn.model_selection import train_test_split\n",
    "from sklearn.linear_model import LinearRegression\n",
    "from sklearn.ensemble import RandomForestClassifier, RandomForestRegressor\n",
    "from sklearn.linear_model import LogisticRegression\n",
    "from sklearn.svm import SVC\n",
    "from sklearn.naive_bayes import GaussianNB\n",
    "from sklearn.preprocessing import PolynomialFeatures\n",
    "from sklearn.pipeline import Pipeline\n",
    "from sklearn.ensemble import GradientBoostingClassifier,GradientBoostingRegressor\n",
    "from xgboost import XGBClassifier\n",
    "from xgboost import XGBRegressor\n",
    "from sklearn.ensemble import AdaBoostClassifier\n",
    "from sklearn.ensemble import AdaBoostRegressor\n",
    "from sklearn.metrics import accuracy_score\n",
    "\n",
    "\n",
    "import tensorflow as tf\n",
    "from tensorflow import keras\n",
    "import seaborn as sbn"
   ]
  },
  {
   "cell_type": "code",
   "execution_count": 2,
   "metadata": {
    "scrolled": false
   },
   "outputs": [
    {
     "data": {
      "text/html": [
       "<div>\n",
       "<style scoped>\n",
       "    .dataframe tbody tr th:only-of-type {\n",
       "        vertical-align: middle;\n",
       "    }\n",
       "\n",
       "    .dataframe tbody tr th {\n",
       "        vertical-align: top;\n",
       "    }\n",
       "\n",
       "    .dataframe thead th {\n",
       "        text-align: right;\n",
       "    }\n",
       "</style>\n",
       "<table border=\"1\" class=\"dataframe\">\n",
       "  <thead>\n",
       "    <tr style=\"text-align: right;\">\n",
       "      <th></th>\n",
       "      <th>Date</th>\n",
       "      <th>gasoline</th>\n",
       "      <th>crude_futures</th>\n",
       "      <th>gdp</th>\n",
       "    </tr>\n",
       "  </thead>\n",
       "  <tbody>\n",
       "    <tr>\n",
       "      <th>0</th>\n",
       "      <td>1-Jan-01</td>\n",
       "      <td>1.406</td>\n",
       "      <td>27.95</td>\n",
       "      <td>12999.56990</td>\n",
       "    </tr>\n",
       "    <tr>\n",
       "      <th>1</th>\n",
       "      <td>8-Jan-01</td>\n",
       "      <td>1.425</td>\n",
       "      <td>30.05</td>\n",
       "      <td>12293.34053</td>\n",
       "    </tr>\n",
       "    <tr>\n",
       "      <th>2</th>\n",
       "      <td>15-Jan-01</td>\n",
       "      <td>1.474</td>\n",
       "      <td>32.19</td>\n",
       "      <td>12708.81038</td>\n",
       "    </tr>\n",
       "    <tr>\n",
       "      <th>3</th>\n",
       "      <td>22-Jan-01</td>\n",
       "      <td>1.471</td>\n",
       "      <td>29.77</td>\n",
       "      <td>12287.22655</td>\n",
       "    </tr>\n",
       "    <tr>\n",
       "      <th>4</th>\n",
       "      <td>29-Jan-01</td>\n",
       "      <td>1.460</td>\n",
       "      <td>31.19</td>\n",
       "      <td>13353.26284</td>\n",
       "    </tr>\n",
       "    <tr>\n",
       "      <th>...</th>\n",
       "      <td>...</td>\n",
       "      <td>...</td>\n",
       "      <td>...</td>\n",
       "      <td>...</td>\n",
       "    </tr>\n",
       "    <tr>\n",
       "      <th>412</th>\n",
       "      <td>24-Nov-08</td>\n",
       "      <td>1.892</td>\n",
       "      <td>54.43</td>\n",
       "      <td>15451.90316</td>\n",
       "    </tr>\n",
       "    <tr>\n",
       "      <th>413</th>\n",
       "      <td>1-Dec-08</td>\n",
       "      <td>1.811</td>\n",
       "      <td>40.81</td>\n",
       "      <td>15362.37041</td>\n",
       "    </tr>\n",
       "    <tr>\n",
       "      <th>414</th>\n",
       "      <td>8-Dec-08</td>\n",
       "      <td>1.699</td>\n",
       "      <td>46.28</td>\n",
       "      <td>14770.91456</td>\n",
       "    </tr>\n",
       "    <tr>\n",
       "      <th>415</th>\n",
       "      <td>15-Dec-08</td>\n",
       "      <td>1.659</td>\n",
       "      <td>33.87</td>\n",
       "      <td>15966.69919</td>\n",
       "    </tr>\n",
       "    <tr>\n",
       "      <th>416</th>\n",
       "      <td>22-Dec-08</td>\n",
       "      <td>1.653</td>\n",
       "      <td>37.71</td>\n",
       "      <td>15333.04947</td>\n",
       "    </tr>\n",
       "  </tbody>\n",
       "</table>\n",
       "<p>417 rows × 4 columns</p>\n",
       "</div>"
      ],
      "text/plain": [
       "          Date  gasoline  crude_futures          gdp\n",
       "0     1-Jan-01     1.406          27.95  12999.56990\n",
       "1     8-Jan-01     1.425          30.05  12293.34053\n",
       "2    15-Jan-01     1.474          32.19  12708.81038\n",
       "3    22-Jan-01     1.471          29.77  12287.22655\n",
       "4    29-Jan-01     1.460          31.19  13353.26284\n",
       "..         ...       ...            ...          ...\n",
       "412  24-Nov-08     1.892          54.43  15451.90316\n",
       "413   1-Dec-08     1.811          40.81  15362.37041\n",
       "414   8-Dec-08     1.699          46.28  14770.91456\n",
       "415  15-Dec-08     1.659          33.87  15966.69919\n",
       "416  22-Dec-08     1.653          37.71  15333.04947\n",
       "\n",
       "[417 rows x 4 columns]"
      ]
     },
     "execution_count": 2,
     "metadata": {},
     "output_type": "execute_result"
    }
   ],
   "source": [
    "# import data TODO: Change the file path to the dataset this question needed\n",
    "df = pd.read_csv('..\\\\source_data\\\\test.csv')\n",
    "df"
   ]
  },
  {
   "cell_type": "markdown",
   "metadata": {},
   "source": [
    "# Creating independent and dependent variables "
   ]
  },
  {
   "cell_type": "code",
   "execution_count": 3,
   "metadata": {},
   "outputs": [
    {
     "data": {
      "text/html": [
       "<div>\n",
       "<style scoped>\n",
       "    .dataframe tbody tr th:only-of-type {\n",
       "        vertical-align: middle;\n",
       "    }\n",
       "\n",
       "    .dataframe tbody tr th {\n",
       "        vertical-align: top;\n",
       "    }\n",
       "\n",
       "    .dataframe thead th {\n",
       "        text-align: right;\n",
       "    }\n",
       "</style>\n",
       "<table border=\"1\" class=\"dataframe\">\n",
       "  <thead>\n",
       "    <tr style=\"text-align: right;\">\n",
       "      <th></th>\n",
       "      <th>Date</th>\n",
       "      <th>gasoline</th>\n",
       "      <th>crude_futures</th>\n",
       "      <th>gdp</th>\n",
       "      <th>of_chg_1</th>\n",
       "      <th>of_chg_2</th>\n",
       "      <th>of_chg_3</th>\n",
       "      <th>of_chg_5</th>\n",
       "      <th>of_chg_10</th>\n",
       "      <th>gas_chg</th>\n",
       "    </tr>\n",
       "  </thead>\n",
       "  <tbody>\n",
       "    <tr>\n",
       "      <th>11</th>\n",
       "      <td>19-Mar-01</td>\n",
       "      <td>1.404</td>\n",
       "      <td>27.30</td>\n",
       "      <td>11982.22891</td>\n",
       "      <td>0.020942</td>\n",
       "      <td>-0.025348</td>\n",
       "      <td>-0.019397</td>\n",
       "      <td>-0.063786</td>\n",
       "      <td>-0.091514</td>\n",
       "      <td>-0.005666</td>\n",
       "    </tr>\n",
       "    <tr>\n",
       "      <th>12</th>\n",
       "      <td>26-Mar-01</td>\n",
       "      <td>1.404</td>\n",
       "      <td>26.29</td>\n",
       "      <td>13936.69786</td>\n",
       "      <td>-0.036996</td>\n",
       "      <td>-0.016829</td>\n",
       "      <td>-0.061407</td>\n",
       "      <td>-0.094697</td>\n",
       "      <td>-0.183287</td>\n",
       "      <td>0.000000</td>\n",
       "    </tr>\n",
       "    <tr>\n",
       "      <th>13</th>\n",
       "      <td>2-Apr-01</td>\n",
       "      <td>1.442</td>\n",
       "      <td>27.06</td>\n",
       "      <td>12809.32454</td>\n",
       "      <td>0.029289</td>\n",
       "      <td>-0.008791</td>\n",
       "      <td>0.011967</td>\n",
       "      <td>-0.028017</td>\n",
       "      <td>-0.091031</td>\n",
       "      <td>0.027066</td>\n",
       "    </tr>\n",
       "    <tr>\n",
       "      <th>14</th>\n",
       "      <td>9-Apr-01</td>\n",
       "      <td>1.500</td>\n",
       "      <td>28.25</td>\n",
       "      <td>13474.20064</td>\n",
       "      <td>0.043976</td>\n",
       "      <td>0.074553</td>\n",
       "      <td>0.034799</td>\n",
       "      <td>0.008568</td>\n",
       "      <td>-0.094261</td>\n",
       "      <td>0.040222</td>\n",
       "    </tr>\n",
       "    <tr>\n",
       "      <th>15</th>\n",
       "      <td>16-Apr-01</td>\n",
       "      <td>1.571</td>\n",
       "      <td>27.28</td>\n",
       "      <td>13236.22196</td>\n",
       "      <td>-0.034336</td>\n",
       "      <td>0.008130</td>\n",
       "      <td>0.037657</td>\n",
       "      <td>0.020194</td>\n",
       "      <td>-0.120851</td>\n",
       "      <td>0.047333</td>\n",
       "    </tr>\n",
       "    <tr>\n",
       "      <th>...</th>\n",
       "      <td>...</td>\n",
       "      <td>...</td>\n",
       "      <td>...</td>\n",
       "      <td>...</td>\n",
       "      <td>...</td>\n",
       "      <td>...</td>\n",
       "      <td>...</td>\n",
       "      <td>...</td>\n",
       "      <td>...</td>\n",
       "      <td>...</td>\n",
       "    </tr>\n",
       "    <tr>\n",
       "      <th>412</th>\n",
       "      <td>24-Nov-08</td>\n",
       "      <td>1.892</td>\n",
       "      <td>54.43</td>\n",
       "      <td>15451.90316</td>\n",
       "      <td>0.090126</td>\n",
       "      <td>-0.045757</td>\n",
       "      <td>-0.108290</td>\n",
       "      <td>-0.151520</td>\n",
       "      <td>-0.479388</td>\n",
       "      <td>-0.086873</td>\n",
       "    </tr>\n",
       "    <tr>\n",
       "      <th>413</th>\n",
       "      <td>1-Dec-08</td>\n",
       "      <td>1.811</td>\n",
       "      <td>40.81</td>\n",
       "      <td>15362.37041</td>\n",
       "      <td>-0.250230</td>\n",
       "      <td>-0.182656</td>\n",
       "      <td>-0.284537</td>\n",
       "      <td>-0.398171</td>\n",
       "      <td>-0.618206</td>\n",
       "      <td>-0.042812</td>\n",
       "    </tr>\n",
       "    <tr>\n",
       "      <th>414</th>\n",
       "      <td>8-Dec-08</td>\n",
       "      <td>1.699</td>\n",
       "      <td>46.28</td>\n",
       "      <td>14770.91456</td>\n",
       "      <td>0.134036</td>\n",
       "      <td>-0.149734</td>\n",
       "      <td>-0.073102</td>\n",
       "      <td>-0.241809</td>\n",
       "      <td>-0.507030</td>\n",
       "      <td>-0.061844</td>\n",
       "    </tr>\n",
       "    <tr>\n",
       "      <th>415</th>\n",
       "      <td>15-Dec-08</td>\n",
       "      <td>1.659</td>\n",
       "      <td>33.87</td>\n",
       "      <td>15966.69919</td>\n",
       "      <td>-0.268150</td>\n",
       "      <td>-0.170056</td>\n",
       "      <td>-0.377733</td>\n",
       "      <td>-0.406206</td>\n",
       "      <td>-0.564093</td>\n",
       "      <td>-0.023543</td>\n",
       "    </tr>\n",
       "    <tr>\n",
       "      <th>416</th>\n",
       "      <td>22-Dec-08</td>\n",
       "      <td>1.653</td>\n",
       "      <td>37.71</td>\n",
       "      <td>15333.04947</td>\n",
       "      <td>0.113375</td>\n",
       "      <td>-0.185177</td>\n",
       "      <td>-0.075962</td>\n",
       "      <td>-0.244743</td>\n",
       "      <td>-0.475157</td>\n",
       "      <td>-0.003617</td>\n",
       "    </tr>\n",
       "  </tbody>\n",
       "</table>\n",
       "<p>406 rows × 10 columns</p>\n",
       "</div>"
      ],
      "text/plain": [
       "          Date  gasoline  crude_futures          gdp  of_chg_1  of_chg_2  \\\n",
       "11   19-Mar-01     1.404          27.30  11982.22891  0.020942 -0.025348   \n",
       "12   26-Mar-01     1.404          26.29  13936.69786 -0.036996 -0.016829   \n",
       "13    2-Apr-01     1.442          27.06  12809.32454  0.029289 -0.008791   \n",
       "14    9-Apr-01     1.500          28.25  13474.20064  0.043976  0.074553   \n",
       "15   16-Apr-01     1.571          27.28  13236.22196 -0.034336  0.008130   \n",
       "..         ...       ...            ...          ...       ...       ...   \n",
       "412  24-Nov-08     1.892          54.43  15451.90316  0.090126 -0.045757   \n",
       "413   1-Dec-08     1.811          40.81  15362.37041 -0.250230 -0.182656   \n",
       "414   8-Dec-08     1.699          46.28  14770.91456  0.134036 -0.149734   \n",
       "415  15-Dec-08     1.659          33.87  15966.69919 -0.268150 -0.170056   \n",
       "416  22-Dec-08     1.653          37.71  15333.04947  0.113375 -0.185177   \n",
       "\n",
       "     of_chg_3  of_chg_5  of_chg_10   gas_chg  \n",
       "11  -0.019397 -0.063786  -0.091514 -0.005666  \n",
       "12  -0.061407 -0.094697  -0.183287  0.000000  \n",
       "13   0.011967 -0.028017  -0.091031  0.027066  \n",
       "14   0.034799  0.008568  -0.094261  0.040222  \n",
       "15   0.037657  0.020194  -0.120851  0.047333  \n",
       "..        ...       ...        ...       ...  \n",
       "412 -0.108290 -0.151520  -0.479388 -0.086873  \n",
       "413 -0.284537 -0.398171  -0.618206 -0.042812  \n",
       "414 -0.073102 -0.241809  -0.507030 -0.061844  \n",
       "415 -0.377733 -0.406206  -0.564093 -0.023543  \n",
       "416 -0.075962 -0.244743  -0.475157 -0.003617  \n",
       "\n",
       "[406 rows x 10 columns]"
      ]
     },
     "execution_count": 3,
     "metadata": {},
     "output_type": "execute_result"
    }
   ],
   "source": [
    "# calculate independent variables\n",
    "periods = (1,2,3,5,10)\n",
    "for i in periods:\n",
    "    df['of_chg_{}'.format(i)] = df['crude_futures'].pct_change(periods = i)\n",
    "    \n",
    "# calculate dependent variable\n",
    "df['gas_chg'] = df['gasoline'].pct_change()\n",
    "\n",
    "# eliminate the empty rows\n",
    "df = df[11:]\n",
    "df"
   ]
  },
  {
   "cell_type": "markdown",
   "metadata": {},
   "source": [
    "# Seperating training, validation, and test datasets"
   ]
  },
  {
   "cell_type": "code",
   "execution_count": 4,
   "metadata": {},
   "outputs": [
    {
     "data": {
      "text/plain": [
       "array([[ 2.73000000e+01,  2.09424084e-02, -2.53480900e-02, ...,\n",
       "        -6.37860082e-02, -9.15141431e-02,  1.19822289e+04],\n",
       "       [ 2.62900000e+01, -3.69963370e-02, -1.68287210e-02, ...,\n",
       "        -9.46969697e-02, -1.83286735e-01,  1.39366979e+04],\n",
       "       [ 2.70600000e+01,  2.92887029e-02, -8.79120879e-03, ...,\n",
       "        -2.80172414e-02, -9.10312395e-02,  1.28093245e+04],\n",
       "       ...,\n",
       "       [ 4.62800000e+01,  1.34035776e-01, -1.49733603e-01, ...,\n",
       "        -2.41808650e-01, -5.07030251e-01,  1.47709146e+04],\n",
       "       [ 3.38700000e+01, -2.68150389e-01, -1.70056359e-01, ...,\n",
       "        -4.06206171e-01, -5.64092664e-01,  1.59666992e+04],\n",
       "       [ 3.77100000e+01,  1.13374668e-01, -1.85177182e-01, ...,\n",
       "        -2.44742640e-01, -4.75156576e-01,  1.53330495e+04]])"
      ]
     },
     "execution_count": 4,
     "metadata": {},
     "output_type": "execute_result"
    }
   ],
   "source": [
    "# create list of independent variable's name TODO: add the appropriate variable names to the list\n",
    "ind_var_name = ['of_chg_{}'.format(i) for i in periods]+['gdp']\n",
    "num_var =len(ind_var_name) # put number of variables here\n",
    "\n",
    "# extract the values to X\n",
    "X = df[['crude_futures'] + ind_var_name].values\n",
    "X"
   ]
  },
  {
   "cell_type": "code",
   "execution_count": 5,
   "metadata": {},
   "outputs": [
    {
     "data": {
      "text/plain": [
       "((406, 7), (406,), (406,))"
      ]
     },
     "execution_count": 5,
     "metadata": {},
     "output_type": "execute_result"
    }
   ],
   "source": [
    "# create y for regressor, y_c for classifier\n",
    "y = df['gas_chg']\n",
    "y_c = (df['gas_chg'] > 0).values.astype('int')\n",
    "\n",
    "# set training, validation, and test criterias\n",
    "training_ratio = 0.7\n",
    "validation_ratio = 0.15\n",
    "test_ratio = 0.15\n",
    "\n",
    "# check correctness of X and y\n",
    "X.shape, y.shape, y_c.shape"
   ]
  },
  {
   "cell_type": "code",
   "execution_count": 6,
   "metadata": {},
   "outputs": [
    {
     "name": "stdout",
     "output_type": "stream",
     "text": [
      "X_train shape:\t (284, 7)\n",
      "X_test shape:\t (61, 7)\n",
      "X_val shape:\t (61, 7)\n",
      "y_train shape:\t (284,)\n",
      "y_val shape:\t (61,)\n",
      "y_test shape:\t (61,)\n"
     ]
    }
   ],
   "source": [
    "# create training, validation, and test sets for regressor\n",
    "X_train, X_test, y_train, y_test = train_test_split(X, y, test_size = test_ratio, random_state = 42)\n",
    "X_train, X_val, y_train, y_val = train_test_split(X_train, y_train, test_size = validation_ratio/(validation_ratio + training_ratio), random_state = 42)\n",
    "print(\"X_train shape:\\t\", X_train.shape)\n",
    "print(\"X_test shape:\\t\", X_test.shape)\n",
    "print(\"X_val shape:\\t\", X_val.shape)\n",
    "print(\"y_train shape:\\t\", y_train.shape)\n",
    "print(\"y_val shape:\\t\", y_val.shape)\n",
    "print(\"y_test shape:\\t\", y_test.shape)"
   ]
  },
  {
   "cell_type": "code",
   "execution_count": 7,
   "metadata": {},
   "outputs": [
    {
     "name": "stdout",
     "output_type": "stream",
     "text": [
      "X_train_c shape: (284, 7)\n",
      "X_test_c shape:\t (61, 7)\n",
      "X_val_c shape:\t (61, 7)\n",
      "y_train_c shape: (284,)\n",
      "y_val_c shape:\t (61,)\n",
      "y_test_c shape:\t (61,)\n"
     ]
    }
   ],
   "source": [
    "# create training, validation, and test sets for classifier\n",
    "X_train_c, X_test_c, y_train_c, y_test_c = train_test_split(X, y_c, test_size = test_ratio, random_state = 42)\n",
    "X_train_c, X_val_c, y_train_c, y_val_c = train_test_split(X_train_c, y_train_c, test_size = validation_ratio/(validation_ratio + training_ratio), random_state = 42)\n",
    "print(\"X_train_c shape:\", X_train_c.shape)\n",
    "print(\"X_test_c shape:\\t\", X_test_c.shape)\n",
    "print(\"X_val_c shape:\\t\", X_val_c.shape)\n",
    "print(\"y_train_c shape:\", y_train_c.shape)\n",
    "print(\"y_val_c shape:\\t\", y_val_c.shape)\n",
    "print(\"y_test_c shape:\\t\", y_test_c.shape)"
   ]
  },
  {
   "cell_type": "markdown",
   "metadata": {},
   "source": [
    "# Principal Component Analysis (PCA)"
   ]
  },
  {
   "cell_type": "code",
   "execution_count": 8,
   "metadata": {
    "scrolled": false
   },
   "outputs": [
    {
     "name": "stdout",
     "output_type": "stream",
     "text": [
      "X_train shape:\t (284, 7)\n",
      "X_val shape:\t (61, 7)\n"
     ]
    }
   ],
   "source": [
    "# normalization for regressor set\n",
    "for i in range(X_train.shape[1]):\n",
    "    X_train_mean = X_train[:, i]. mean()\n",
    "    X_train_std = X_train[:, i].std()\n",
    "    X_train[:, i] = (X_train[:,i] - X_train_mean) / X_train_std\n",
    "    X_test[:,i] = (X_test[:,i] - X_train_mean) / X_train_std\n",
    "    X_val[:, i] = (X_val[:,i] - X_train_mean) / X_train_std\n",
    "\n",
    "print(\"X_train shape:\\t\", X_train.shape)\n",
    "print(\"X_val shape:\\t\", X_val.shape)"
   ]
  },
  {
   "cell_type": "code",
   "execution_count": 9,
   "metadata": {
    "scrolled": false
   },
   "outputs": [
    {
     "name": "stdout",
     "output_type": "stream",
     "text": [
      "X_train_c shape: (284, 7)\n",
      "X_val_c shape:\t (61, 7)\n"
     ]
    }
   ],
   "source": [
    "# normalization for classifier set\n",
    "for i in range(X_train_c.shape[1]):\n",
    "    X_train_c_mean = X_train_c[:, i]. mean()\n",
    "    X_train_c_std = X_train_c[:, i].std()\n",
    "    X_train_c[:, i] = (X_train_c[:,i] - X_train_c_mean) / X_train_c_std\n",
    "    X_test_c[:,i] = (X_test_c[:,i] - X_train_c_mean) / X_train_c_std\n",
    "    X_val_c[:, i] = (X_val_c[:,i] - X_train_c_mean) / X_train_c_std\n",
    "\n",
    "print(\"X_train_c shape:\", X_train_c.shape)\n",
    "print(\"X_val_c shape:\\t\", X_val_c.shape)"
   ]
  },
  {
   "cell_type": "code",
   "execution_count": 10,
   "metadata": {},
   "outputs": [
    {
     "name": "stdout",
     "output_type": "stream",
     "text": [
      "X_train_pca shape:\t (284, 6)\n",
      "X_test_pca shape:\t (61, 6)\n",
      "X_val_pca shape:\t (61, 6)\n",
      "y_train shape:\t (284,)\n",
      "y_val shape:\t (61,)\n",
      "y_test shape:\t (61,)\n"
     ]
    }
   ],
   "source": [
    "# PCA for regressor\n",
    "# fit on training set\n",
    "scaler = StandardScaler()\n",
    "scaler.fit(X_train)\n",
    "\n",
    "# apply transform to training and test set\n",
    "X_train_pca = scaler.transform(X_train)\n",
    "X_test_pca = scaler.transform(X_test)\n",
    "X_val_pca = scaler.transform(X_val)\n",
    "\n",
    "# set PCA value\n",
    "pca = PCA(0.95)\n",
    "\n",
    "# fit PCA training set\n",
    "pca.fit(X_train_pca)\n",
    "\n",
    "# apply transform to training and test set\n",
    "X_train_pca = pca.transform(X_train_pca)\n",
    "X_test_pca = pca.transform(X_test_pca)\n",
    "X_val_pca = pca.transform(X_val_pca)\n",
    "print(\"X_train_pca shape:\\t\", X_train_pca.shape)\n",
    "print(\"X_test_pca shape:\\t\", X_test_pca.shape)\n",
    "print(\"X_val_pca shape:\\t\", X_val_pca.shape)\n",
    "print(\"y_train shape:\\t\", y_train.shape)\n",
    "print(\"y_val shape:\\t\", y_val.shape)\n",
    "print(\"y_test shape:\\t\", y_test.shape)"
   ]
  },
  {
   "cell_type": "code",
   "execution_count": 11,
   "metadata": {},
   "outputs": [
    {
     "name": "stdout",
     "output_type": "stream",
     "text": [
      "X_train_c_pca shape:\t (284, 6)\n",
      "X_test_c_pca shape:\t (61, 6)\n",
      "X_val_c_pca shape:\t (61, 6)\n",
      "y_train_c shape: (284,)\n",
      "y_val_c shape:\t (61,)\n",
      "y_test_c shape:\t (61,)\n"
     ]
    }
   ],
   "source": [
    "# PCA for classifier\n",
    "# fit on training set_c\n",
    "scaler = StandardScaler()\n",
    "scaler.fit(X_train_c)\n",
    "\n",
    "# apply transform to training and test set\n",
    "X_train_c_pca = scaler.transform(X_train_c)\n",
    "X_test_c_pca = scaler.transform(X_test_c)\n",
    "X_val_c_pca = scaler.transform(X_val_c)\n",
    "\n",
    "# set PCA value\n",
    "pca = PCA(0.95)\n",
    "\n",
    "# fit PCA training set\n",
    "pca.fit(X_train_c_pca)\n",
    "\n",
    "# apply transform to training and test set\n",
    "X_train_c_pca = pca.transform(X_train_c_pca)\n",
    "X_test_c_pca = pca.transform(X_test_c_pca)\n",
    "X_val_c_pca = pca.transform(X_val_c_pca)\n",
    "print(\"X_train_c_pca shape:\\t\", X_train_c_pca.shape)\n",
    "print(\"X_test_c_pca shape:\\t\", X_test_c_pca.shape)\n",
    "print(\"X_val_c_pca shape:\\t\", X_val_c_pca.shape)\n",
    "print(\"y_train_c shape:\", y_train_c.shape)\n",
    "print(\"y_val_c shape:\\t\", y_val_c.shape)\n",
    "print(\"y_test_c shape:\\t\", y_test_c.shape)"
   ]
  },
  {
   "cell_type": "markdown",
   "metadata": {},
   "source": [
    "# Multiple linear regression"
   ]
  },
  {
   "cell_type": "code",
   "execution_count": 12,
   "metadata": {},
   "outputs": [
    {
     "name": "stdout",
     "output_type": "stream",
     "text": [
      "score_multiple_reg: 0.4883\n"
     ]
    }
   ],
   "source": [
    "multiple_reg = LinearRegression().fit(X_train_pca, y_train)\n",
    "score_multiple_reg = multiple_reg.score(X_test_pca, y_test)\n",
    "print('score_multiple_reg:', \"%.4f\"%score_multiple_reg)"
   ]
  },
  {
   "cell_type": "markdown",
   "metadata": {},
   "source": [
    "# Multiple polynomial regression"
   ]
  },
  {
   "cell_type": "code",
   "execution_count": 13,
   "metadata": {},
   "outputs": [
    {
     "data": {
      "text/plain": [
       "0.4883117059552289"
      ]
     },
     "execution_count": 13,
     "metadata": {},
     "output_type": "execute_result"
    }
   ],
   "source": [
    "#to prove this is the correct polynomial regression, set degree to 1\n",
    "poly = PolynomialFeatures(1)\n",
    "# polynomial transform\n",
    "X_train_poly = poly.fit_transform(X_train_pca, y_train)\n",
    "X_val_poly = poly.fit_transform(X_val_pca,y_val)\n",
    "X_test_poly = poly.fit_transform(X_test_pca,y_test)\n",
    "\n",
    "# fit to linear regression\n",
    "polyreg = LinearRegression().fit(X_train_poly, y_train)\n",
    "\n",
    "# predict using liear regression\n",
    "score_poly_reg = polyreg.score(X_test_poly, y_test)\n",
    "score_poly_reg"
   ]
  },
  {
   "cell_type": "code",
   "execution_count": 14,
   "metadata": {
    "scrolled": true
   },
   "outputs": [
    {
     "name": "stdout",
     "output_type": "stream",
     "text": [
      "score_poly_reg, degree 2 : 0.1461\n",
      "score_poly_reg, degree 3 : -0.4796\n",
      "score_poly_reg, degree 4 : -99.4928\n",
      "score_poly_reg, degree 5 : -5031.6696\n",
      "max degree: 2\n"
     ]
    }
   ],
   "source": [
    "# use val to find the appropriate degree\n",
    "mpr = dict()\n",
    "for i in range(2,6):\n",
    "    degree=i\n",
    "    poly = PolynomialFeatures(degree)\n",
    "    # polynomial transform\n",
    "    X_train_poly = poly.fit_transform(X_train_pca, y_train)\n",
    "    X_val_poly = poly.fit_transform(X_val_pca,y_val)\n",
    "    X_test_poly = poly.fit_transform(X_test_pca,y_test)\n",
    "\n",
    "    # fit to linear regression\n",
    "    polyreg = LinearRegression().fit(X_train_poly, y_train)\n",
    "\n",
    "    # predict using liear regression\n",
    "    score_poly_reg = polyreg.score(X_val_poly, y_val)\n",
    "    print('score_poly_reg, degree',i,':', \"%.4f\"%score_poly_reg)\n",
    "    mpr[f'{i}'] = score_poly_reg\n",
    "    \n",
    "max_degree = max(mpr, key = mpr.get)\n",
    "print('max degree:', max_degree)"
   ]
  },
  {
   "cell_type": "code",
   "execution_count": 15,
   "metadata": {},
   "outputs": [
    {
     "data": {
      "text/plain": [
       "0.41955643641167384"
      ]
     },
     "execution_count": 15,
     "metadata": {},
     "output_type": "execute_result"
    }
   ],
   "source": [
    "poly = PolynomialFeatures(int(max_degree))\n",
    "# polynomial transform\n",
    "X_train_poly = poly.fit_transform(X_train_pca, y_train)\n",
    "X_val_poly = poly.fit_transform(X_val_pca,y_val)\n",
    "X_test_poly = poly.fit_transform(X_test_pca,y_test)\n",
    "\n",
    "# fit to linear regression\n",
    "polyreg = LinearRegression().fit(X_train_poly, y_train)\n",
    "\n",
    "# predict using liear regression\n",
    "score_poly_reg = polyreg.score(X_test_poly, y_test)\n",
    "score_poly_reg"
   ]
  },
  {
   "cell_type": "markdown",
   "metadata": {},
   "source": [
    "# Random forest classifier"
   ]
  },
  {
   "cell_type": "code",
   "execution_count": 16,
   "metadata": {},
   "outputs": [
    {
     "name": "stdout",
     "output_type": "stream",
     "text": [
      "max depth: 8\n"
     ]
    }
   ],
   "source": [
    "# testing for different max depth\n",
    "rfc = dict()\n",
    "for i in range (1, 15):\n",
    "    clf = RandomForestClassifier(max_depth=i, random_state=0).fit(X_train_c_pca, y_train_c)\n",
    "    y_pred = clf.predict(X_val_c_pca)\n",
    "    score_clf = accuracy_score(y_val_c, y_pred)\n",
    "    rfc[f'{i}'] = score_clf\n",
    "    #print('score_clf_',i,\":\", \"%.4f\"%score_clf)\n",
    "max_depth = max(rfc, key=rfc.get)\n",
    "print('max depth:', max_depth)"
   ]
  },
  {
   "cell_type": "code",
   "execution_count": 17,
   "metadata": {},
   "outputs": [
    {
     "name": "stdout",
     "output_type": "stream",
     "text": [
      "score_rf_clf: 0.7213\n"
     ]
    }
   ],
   "source": [
    "# choose max_depth = 4\n",
    "clf = RandomForestClassifier(max_depth=int(max_depth), random_state=0).fit(X_train_c_pca, y_train_c)\n",
    "score_rf_clf = clf.score(X_test_c_pca, y_test_c)\n",
    "print('score_rf_clf:', \"%.4f\"%score_rf_clf)"
   ]
  },
  {
   "cell_type": "markdown",
   "metadata": {},
   "source": [
    "# Random forest regressor"
   ]
  },
  {
   "cell_type": "code",
   "execution_count": 18,
   "metadata": {},
   "outputs": [
    {
     "name": "stdout",
     "output_type": "stream",
     "text": [
      "score_rf_reg: 0.2993\n"
     ]
    }
   ],
   "source": [
    "clf_reg = RandomForestRegressor().fit(X_train_pca, y_train)\n",
    "score_rf_reg = clf_reg.score(X_test_pca, y_test)\n",
    "print('score_rf_reg:', \"%.4f\"%score_rf_reg)"
   ]
  },
  {
   "cell_type": "markdown",
   "metadata": {},
   "source": [
    "# Logistic regression"
   ]
  },
  {
   "cell_type": "code",
   "execution_count": 19,
   "metadata": {},
   "outputs": [
    {
     "name": "stdout",
     "output_type": "stream",
     "text": [
      "score_logistic: 0.7705\n"
     ]
    }
   ],
   "source": [
    "logistic_model = LogisticRegression(penalty = 'l1', solver='liblinear', random_state=0).fit(X_train_c_pca, y_train_c)\n",
    "score_logistic = logistic_model.score(X_test_c_pca, y_test_c)\n",
    "print('score_logistic:', \"%.4f\"%score_logistic)"
   ]
  },
  {
   "cell_type": "markdown",
   "metadata": {},
   "source": [
    "# Gradient boosting classifier"
   ]
  },
  {
   "cell_type": "code",
   "execution_count": 20,
   "metadata": {},
   "outputs": [
    {
     "data": {
      "text/plain": [
       "0.7213114754098361"
      ]
     },
     "execution_count": 20,
     "metadata": {},
     "output_type": "execute_result"
    }
   ],
   "source": [
    "gra_clf = GradientBoostingClassifier(n_estimators = 200, learning_rate=0.50, max_depth=5, random_state=0).fit(X_train_c_pca, y_train_c)\n",
    "score_gb_clf = gra_clf.score(X_test_c_pca, y_test_c)\n",
    "score_gb_clf"
   ]
  },
  {
   "cell_type": "markdown",
   "metadata": {},
   "source": [
    "# Gradient boosting regressor "
   ]
  },
  {
   "cell_type": "code",
   "execution_count": 21,
   "metadata": {},
   "outputs": [
    {
     "data": {
      "text/plain": [
       "0.2988639984077174"
      ]
     },
     "execution_count": 21,
     "metadata": {},
     "output_type": "execute_result"
    }
   ],
   "source": [
    "gra_reg = GradientBoostingRegressor(random_state=0).fit(X_train_pca, y_train)\n",
    "score_gb_reg = gra_reg.score(X_test_pca, y_test)\n",
    "score_gb_reg"
   ]
  },
  {
   "cell_type": "markdown",
   "metadata": {},
   "source": [
    "# XGBoost classifier"
   ]
  },
  {
   "cell_type": "code",
   "execution_count": 22,
   "metadata": {},
   "outputs": [
    {
     "name": "stdout",
     "output_type": "stream",
     "text": [
      "[14:29:50] WARNING: C:/Users/Administrator/workspace/xgboost-win64_release_1.3.0/src/learner.cc:1061: Starting in XGBoost 1.3.0, the default evaluation metric used with the objective 'binary:logistic' was changed from 'error' to 'logloss'. Explicitly set eval_metric if you'd like to restore the old behavior.\n"
     ]
    },
    {
     "name": "stderr",
     "output_type": "stream",
     "text": [
      "C:\\Users\\lemon\\anaconda3\\lib\\site-packages\\xgboost\\sklearn.py:888: UserWarning: The use of label encoder in XGBClassifier is deprecated and will be removed in a future release. To remove this warning, do the following: 1) Pass option use_label_encoder=False when constructing XGBClassifier object; and 2) Encode your labels (y) as integers starting with 0, i.e. 0, 1, 2, ..., [num_class - 1].\n",
      "  warnings.warn(label_encoder_deprecation_msg, UserWarning)\n"
     ]
    },
    {
     "data": {
      "text/plain": [
       "0.7213114754098361"
      ]
     },
     "execution_count": 22,
     "metadata": {},
     "output_type": "execute_result"
    }
   ],
   "source": [
    "# TODO:这个的参数是可以调整的 https://github.com/EpistasisLab/tpot/issues/1139 \n",
    "xgb_clf = XGBClassifier().fit(X_train_c_pca, y_train_c)\n",
    "score_xgb_clf = xgb_clf.score(X_test_c_pca, y_test_c)\n",
    "score_xgb_clf"
   ]
  },
  {
   "cell_type": "markdown",
   "metadata": {},
   "source": [
    "# XGBoost regressor"
   ]
  },
  {
   "cell_type": "code",
   "execution_count": 23,
   "metadata": {},
   "outputs": [
    {
     "data": {
      "text/plain": [
       "0.21998049720317925"
      ]
     },
     "execution_count": 23,
     "metadata": {},
     "output_type": "execute_result"
    }
   ],
   "source": [
    "xgb_reg = XGBRegressor(random_state = 0).fit(X_train_pca, y_train)\n",
    "score_xgb_reg = xgb_reg.score(X_test_pca, y_test)\n",
    "score_xgb_reg"
   ]
  },
  {
   "cell_type": "markdown",
   "metadata": {},
   "source": [
    "# AdaBoost classifier"
   ]
  },
  {
   "cell_type": "code",
   "execution_count": 24,
   "metadata": {},
   "outputs": [
    {
     "data": {
      "text/plain": [
       "0.7868852459016393"
      ]
     },
     "execution_count": 24,
     "metadata": {},
     "output_type": "execute_result"
    }
   ],
   "source": [
    "adb_clf = AdaBoostClassifier().fit(X_train_c_pca, y_train_c)\n",
    "score_adb_clf = adb_clf.score(X_test_c_pca, y_test_c)\n",
    "score_adb_clf"
   ]
  },
  {
   "cell_type": "markdown",
   "metadata": {},
   "source": [
    "# AdaBoost regressor"
   ]
  },
  {
   "cell_type": "code",
   "execution_count": 25,
   "metadata": {},
   "outputs": [
    {
     "data": {
      "text/plain": [
       "0.08710383101875008"
      ]
     },
     "execution_count": 25,
     "metadata": {},
     "output_type": "execute_result"
    }
   ],
   "source": [
    "adb_reg = AdaBoostRegressor().fit(X_train_pca, y_train)\n",
    "score_adb_reg = adb_reg.score(X_test_pca, y_test)\n",
    "score_adb_reg"
   ]
  },
  {
   "cell_type": "markdown",
   "metadata": {},
   "source": [
    "# Support vector classification"
   ]
  },
  {
   "cell_type": "code",
   "execution_count": 26,
   "metadata": {},
   "outputs": [
    {
     "name": "stdout",
     "output_type": "stream",
     "text": [
      "0.7213114754098361\n",
      "0.6557377049180327\n",
      "0.6721311475409836\n"
     ]
    }
   ],
   "source": [
    "# Try different kernels\n",
    "kernels = ('linear', 'poly', 'rbf')\n",
    "\n",
    "for k in kernels:\n",
    "    svm_clf = SVC(kernel=k).fit(X_train_c_pca, y_train_c)\n",
    "    y_pred = svm_clf.predict(X_test_c_pca)\n",
    "    vars()[f'score_svc_{k}']= accuracy_score(y_test_c, y_pred)\n",
    "    \n",
    "print(score_svc_linear)\n",
    "print(score_svc_poly)\n",
    "print(score_svc_rbf)"
   ]
  },
  {
   "cell_type": "markdown",
   "metadata": {},
   "source": [
    "# Gaussian Naive Bayes"
   ]
  },
  {
   "cell_type": "code",
   "execution_count": 27,
   "metadata": {},
   "outputs": [
    {
     "name": "stdout",
     "output_type": "stream",
     "text": [
      "0.7049180327868853\n"
     ]
    }
   ],
   "source": [
    "gnb_clf = GaussianNB().fit(X_train_c_pca, y_train_c)\n",
    "score_gnb = gnb_clf.score(X_test_c_pca, y_test_c)\n",
    "print(score_gnb)"
   ]
  },
  {
   "cell_type": "markdown",
   "metadata": {},
   "source": [
    "# Neuro networks"
   ]
  },
  {
   "cell_type": "code",
   "execution_count": 28,
   "metadata": {
    "scrolled": true
   },
   "outputs": [
    {
     "name": "stdout",
     "output_type": "stream",
     "text": [
      "Epoch 1/50\n",
      "9/9 [==============================] - 1s 108ms/step - loss: 0.7718 - accuracy: 0.3897 - val_loss: 0.7835 - val_accuracy: 0.3607\n",
      "Epoch 2/50\n",
      "9/9 [==============================] - 0s 4ms/step - loss: 0.7489 - accuracy: 0.4467 - val_loss: 0.7646 - val_accuracy: 0.3607\n",
      "Epoch 3/50\n",
      "9/9 [==============================] - 0s 4ms/step - loss: 0.7494 - accuracy: 0.4537 - val_loss: 0.7460 - val_accuracy: 0.4262\n",
      "Epoch 4/50\n",
      "9/9 [==============================] - 0s 4ms/step - loss: 0.7120 - accuracy: 0.4993 - val_loss: 0.7295 - val_accuracy: 0.4426\n",
      "Epoch 5/50\n",
      "9/9 [==============================] - 0s 4ms/step - loss: 0.6886 - accuracy: 0.5550 - val_loss: 0.7121 - val_accuracy: 0.4754\n",
      "Epoch 6/50\n",
      "9/9 [==============================] - 0s 4ms/step - loss: 0.6812 - accuracy: 0.6028 - val_loss: 0.6950 - val_accuracy: 0.4918\n",
      "Epoch 7/50\n",
      "9/9 [==============================] - 0s 4ms/step - loss: 0.6648 - accuracy: 0.6070 - val_loss: 0.6798 - val_accuracy: 0.5246\n",
      "Epoch 8/50\n",
      "9/9 [==============================] - 0s 4ms/step - loss: 0.6454 - accuracy: 0.6535 - val_loss: 0.6666 - val_accuracy: 0.5738\n",
      "Epoch 9/50\n",
      "9/9 [==============================] - 0s 4ms/step - loss: 0.6593 - accuracy: 0.6159 - val_loss: 0.6546 - val_accuracy: 0.5574\n",
      "Epoch 10/50\n",
      "9/9 [==============================] - 0s 4ms/step - loss: 0.6480 - accuracy: 0.6191 - val_loss: 0.6431 - val_accuracy: 0.5738\n",
      "Epoch 11/50\n",
      "9/9 [==============================] - 0s 4ms/step - loss: 0.6179 - accuracy: 0.7119 - val_loss: 0.6330 - val_accuracy: 0.6066\n",
      "Epoch 12/50\n",
      "9/9 [==============================] - 0s 4ms/step - loss: 0.6207 - accuracy: 0.6832 - val_loss: 0.6249 - val_accuracy: 0.6393\n",
      "Epoch 13/50\n",
      "9/9 [==============================] - 0s 4ms/step - loss: 0.6164 - accuracy: 0.6605 - val_loss: 0.6160 - val_accuracy: 0.6393\n",
      "Epoch 14/50\n",
      "9/9 [==============================] - 0s 4ms/step - loss: 0.5935 - accuracy: 0.6978 - val_loss: 0.6087 - val_accuracy: 0.6721\n",
      "Epoch 15/50\n",
      "9/9 [==============================] - 0s 4ms/step - loss: 0.5942 - accuracy: 0.6987 - val_loss: 0.6032 - val_accuracy: 0.6885\n",
      "Epoch 16/50\n",
      "9/9 [==============================] - 0s 4ms/step - loss: 0.5897 - accuracy: 0.6987 - val_loss: 0.5981 - val_accuracy: 0.6885\n",
      "Epoch 17/50\n",
      "9/9 [==============================] - 0s 4ms/step - loss: 0.5845 - accuracy: 0.6903 - val_loss: 0.5926 - val_accuracy: 0.7213\n",
      "Epoch 18/50\n",
      "9/9 [==============================] - 0s 4ms/step - loss: 0.5776 - accuracy: 0.7157 - val_loss: 0.5884 - val_accuracy: 0.7377\n",
      "Epoch 19/50\n",
      "9/9 [==============================] - 0s 4ms/step - loss: 0.5873 - accuracy: 0.7080 - val_loss: 0.5843 - val_accuracy: 0.7049\n",
      "Epoch 20/50\n",
      "9/9 [==============================] - 0s 4ms/step - loss: 0.5752 - accuracy: 0.7082 - val_loss: 0.5808 - val_accuracy: 0.7049\n",
      "Epoch 21/50\n",
      "9/9 [==============================] - 0s 4ms/step - loss: 0.5674 - accuracy: 0.7193 - val_loss: 0.5776 - val_accuracy: 0.7213\n",
      "Epoch 22/50\n",
      "9/9 [==============================] - 0s 4ms/step - loss: 0.5589 - accuracy: 0.7211 - val_loss: 0.5753 - val_accuracy: 0.7213\n",
      "Epoch 23/50\n",
      "9/9 [==============================] - 0s 4ms/step - loss: 0.5635 - accuracy: 0.6872 - val_loss: 0.5733 - val_accuracy: 0.7213\n",
      "Epoch 24/50\n",
      "9/9 [==============================] - 0s 4ms/step - loss: 0.5437 - accuracy: 0.7062 - val_loss: 0.5698 - val_accuracy: 0.7213\n",
      "Epoch 25/50\n",
      "9/9 [==============================] - 0s 4ms/step - loss: 0.5416 - accuracy: 0.7328 - val_loss: 0.5680 - val_accuracy: 0.7213\n",
      "Epoch 26/50\n",
      "9/9 [==============================] - 0s 4ms/step - loss: 0.5502 - accuracy: 0.7135 - val_loss: 0.5667 - val_accuracy: 0.7049\n",
      "Epoch 27/50\n",
      "9/9 [==============================] - 0s 4ms/step - loss: 0.5327 - accuracy: 0.7226 - val_loss: 0.5652 - val_accuracy: 0.7049\n",
      "Epoch 28/50\n",
      "9/9 [==============================] - 0s 4ms/step - loss: 0.5369 - accuracy: 0.7288 - val_loss: 0.5633 - val_accuracy: 0.7049\n",
      "Epoch 29/50\n",
      "9/9 [==============================] - 0s 4ms/step - loss: 0.5437 - accuracy: 0.6833 - val_loss: 0.5626 - val_accuracy: 0.7377\n",
      "Epoch 30/50\n",
      "9/9 [==============================] - 0s 4ms/step - loss: 0.5130 - accuracy: 0.7421 - val_loss: 0.5602 - val_accuracy: 0.7377\n",
      "Epoch 31/50\n",
      "9/9 [==============================] - 0s 4ms/step - loss: 0.5443 - accuracy: 0.7207 - val_loss: 0.5592 - val_accuracy: 0.7541\n",
      "Epoch 32/50\n",
      "9/9 [==============================] - 0s 4ms/step - loss: 0.5491 - accuracy: 0.7212 - val_loss: 0.5584 - val_accuracy: 0.7541\n",
      "Epoch 33/50\n",
      "9/9 [==============================] - 0s 4ms/step - loss: 0.5773 - accuracy: 0.6833 - val_loss: 0.5581 - val_accuracy: 0.7541\n",
      "Epoch 34/50\n",
      "9/9 [==============================] - 0s 4ms/step - loss: 0.5229 - accuracy: 0.7289 - val_loss: 0.5560 - val_accuracy: 0.7541\n",
      "Epoch 35/50\n",
      "9/9 [==============================] - 0s 4ms/step - loss: 0.5334 - accuracy: 0.7337 - val_loss: 0.5544 - val_accuracy: 0.7541\n",
      "Epoch 36/50\n",
      "9/9 [==============================] - 0s 4ms/step - loss: 0.5274 - accuracy: 0.7294 - val_loss: 0.5539 - val_accuracy: 0.7541\n",
      "Epoch 37/50\n",
      "9/9 [==============================] - 0s 4ms/step - loss: 0.5236 - accuracy: 0.7381 - val_loss: 0.5530 - val_accuracy: 0.7705\n",
      "Epoch 38/50\n",
      "9/9 [==============================] - 0s 4ms/step - loss: 0.5240 - accuracy: 0.7302 - val_loss: 0.5516 - val_accuracy: 0.7705\n",
      "Epoch 39/50\n",
      "9/9 [==============================] - 0s 4ms/step - loss: 0.5509 - accuracy: 0.7257 - val_loss: 0.5510 - val_accuracy: 0.7705\n",
      "Epoch 40/50\n",
      "9/9 [==============================] - 0s 4ms/step - loss: 0.5363 - accuracy: 0.7140 - val_loss: 0.5502 - val_accuracy: 0.7705\n",
      "Epoch 41/50\n",
      "9/9 [==============================] - 0s 4ms/step - loss: 0.5421 - accuracy: 0.7317 - val_loss: 0.5479 - val_accuracy: 0.7705\n",
      "Epoch 42/50\n",
      "9/9 [==============================] - 0s 4ms/step - loss: 0.5257 - accuracy: 0.7638 - val_loss: 0.5463 - val_accuracy: 0.7869\n",
      "Epoch 43/50\n",
      "9/9 [==============================] - 0s 4ms/step - loss: 0.5408 - accuracy: 0.7182 - val_loss: 0.5461 - val_accuracy: 0.8033\n",
      "Epoch 44/50\n",
      "9/9 [==============================] - 0s 4ms/step - loss: 0.5196 - accuracy: 0.7666 - val_loss: 0.5459 - val_accuracy: 0.8033\n",
      "Epoch 45/50\n",
      "9/9 [==============================] - 0s 4ms/step - loss: 0.5045 - accuracy: 0.7678 - val_loss: 0.5451 - val_accuracy: 0.8033\n",
      "Epoch 46/50\n",
      "9/9 [==============================] - 0s 4ms/step - loss: 0.5535 - accuracy: 0.7331 - val_loss: 0.5453 - val_accuracy: 0.8033\n",
      "Epoch 47/50\n",
      "9/9 [==============================] - 0s 4ms/step - loss: 0.4563 - accuracy: 0.8012 - val_loss: 0.5444 - val_accuracy: 0.8033\n",
      "Epoch 48/50\n",
      "9/9 [==============================] - 0s 4ms/step - loss: 0.5256 - accuracy: 0.7452 - val_loss: 0.5447 - val_accuracy: 0.7869\n",
      "Epoch 49/50\n",
      "9/9 [==============================] - 0s 4ms/step - loss: 0.4932 - accuracy: 0.7798 - val_loss: 0.5435 - val_accuracy: 0.7705\n",
      "Epoch 50/50\n",
      "9/9 [==============================] - 0s 4ms/step - loss: 0.5090 - accuracy: 0.7573 - val_loss: 0.5443 - val_accuracy: 0.7705\n"
     ]
    }
   ],
   "source": [
    "# TODO: 这个地方的input_dim是不是就是X一共有多少variable\n",
    "model = keras.models.Sequential()\n",
    "model.add(keras.layers.Dense(10, input_dim=num_var, activation='relu'))\n",
    "model.add(keras.layers.Dense(5, activation='relu'))\n",
    "model.add(keras.layers.Dense(1, activation='sigmoid'))\n",
    "\n",
    "model.compile(loss='binary_crossentropy', optimizer='adam', metrics=['accuracy'])\n",
    "\n",
    "history = model.fit(X_train_c_pca, y_train_c, epochs=50, validation_data=(X_val_c_pca, y_val_c))"
   ]
  },
  {
   "cell_type": "code",
   "execution_count": 29,
   "metadata": {},
   "outputs": [
    {
     "name": "stdout",
     "output_type": "stream",
     "text": [
      "2/2 [==============================] - 0s 1ms/step - loss: 0.5014 - accuracy: 0.6885\n",
      "0.688524603843689\n"
     ]
    }
   ],
   "source": [
    "loss, score_neuro = model.evaluate(X_test_c_pca, y_test_c)\n",
    "print(score_neuro)"
   ]
  },
  {
   "cell_type": "markdown",
   "metadata": {},
   "source": [
    "# Summary"
   ]
  },
  {
   "cell_type": "code",
   "execution_count": 30,
   "metadata": {},
   "outputs": [
    {
     "data": {
      "text/html": [
       "<div>\n",
       "<style scoped>\n",
       "    .dataframe tbody tr th:only-of-type {\n",
       "        vertical-align: middle;\n",
       "    }\n",
       "\n",
       "    .dataframe tbody tr th {\n",
       "        vertical-align: top;\n",
       "    }\n",
       "\n",
       "    .dataframe thead th {\n",
       "        text-align: right;\n",
       "    }\n",
       "</style>\n",
       "<table border=\"1\" class=\"dataframe\">\n",
       "  <thead>\n",
       "    <tr style=\"text-align: right;\">\n",
       "      <th></th>\n",
       "      <th>Score</th>\n",
       "    </tr>\n",
       "    <tr>\n",
       "      <th>Regression models</th>\n",
       "      <th></th>\n",
       "    </tr>\n",
       "  </thead>\n",
       "  <tbody>\n",
       "    <tr>\n",
       "      <th>Logistic regression</th>\n",
       "      <td>0.770492</td>\n",
       "    </tr>\n",
       "    <tr>\n",
       "      <th>Multiple linear regression</th>\n",
       "      <td>0.488312</td>\n",
       "    </tr>\n",
       "    <tr>\n",
       "      <th>Multiple polynomial regression</th>\n",
       "      <td>0.419556</td>\n",
       "    </tr>\n",
       "    <tr>\n",
       "      <th>Random forest regressor</th>\n",
       "      <td>0.299276</td>\n",
       "    </tr>\n",
       "    <tr>\n",
       "      <th>Gradient boosting regressor</th>\n",
       "      <td>0.298864</td>\n",
       "    </tr>\n",
       "    <tr>\n",
       "      <th>XGBoost regressor</th>\n",
       "      <td>0.219980</td>\n",
       "    </tr>\n",
       "    <tr>\n",
       "      <th>AdaBoost regressor</th>\n",
       "      <td>0.087104</td>\n",
       "    </tr>\n",
       "  </tbody>\n",
       "</table>\n",
       "</div>"
      ],
      "text/plain": [
       "                                   Score\n",
       "Regression models                       \n",
       "Logistic regression             0.770492\n",
       "Multiple linear regression      0.488312\n",
       "Multiple polynomial regression  0.419556\n",
       "Random forest regressor         0.299276\n",
       "Gradient boosting regressor     0.298864\n",
       "XGBoost regressor               0.219980\n",
       "AdaBoost regressor              0.087104"
      ]
     },
     "execution_count": 30,
     "metadata": {},
     "output_type": "execute_result"
    }
   ],
   "source": [
    "reg = {\n",
    "    'Multiple linear regression': score_multiple_reg,\n",
    "    'Multiple polynomial regression': score_poly_reg,\n",
    "    'Logistic regression': score_logistic,\n",
    "    'Random forest regressor': score_rf_reg,\n",
    "    'Gradient boosting regressor': score_gb_reg,\n",
    "    'XGBoost regressor': score_xgb_reg,\n",
    "    'AdaBoost regressor': score_adb_reg\n",
    "}\n",
    "reg_df = pd.DataFrame.from_dict(reg, orient='index', columns = ['Score'])\n",
    "reg_df.index.name = 'Regression models'\n",
    "reg_df.sort_values(by=['Score'], ascending=False)"
   ]
  },
  {
   "cell_type": "code",
   "execution_count": 31,
   "metadata": {},
   "outputs": [
    {
     "data": {
      "text/html": [
       "<div>\n",
       "<style scoped>\n",
       "    .dataframe tbody tr th:only-of-type {\n",
       "        vertical-align: middle;\n",
       "    }\n",
       "\n",
       "    .dataframe tbody tr th {\n",
       "        vertical-align: top;\n",
       "    }\n",
       "\n",
       "    .dataframe thead th {\n",
       "        text-align: right;\n",
       "    }\n",
       "</style>\n",
       "<table border=\"1\" class=\"dataframe\">\n",
       "  <thead>\n",
       "    <tr style=\"text-align: right;\">\n",
       "      <th></th>\n",
       "      <th>Score</th>\n",
       "    </tr>\n",
       "    <tr>\n",
       "      <th>Classifier models</th>\n",
       "      <th></th>\n",
       "    </tr>\n",
       "  </thead>\n",
       "  <tbody>\n",
       "    <tr>\n",
       "      <th>AdaBoost classifier</th>\n",
       "      <td>0.786885</td>\n",
       "    </tr>\n",
       "    <tr>\n",
       "      <th>Random forest classifier</th>\n",
       "      <td>0.721311</td>\n",
       "    </tr>\n",
       "    <tr>\n",
       "      <th>Gradient boosting classifier</th>\n",
       "      <td>0.721311</td>\n",
       "    </tr>\n",
       "    <tr>\n",
       "      <th>XGBoost classifier</th>\n",
       "      <td>0.721311</td>\n",
       "    </tr>\n",
       "    <tr>\n",
       "      <th>SVC linear</th>\n",
       "      <td>0.721311</td>\n",
       "    </tr>\n",
       "    <tr>\n",
       "      <th>Gaussian naive Bayes</th>\n",
       "      <td>0.704918</td>\n",
       "    </tr>\n",
       "    <tr>\n",
       "      <th>Neuro network</th>\n",
       "      <td>0.688525</td>\n",
       "    </tr>\n",
       "    <tr>\n",
       "      <th>SVC RBF</th>\n",
       "      <td>0.672131</td>\n",
       "    </tr>\n",
       "    <tr>\n",
       "      <th>SVC polynomial</th>\n",
       "      <td>0.655738</td>\n",
       "    </tr>\n",
       "  </tbody>\n",
       "</table>\n",
       "</div>"
      ],
      "text/plain": [
       "                                 Score\n",
       "Classifier models                     \n",
       "AdaBoost classifier           0.786885\n",
       "Random forest classifier      0.721311\n",
       "Gradient boosting classifier  0.721311\n",
       "XGBoost classifier            0.721311\n",
       "SVC linear                    0.721311\n",
       "Gaussian naive Bayes          0.704918\n",
       "Neuro network                 0.688525\n",
       "SVC RBF                       0.672131\n",
       "SVC polynomial                0.655738"
      ]
     },
     "execution_count": 31,
     "metadata": {},
     "output_type": "execute_result"
    }
   ],
   "source": [
    "clf = {\n",
    "    'Random forest classifier': score_rf_clf,\n",
    "    'Gradient boosting classifier': score_gb_clf,\n",
    "    'XGBoost classifier': score_xgb_clf,\n",
    "    'AdaBoost classifier': score_adb_clf,\n",
    "    'Gaussian naive Bayes': score_gnb, \n",
    "    'SVC linear': score_svc_linear,\n",
    "    'SVC polynomial': score_svc_poly, \n",
    "    'SVC RBF': score_svc_rbf,\n",
    "    'Neuro network' : score_neuro\n",
    "}\n",
    "clf_df = pd.DataFrame.from_dict(clf, orient='index',columns = ['Score'])\n",
    "clf_df.index.name = 'Classifier models'\n",
    "clf_df.sort_values(by=['Score'], ascending=False)"
   ]
  },
  {
   "cell_type": "code",
   "execution_count": null,
   "metadata": {},
   "outputs": [],
   "source": []
  }
 ],
 "metadata": {
  "kernelspec": {
   "display_name": "Python 3",
   "language": "python",
   "name": "python3"
  },
  "language_info": {
   "codemirror_mode": {
    "name": "ipython",
    "version": 3
   },
   "file_extension": ".py",
   "mimetype": "text/x-python",
   "name": "python",
   "nbconvert_exporter": "python",
   "pygments_lexer": "ipython3",
   "version": "3.8.5"
  }
 },
 "nbformat": 4,
 "nbformat_minor": 4
}
